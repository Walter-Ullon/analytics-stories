{
 "cells": [
  {
   "cell_type": "markdown",
   "id": "a05ac088-374d-45a6-b32e-791790582dd9",
   "metadata": {},
   "source": [
    "<div class=\"alert alert-block alert-info\">\n",
    "<h2>Import packages:</h2>\n",
    "</div>"
   ]
  },
  {
   "cell_type": "code",
   "execution_count": 1,
   "id": "02b87a1e-f20c-4385-a223-51560c3770fe",
   "metadata": {},
   "outputs": [],
   "source": [
    "import pandas as pd\n",
    "import datetime as dt\n",
    "import seaborn as sns\n",
    "import plotly.express as px\n",
    "import plotly.io as pio\n",
    "pio.renderers.default = 'svg'"
   ]
  },
  {
   "cell_type": "markdown",
   "id": "c46a606a-31da-4e62-8ea3-9dce044de507",
   "metadata": {},
   "source": [
    "---"
   ]
  },
  {
   "cell_type": "markdown",
   "id": "3da36580-cecc-4bb3-ac79-0ebdfb55cfa9",
   "metadata": {},
   "source": [
    "<div class=\"alert alert-block alert-info\">\n",
    "<h2>Import Data & Explore:</h2>\n",
    "</div>"
   ]
  },
  {
   "cell_type": "code",
   "execution_count": null,
   "id": "384526fa-05a1-4de2-9005-b5f8a56a89a7",
   "metadata": {},
   "outputs": [],
   "source": [
    "retail_df = pd.read_excel('/Users/walter/Desktop/REPOS/analytics-stories/Cohort-Analysis-Retail/data/Online_Retail.xlsx')\n",
    "retail_df"
   ]
  },
  {
   "cell_type": "markdown",
   "id": "8a2e8612-2d2b-4e3d-827b-29048da9e54d",
   "metadata": {},
   "source": [
    "### Get the percent of null datapoints per column:"
   ]
  },
  {
   "cell_type": "code",
   "execution_count": null,
   "id": "c73baf3e-c370-44d6-9be0-cbeec17b830b",
   "metadata": {},
   "outputs": [],
   "source": [
    "pd.DataFrame(retail_df.isnull().mean().round(4)*100, columns=['Percent Null'])"
   ]
  },
  {
   "cell_type": "markdown",
   "id": "704bf8c5-e32f-434c-9370-ff90aaff19ef",
   "metadata": {},
   "source": [
    "<div class=\"alert alert-block alert-warning\">\n",
    "<b>Note:</b> Approximately 25% of the data is missing for the custome IDs. We will have to drop these.\n",
    "</div>"
   ]
  },
  {
   "cell_type": "code",
   "execution_count": null,
   "id": "e65b1551-35ed-47ab-9e45-337a627c9686",
   "metadata": {},
   "outputs": [],
   "source": [
    "retail_df = retail_df.dropna(subset=['CustomerID'])\n",
    "pd.DataFrame(retail_df.isnull().mean().round(4)*100, columns=['Percent Null'])"
   ]
  },
  {
   "cell_type": "markdown",
   "id": "c4e6a68b-f826-40c2-a2f4-46ab289db5c2",
   "metadata": {},
   "source": [
    "<div class=\"alert alert-block alert-success\">\n",
    "<b>Note:</b> now we have no missing records.\n",
    "</div>"
   ]
  },
  {
   "cell_type": "markdown",
   "id": "f3707e2e-5d0d-4b22-b9df-0726b813a827",
   "metadata": {},
   "source": [
    "---"
   ]
  },
  {
   "cell_type": "markdown",
   "id": "7edd9a96-0786-45be-8482-408389885fc3",
   "metadata": {},
   "source": [
    "<div class=\"alert alert-block alert-info\">\n",
    "<h2>Prepare Data for Cohort Analysis:</h2>\n",
    "</div>"
   ]
  },
  {
   "cell_type": "markdown",
   "id": "38819672-525c-46df-9c6f-e646b05f1f82",
   "metadata": {},
   "source": [
    "### Fist we build a function to handle the date formats:\n",
    "Convert the date column into a `datetime object` and then extract month and year."
   ]
  },
  {
   "cell_type": "code",
   "execution_count": null,
   "id": "fbe29604-88af-4c67-bf5b-794ed5a2b859",
   "metadata": {},
   "outputs": [],
   "source": [
    "def date_handler(df, col):\n",
    "    # Operate on a copy to avoid SettingWithCopyWarning:\n",
    "    transformed_df = df.copy()\n",
    "    \n",
    "    # Convert the date column to datetime and create new columns:\n",
    "    transformed_df[col] = pd.to_datetime(transformed_df[col])\n",
    "    \n",
    "    # Group by CustomerID and get the first purchase date:\n",
    "    first_purchase_df = transformed_df.groupby('CustomerID')[col].min().reset_index()\n",
    "    first_purchase_df.rename(columns={col: 'FirstPurchaseDate'}, inplace=True)\n",
    "    \n",
    "    # Merge to get the 'FirstPurchase' column in the main dataframe:\n",
    "    transformed_df = transformed_df.merge(first_purchase_df, how='left', on='CustomerID')\n",
    "\n",
    "    # Ensure that the 'FirstPurchaseDate' is a datetime object as well:\n",
    "    transformed_df['FirstPurchaseDate'] = pd.to_datetime(transformed_df['FirstPurchaseDate'])\n",
    "\n",
    "    # Get the number of months the user is active by subtracting the invoice date from the 1st purchase date.\n",
    "    # Ensure 'FirstPurchaseDate' is earlier than 'InvoiceDate' before subtracting to get 'MonthsActive':\n",
    "    transformed_df['MonthsActive'] = (\n",
    "        (transformed_df['InvoiceDate'].dt.year - transformed_df['FirstPurchaseDate'].dt.year) * 12\n",
    "        + (transformed_df['InvoiceDate'].dt.month - transformed_df['FirstPurchaseDate'].dt.month) + 1\n",
    "    )\n",
    "\n",
    "    # # If the day of 'InvoiceDate' is earlier than the day of 'FirstPurchaseDate', subtract one month:\n",
    "    # mask = transformed_df['InvoiceDate'].dt.day < transformed_df['FirstPurchaseDate'].dt.day\n",
    "    # transformed_df.loc[mask, 'MonthsActive'] -= 1\n",
    "\n",
    "    # # Ensure 'MonthsActive' is not negative (do zero if so)\n",
    "    # transformed_df['MonthsActive'] = transformed_df['MonthsActive'].clip(lower=0)\n",
    "\n",
    "    # Create Cohort Month column:\n",
    "    transformed_df['CohortMonth'] = (transformed_df['FirstPurchaseDate'].dt.year.astype(str)\n",
    "                                    + '-' + transformed_df['FirstPurchaseDate'].dt.month.astype(str).str.zfill(2))\n",
    "\n",
    "    return transformed_df\n"
   ]
  },
  {
   "cell_type": "code",
   "execution_count": null,
   "id": "96f4962f-cb13-48b7-a2b3-df42f8c618da",
   "metadata": {},
   "outputs": [],
   "source": [
    "retail_df = date_handler(retail_df, 'InvoiceDate')\n",
    "retail_df"
   ]
  },
  {
   "cell_type": "markdown",
   "id": "54035199-ee8c-4ef6-a881-ca587651335d",
   "metadata": {},
   "source": [
    "---"
   ]
  },
  {
   "cell_type": "markdown",
   "id": "05180538-795b-43c9-95ad-53a2466ed579",
   "metadata": {},
   "source": [
    "<div class=\"alert alert-block alert-info\">\n",
    "<h2>Create Cohort table:</h2>\n",
    "</div>"
   ]
  },
  {
   "cell_type": "markdown",
   "id": "324119ee-7666-48f5-9cf7-3cdde8c9994e",
   "metadata": {},
   "source": [
    "### First group by CohortMonth and #of months active to get the count of unique customers for that cohort month and active month combination:"
   ]
  },
  {
   "cell_type": "code",
   "execution_count": null,
   "id": "6eb4684c-c1a6-449b-a39f-4b5c2610fa23",
   "metadata": {},
   "outputs": [],
   "source": [
    "cohort_df = retail_df.groupby(['CohortMonth', 'MonthsActive'])['CustomerID'].nunique().reset_index().rename(columns={'CustomerID': 'UniqueCustomers'})\n",
    "cohort_df"
   ]
  },
  {
   "cell_type": "markdown",
   "id": "47a32a98-9082-4a55-b389-e6099fbef643",
   "metadata": {},
   "source": [
    "### Create a cohort table by pivoting on the grouped dataframe from the previous step:"
   ]
  },
  {
   "cell_type": "code",
   "execution_count": null,
   "id": "875d8178-50cd-4002-b3a4-dbe8bab8af66",
   "metadata": {},
   "outputs": [],
   "source": [
    "cohort_table = pd.pivot_table(data=cohort_df, columns='MonthsActive', index='CohortMonth', values='UniqueCustomers')\n",
    "cohort_table.fillna('')"
   ]
  },
  {
   "cell_type": "markdown",
   "id": "decf5888-636f-4873-bef4-89d45d43a69a",
   "metadata": {},
   "source": [
    "### We can get the percent of each cohort that remains per active month:"
   ]
  },
  {
   "cell_type": "code",
   "execution_count": null,
   "id": "c9249465-61a2-4d76-8928-2a405ab03756",
   "metadata": {},
   "outputs": [],
   "source": [
    "cohort_table_percent = (cohort_table.divide(cohort_table.iloc[:, 0], axis=0)*100).round()\n",
    "cohort_table_percent.fillna('')"
   ]
  },
  {
   "cell_type": "code",
   "execution_count": null,
   "id": "0e79ef73-94b2-41fc-9e7b-a3f334f0ef0b",
   "metadata": {},
   "outputs": [],
   "source": []
  },
  {
   "cell_type": "markdown",
   "id": "69fe9eae-31e6-42df-bb9a-8d57e6b036bd",
   "metadata": {},
   "source": [
    "---"
   ]
  },
  {
   "cell_type": "markdown",
   "id": "f277a225-7965-453c-a6af-5878c88becd1",
   "metadata": {},
   "source": [
    "<div class=\"alert alert-block alert-info\">\n",
    "<h2>Visualize Cohort table:</h2>\n",
    "</div>"
   ]
  },
  {
   "cell_type": "markdown",
   "id": "d87499ff-f49d-4fc7-b7a6-c96ec5052a3d",
   "metadata": {},
   "source": [
    "### Create a function to plot the cohort table:"
   ]
  },
  {
   "cell_type": "code",
   "execution_count": null,
   "id": "727325eb-1beb-4869-a3d0-0a5cbe5c74cb",
   "metadata": {},
   "outputs": [],
   "source": [
    "def plot_cohort_table(df, heat_legend, colormap):\n",
    "    # Convert the percentage values to a formatted string\n",
    "    text_values = df.map('{:.2f}%'.format)\n",
    "    \n",
    "    # Create the heatmap with Plotly Express and display cell values\n",
    "    fig = px.imshow(\n",
    "        df,\n",
    "        labels=dict(x=\"Months Active\", y=\"Cohort Month\", color=heat_legend),\n",
    "        x=df.columns,\n",
    "        y=df.index,\n",
    "        text_auto=True,  # You can set this to False if you're providing z_text\n",
    "        # If you want specific formatting or to use the text_values from above, comment out text_auto and use:\n",
    "        # z_text=text_values.values,\n",
    "        color_continuous_scale=colormap\n",
    "    )\n",
    "    \n",
    "    # Update the layout\n",
    "    fig.update_layout(\n",
    "        title='Cohort Analysis',\n",
    "        xaxis=dict(side=\"bottom\", tickvals=df.columns),\n",
    "        yaxis=dict(tickvals=df.index),\n",
    "        height=800\n",
    "    )\n",
    "    \n",
    "    # Show the figure\n",
    "    return fig.show(width=1600)\n",
    "    "
   ]
  },
  {
   "cell_type": "markdown",
   "id": "ebe97541-b377-41a9-b912-84de73f444ff",
   "metadata": {},
   "source": [
    "### Plot:"
   ]
  },
  {
   "cell_type": "code",
   "execution_count": null,
   "id": "b44d33bb-7eac-419e-bd74-0405f5cb6083",
   "metadata": {},
   "outputs": [],
   "source": [
    "plot_cohort_table(cohort_table_percent, 'Percent Active', 'Reds')"
   ]
  },
  {
   "cell_type": "markdown",
   "id": "37922fc5-a766-439c-b437-23da785f95ad",
   "metadata": {},
   "source": [
    "---"
   ]
  },
  {
   "cell_type": "markdown",
   "id": "281efe43-d32e-4ece-8ca6-22840254eb3c",
   "metadata": {},
   "source": [
    "<div class=\"alert alert-block alert-info\">\n",
    "<h2>Let's create a similar table but we are going to look at the cohort LTV this time:</h2>\n",
    "</div>"
   ]
  },
  {
   "cell_type": "markdown",
   "id": "cfa3e5d9-6e2c-453f-add7-0dd2cd697fba",
   "metadata": {},
   "source": [
    "### Begin with the preprocessed retail_df and go from there:"
   ]
  },
  {
   "cell_type": "code",
   "execution_count": null,
   "id": "f8d33669-cc46-449a-9630-150178617bb6",
   "metadata": {},
   "outputs": [],
   "source": [
    "retail_df"
   ]
  },
  {
   "cell_type": "markdown",
   "id": "9cf62135-71f2-4b02-bb1c-0c38a100e6fa",
   "metadata": {},
   "source": [
    "### Calculate the order total from unit price and quantity:"
   ]
  },
  {
   "cell_type": "code",
   "execution_count": null,
   "id": "f55be3a8-d586-40a7-b31e-0443c256d76d",
   "metadata": {},
   "outputs": [],
   "source": [
    "retail_df['OrderTotal'] = retail_df['UnitPrice']*retail_df['Quantity']\n",
    "retail_df"
   ]
  },
  {
   "cell_type": "markdown",
   "id": "07ac8aa3-9ba1-44ab-b796-293830dcdaf0",
   "metadata": {},
   "source": [
    "### First group by CohortMonth and #of months active to get the sum of OrderTotal for that cohort month and active month combination:"
   ]
  },
  {
   "cell_type": "code",
   "execution_count": null,
   "id": "4468c28f-05dd-4cd0-80ba-04938eea0109",
   "metadata": {},
   "outputs": [],
   "source": [
    "cohort_ltv_df = retail_df.groupby(['CohortMonth', 'MonthsActive']).agg(\n",
    "    TotalOrderValue=('OrderTotal', 'sum'),\n",
    "    UniqueCustomers=('CustomerID', 'nunique')).reset_index()\n",
    "cohort_ltv_df"
   ]
  },
  {
   "cell_type": "markdown",
   "id": "11e8f2c7-c00d-469f-b154-bf73b8332c53",
   "metadata": {},
   "source": [
    "### Get the average order value per customer for each of the cohort months and months active:"
   ]
  },
  {
   "cell_type": "code",
   "execution_count": null,
   "id": "c0f519cc-04f4-41fc-8b31-a4dbff6f627d",
   "metadata": {},
   "outputs": [],
   "source": [
    "cohort_ltv_df['AvgCohortOrderValue'] = (cohort_ltv_df['TotalOrderValue']/cohort_ltv_df['UniqueCustomers']).round(2)\n",
    "cohort_ltv_df"
   ]
  },
  {
   "cell_type": "markdown",
   "id": "ae6cd76f-b0d1-458e-91fc-2cfd5b071c3f",
   "metadata": {},
   "source": [
    "<div class=\"alert alert-block alert-info\">\n",
    "<h2>Build Cohort LTV table:</h2>\n",
    "</div>"
   ]
  },
  {
   "cell_type": "markdown",
   "id": "9d13181d-dd27-4481-ae45-21d6e158eeb0",
   "metadata": {},
   "source": [
    "### Create a pivot table:"
   ]
  },
  {
   "cell_type": "code",
   "execution_count": null,
   "id": "50714d0e-9735-4be1-a7eb-3052c7a87fce",
   "metadata": {},
   "outputs": [],
   "source": [
    "cohort_ltv_table = pd.pivot_table(data=cohort_ltv_df, columns='MonthsActive', index='CohortMonth', values='AvgCohortOrderValue')\n",
    "cohort_ltv_table.fillna('')"
   ]
  },
  {
   "cell_type": "markdown",
   "id": "ae7ecd1e-96da-466f-8fc1-24315447c1c2",
   "metadata": {},
   "source": [
    "### Plot to see avg. order for each cohort and month active combination:"
   ]
  },
  {
   "cell_type": "code",
   "execution_count": null,
   "id": "4769ce08-84df-41a3-a161-744075fe1b06",
   "metadata": {},
   "outputs": [],
   "source": [
    "plot_cohort_table(cohort_ltv_table, 'Cohort Avg. Order', 'Reds')"
   ]
  },
  {
   "cell_type": "markdown",
   "id": "25301567-56e2-4cce-b95b-6b12eea5ddbd",
   "metadata": {},
   "source": [
    "### Get the cumulative sum for each cohort month and months active:"
   ]
  },
  {
   "cell_type": "code",
   "execution_count": null,
   "id": "23bbdba7-5dcf-428e-a2e6-0b7378f01e13",
   "metadata": {},
   "outputs": [],
   "source": [
    "cohort_ltv_cumulative = cohort_ltv_table.cumsum(axis=1)\n",
    "cohort_ltv_cumulative.fillna('')"
   ]
  },
  {
   "cell_type": "markdown",
   "id": "2d22f38f-a677-4f1f-a8ee-99aa75d79fc1",
   "metadata": {},
   "source": [
    "### Plot cumulative sum table to get the LTV of each cohort and months active combination:"
   ]
  },
  {
   "cell_type": "code",
   "execution_count": null,
   "id": "4b6d393c-38f3-4231-8536-7fb023662860",
   "metadata": {},
   "outputs": [],
   "source": [
    "plot_cohort_table(cohort_ltv_cumulative, 'Cohort LTV', 'Reds')"
   ]
  },
  {
   "cell_type": "code",
   "execution_count": null,
   "id": "bd615dcd-2ea6-4c7e-90ac-ba0b2d76056a",
   "metadata": {},
   "outputs": [],
   "source": []
  }
 ],
 "metadata": {
  "kernelspec": {
   "display_name": "Python 3 (ipykernel)",
   "language": "python",
   "name": "python3"
  },
  "language_info": {
   "codemirror_mode": {
    "name": "ipython",
    "version": 3
   },
   "file_extension": ".py",
   "mimetype": "text/x-python",
   "name": "python",
   "nbconvert_exporter": "python",
   "pygments_lexer": "ipython3",
   "version": "3.11.8"
  }
 },
 "nbformat": 4,
 "nbformat_minor": 5
}
