{
 "cells": [
  {
   "cell_type": "code",
   "execution_count": 69,
   "id": "3dc837b2-6f31-4972-a0e6-1d6f27183177",
   "metadata": {},
   "outputs": [],
   "source": [
    "import pandas as pd\n",
    "import plotly.express as px\n",
    "import plotly.graph_objects as go\n",
    "import seaborn as sns"
   ]
  },
  {
   "cell_type": "markdown",
   "id": "596e7364-231a-4ee4-8699-e70780dd8004",
   "metadata": {},
   "source": [
    "---\n",
    "## Import Data"
   ]
  },
  {
   "cell_type": "code",
   "execution_count": 5,
   "id": "4fe4d6f8-7dd4-4ed8-862c-07475b905b1b",
   "metadata": {},
   "outputs": [
    {
     "data": {
      "text/html": [
       "<div>\n",
       "<style scoped>\n",
       "    .dataframe tbody tr th:only-of-type {\n",
       "        vertical-align: middle;\n",
       "    }\n",
       "\n",
       "    .dataframe tbody tr th {\n",
       "        vertical-align: top;\n",
       "    }\n",
       "\n",
       "    .dataframe thead th {\n",
       "        text-align: right;\n",
       "    }\n",
       "</style>\n",
       "<table border=\"1\" class=\"dataframe\">\n",
       "  <thead>\n",
       "    <tr style=\"text-align: right;\">\n",
       "      <th></th>\n",
       "      <th>Diagnosis</th>\n",
       "      <th>InitialPCRDiagnosis</th>\n",
       "      <th>Age</th>\n",
       "      <th>Sex</th>\n",
       "      <th>neutrophil</th>\n",
       "      <th>serumLevelsOfWhiteBloodCell</th>\n",
       "      <th>lymphocytes</th>\n",
       "      <th>CReactiveProteinLevels</th>\n",
       "      <th>DurationOfIllness</th>\n",
       "      <th>CTscanResults</th>\n",
       "      <th>RiskFactors</th>\n",
       "      <th>GroundGlassOpacity</th>\n",
       "      <th>Diarrhea</th>\n",
       "      <th>Fever</th>\n",
       "      <th>Coughing</th>\n",
       "      <th>ShortnessOfBreath</th>\n",
       "      <th>SoreThroat</th>\n",
       "      <th>NauseaVomitting</th>\n",
       "      <th>Temperature</th>\n",
       "      <th>Fatigue</th>\n",
       "    </tr>\n",
       "  </thead>\n",
       "  <tbody>\n",
       "    <tr>\n",
       "      <th>0</th>\n",
       "      <td>H1N1</td>\n",
       "      <td>NaN</td>\n",
       "      <td>67.00</td>\n",
       "      <td>F</td>\n",
       "      <td>NaN</td>\n",
       "      <td>NaN</td>\n",
       "      <td>NaN</td>\n",
       "      <td>NaN</td>\n",
       "      <td>NaN</td>\n",
       "      <td>NaN</td>\n",
       "      <td>NaN</td>\n",
       "      <td>NaN</td>\n",
       "      <td>NaN</td>\n",
       "      <td>Yes</td>\n",
       "      <td>Yes</td>\n",
       "      <td>NaN</td>\n",
       "      <td>No</td>\n",
       "      <td>NaN</td>\n",
       "      <td>38.111111</td>\n",
       "      <td>No</td>\n",
       "    </tr>\n",
       "    <tr>\n",
       "      <th>1</th>\n",
       "      <td>H1N1</td>\n",
       "      <td>NaN</td>\n",
       "      <td>29.00</td>\n",
       "      <td>M</td>\n",
       "      <td>NaN</td>\n",
       "      <td>NaN</td>\n",
       "      <td>NaN</td>\n",
       "      <td>NaN</td>\n",
       "      <td>NaN</td>\n",
       "      <td>NaN</td>\n",
       "      <td>NaN</td>\n",
       "      <td>NaN</td>\n",
       "      <td>NaN</td>\n",
       "      <td>NaN</td>\n",
       "      <td>NaN</td>\n",
       "      <td>NaN</td>\n",
       "      <td>NaN</td>\n",
       "      <td>NaN</td>\n",
       "      <td>NaN</td>\n",
       "      <td>NaN</td>\n",
       "    </tr>\n",
       "    <tr>\n",
       "      <th>2</th>\n",
       "      <td>H1N1</td>\n",
       "      <td>NaN</td>\n",
       "      <td>22.00</td>\n",
       "      <td>F</td>\n",
       "      <td>NaN</td>\n",
       "      <td>NaN</td>\n",
       "      <td>NaN</td>\n",
       "      <td>NaN</td>\n",
       "      <td>NaN</td>\n",
       "      <td>NaN</td>\n",
       "      <td>NaN</td>\n",
       "      <td>NaN</td>\n",
       "      <td>NaN</td>\n",
       "      <td>NaN</td>\n",
       "      <td>NaN</td>\n",
       "      <td>NaN</td>\n",
       "      <td>NaN</td>\n",
       "      <td>NaN</td>\n",
       "      <td>NaN</td>\n",
       "      <td>NaN</td>\n",
       "    </tr>\n",
       "    <tr>\n",
       "      <th>3</th>\n",
       "      <td>H1N1</td>\n",
       "      <td>NaN</td>\n",
       "      <td>20.00</td>\n",
       "      <td>F</td>\n",
       "      <td>NaN</td>\n",
       "      <td>NaN</td>\n",
       "      <td>NaN</td>\n",
       "      <td>NaN</td>\n",
       "      <td>NaN</td>\n",
       "      <td>NaN</td>\n",
       "      <td>immuno</td>\n",
       "      <td>NaN</td>\n",
       "      <td>NaN</td>\n",
       "      <td>Yes</td>\n",
       "      <td>Yes</td>\n",
       "      <td>NaN</td>\n",
       "      <td>No</td>\n",
       "      <td>NaN</td>\n",
       "      <td>36.555556</td>\n",
       "      <td>Yes</td>\n",
       "    </tr>\n",
       "    <tr>\n",
       "      <th>4</th>\n",
       "      <td>H1N1</td>\n",
       "      <td>NaN</td>\n",
       "      <td>21.00</td>\n",
       "      <td>M</td>\n",
       "      <td>NaN</td>\n",
       "      <td>NaN</td>\n",
       "      <td>NaN</td>\n",
       "      <td>NaN</td>\n",
       "      <td>NaN</td>\n",
       "      <td>NaN</td>\n",
       "      <td>NaN</td>\n",
       "      <td>NaN</td>\n",
       "      <td>NaN</td>\n",
       "      <td>NaN</td>\n",
       "      <td>NaN</td>\n",
       "      <td>NaN</td>\n",
       "      <td>NaN</td>\n",
       "      <td>NaN</td>\n",
       "      <td>NaN</td>\n",
       "      <td>NaN</td>\n",
       "    </tr>\n",
       "    <tr>\n",
       "      <th>...</th>\n",
       "      <td>...</td>\n",
       "      <td>...</td>\n",
       "      <td>...</td>\n",
       "      <td>...</td>\n",
       "      <td>...</td>\n",
       "      <td>...</td>\n",
       "      <td>...</td>\n",
       "      <td>...</td>\n",
       "      <td>...</td>\n",
       "      <td>...</td>\n",
       "      <td>...</td>\n",
       "      <td>...</td>\n",
       "      <td>...</td>\n",
       "      <td>...</td>\n",
       "      <td>...</td>\n",
       "      <td>...</td>\n",
       "      <td>...</td>\n",
       "      <td>...</td>\n",
       "      <td>...</td>\n",
       "      <td>...</td>\n",
       "    </tr>\n",
       "    <tr>\n",
       "      <th>1477</th>\n",
       "      <td>COVID19</td>\n",
       "      <td>NaN</td>\n",
       "      <td>1.40</td>\n",
       "      <td>NaN</td>\n",
       "      <td>NaN</td>\n",
       "      <td>9.2</td>\n",
       "      <td>NaN</td>\n",
       "      <td>9.4</td>\n",
       "      <td>NaN</td>\n",
       "      <td>NaN</td>\n",
       "      <td>NaN</td>\n",
       "      <td>NaN</td>\n",
       "      <td>NaN</td>\n",
       "      <td>NaN</td>\n",
       "      <td>NaN</td>\n",
       "      <td>NaN</td>\n",
       "      <td>NaN</td>\n",
       "      <td>NaN</td>\n",
       "      <td>NaN</td>\n",
       "      <td>NaN</td>\n",
       "    </tr>\n",
       "    <tr>\n",
       "      <th>1478</th>\n",
       "      <td>COVID19</td>\n",
       "      <td>NaN</td>\n",
       "      <td>0.83</td>\n",
       "      <td>NaN</td>\n",
       "      <td>NaN</td>\n",
       "      <td>14.8</td>\n",
       "      <td>NaN</td>\n",
       "      <td>0.9</td>\n",
       "      <td>NaN</td>\n",
       "      <td>NaN</td>\n",
       "      <td>NaN</td>\n",
       "      <td>NaN</td>\n",
       "      <td>NaN</td>\n",
       "      <td>NaN</td>\n",
       "      <td>NaN</td>\n",
       "      <td>NaN</td>\n",
       "      <td>NaN</td>\n",
       "      <td>NaN</td>\n",
       "      <td>NaN</td>\n",
       "      <td>NaN</td>\n",
       "    </tr>\n",
       "    <tr>\n",
       "      <th>1479</th>\n",
       "      <td>COVID19</td>\n",
       "      <td>NaN</td>\n",
       "      <td>3.00</td>\n",
       "      <td>NaN</td>\n",
       "      <td>NaN</td>\n",
       "      <td>15.0</td>\n",
       "      <td>NaN</td>\n",
       "      <td>0.7</td>\n",
       "      <td>NaN</td>\n",
       "      <td>NaN</td>\n",
       "      <td>NaN</td>\n",
       "      <td>NaN</td>\n",
       "      <td>NaN</td>\n",
       "      <td>NaN</td>\n",
       "      <td>NaN</td>\n",
       "      <td>NaN</td>\n",
       "      <td>NaN</td>\n",
       "      <td>NaN</td>\n",
       "      <td>NaN</td>\n",
       "      <td>NaN</td>\n",
       "    </tr>\n",
       "    <tr>\n",
       "      <th>1480</th>\n",
       "      <td>COVID19</td>\n",
       "      <td>NaN</td>\n",
       "      <td>4.00</td>\n",
       "      <td>NaN</td>\n",
       "      <td>NaN</td>\n",
       "      <td>6.6</td>\n",
       "      <td>NaN</td>\n",
       "      <td>0.2</td>\n",
       "      <td>NaN</td>\n",
       "      <td>NaN</td>\n",
       "      <td>NaN</td>\n",
       "      <td>NaN</td>\n",
       "      <td>NaN</td>\n",
       "      <td>NaN</td>\n",
       "      <td>NaN</td>\n",
       "      <td>NaN</td>\n",
       "      <td>NaN</td>\n",
       "      <td>NaN</td>\n",
       "      <td>NaN</td>\n",
       "      <td>NaN</td>\n",
       "    </tr>\n",
       "    <tr>\n",
       "      <th>1481</th>\n",
       "      <td>COVID19</td>\n",
       "      <td>NaN</td>\n",
       "      <td>6.00</td>\n",
       "      <td>NaN</td>\n",
       "      <td>NaN</td>\n",
       "      <td>5.3</td>\n",
       "      <td>NaN</td>\n",
       "      <td>0.6</td>\n",
       "      <td>NaN</td>\n",
       "      <td>NaN</td>\n",
       "      <td>NaN</td>\n",
       "      <td>NaN</td>\n",
       "      <td>NaN</td>\n",
       "      <td>NaN</td>\n",
       "      <td>NaN</td>\n",
       "      <td>NaN</td>\n",
       "      <td>NaN</td>\n",
       "      <td>NaN</td>\n",
       "      <td>NaN</td>\n",
       "      <td>NaN</td>\n",
       "    </tr>\n",
       "  </tbody>\n",
       "</table>\n",
       "<p>1482 rows × 20 columns</p>\n",
       "</div>"
      ],
      "text/plain": [
       "     Diagnosis InitialPCRDiagnosis    Age  Sex  neutrophil  \\\n",
       "0         H1N1                 NaN  67.00    F         NaN   \n",
       "1         H1N1                 NaN  29.00    M         NaN   \n",
       "2         H1N1                 NaN  22.00    F         NaN   \n",
       "3         H1N1                 NaN  20.00    F         NaN   \n",
       "4         H1N1                 NaN  21.00    M         NaN   \n",
       "...        ...                 ...    ...  ...         ...   \n",
       "1477   COVID19                 NaN   1.40  NaN         NaN   \n",
       "1478   COVID19                 NaN   0.83  NaN         NaN   \n",
       "1479   COVID19                 NaN   3.00  NaN         NaN   \n",
       "1480   COVID19                 NaN   4.00  NaN         NaN   \n",
       "1481   COVID19                 NaN   6.00  NaN         NaN   \n",
       "\n",
       "      serumLevelsOfWhiteBloodCell  lymphocytes CReactiveProteinLevels  \\\n",
       "0                             NaN          NaN                    NaN   \n",
       "1                             NaN          NaN                    NaN   \n",
       "2                             NaN          NaN                    NaN   \n",
       "3                             NaN          NaN                    NaN   \n",
       "4                             NaN          NaN                    NaN   \n",
       "...                           ...          ...                    ...   \n",
       "1477                          9.2          NaN                    9.4   \n",
       "1478                         14.8          NaN                    0.9   \n",
       "1479                         15.0          NaN                    0.7   \n",
       "1480                          6.6          NaN                    0.2   \n",
       "1481                          5.3          NaN                    0.6   \n",
       "\n",
       "      DurationOfIllness CTscanResults RiskFactors GroundGlassOpacity Diarrhea  \\\n",
       "0                   NaN           NaN         NaN                NaN      NaN   \n",
       "1                   NaN           NaN         NaN                NaN      NaN   \n",
       "2                   NaN           NaN         NaN                NaN      NaN   \n",
       "3                   NaN           NaN      immuno                NaN      NaN   \n",
       "4                   NaN           NaN         NaN                NaN      NaN   \n",
       "...                 ...           ...         ...                ...      ...   \n",
       "1477                NaN           NaN         NaN                NaN      NaN   \n",
       "1478                NaN           NaN         NaN                NaN      NaN   \n",
       "1479                NaN           NaN         NaN                NaN      NaN   \n",
       "1480                NaN           NaN         NaN                NaN      NaN   \n",
       "1481                NaN           NaN         NaN                NaN      NaN   \n",
       "\n",
       "     Fever Coughing ShortnessOfBreath SoreThroat NauseaVomitting  Temperature  \\\n",
       "0      Yes      Yes               NaN         No             NaN    38.111111   \n",
       "1      NaN      NaN               NaN        NaN             NaN          NaN   \n",
       "2      NaN      NaN               NaN        NaN             NaN          NaN   \n",
       "3      Yes      Yes               NaN         No             NaN    36.555556   \n",
       "4      NaN      NaN               NaN        NaN             NaN          NaN   \n",
       "...    ...      ...               ...        ...             ...          ...   \n",
       "1477   NaN      NaN               NaN        NaN             NaN          NaN   \n",
       "1478   NaN      NaN               NaN        NaN             NaN          NaN   \n",
       "1479   NaN      NaN               NaN        NaN             NaN          NaN   \n",
       "1480   NaN      NaN               NaN        NaN             NaN          NaN   \n",
       "1481   NaN      NaN               NaN        NaN             NaN          NaN   \n",
       "\n",
       "     Fatigue  \n",
       "0         No  \n",
       "1        NaN  \n",
       "2        NaN  \n",
       "3        Yes  \n",
       "4        NaN  \n",
       "...      ...  \n",
       "1477     NaN  \n",
       "1478     NaN  \n",
       "1479     NaN  \n",
       "1480     NaN  \n",
       "1481     NaN  \n",
       "\n",
       "[1482 rows x 20 columns]"
      ]
     },
     "execution_count": 5,
     "metadata": {},
     "output_type": "execute_result"
    }
   ],
   "source": [
    "covid_df = pd.read_csv(\"/Users/walter/Desktop/REPOS/jupyter-notebooks/data/covid_flu.csv\")\n",
    "covid_df"
   ]
  },
  {
   "cell_type": "markdown",
   "id": "c7f7ae4d-1779-4266-8a7e-b4803eba07b1",
   "metadata": {},
   "source": [
    "---\n",
    "## Explore the Data"
   ]
  },
  {
   "cell_type": "code",
   "execution_count": 11,
   "id": "6dc04476-680a-4700-ba49-e621de1d1dc0",
   "metadata": {},
   "outputs": [
    {
     "name": "stdout",
     "output_type": "stream",
     "text": [
      "<class 'pandas.core.frame.DataFrame'>\n",
      "RangeIndex: 1482 entries, 0 to 1481\n",
      "Data columns (total 20 columns):\n",
      " #   Column                       Non-Null Count  Dtype  \n",
      "---  ------                       --------------  -----  \n",
      " 0   Diagnosis                    1482 non-null   object \n",
      " 1   InitialPCRDiagnosis          104 non-null    object \n",
      " 2   Age                          1454 non-null   float64\n",
      " 3   Sex                          1406 non-null   object \n",
      " 4   neutrophil                   103 non-null    float64\n",
      " 5   serumLevelsOfWhiteBloodCell  151 non-null    float64\n",
      " 6   lymphocytes                  156 non-null    float64\n",
      " 7   CReactiveProteinLevels       137 non-null    object \n",
      " 8   DurationOfIllness            87 non-null     float64\n",
      " 9   CTscanResults                159 non-null    object \n",
      " 10  RiskFactors                  209 non-null    object \n",
      " 11  GroundGlassOpacity           93 non-null     object \n",
      " 12  Diarrhea                     450 non-null    object \n",
      " 13  Fever                        923 non-null    object \n",
      " 14  Coughing                     859 non-null    object \n",
      " 15  ShortnessOfBreath            75 non-null     object \n",
      " 16  SoreThroat                   670 non-null    object \n",
      " 17  NauseaVomitting              421 non-null    object \n",
      " 18  Temperature                  628 non-null    float64\n",
      " 19  Fatigue                      531 non-null    object \n",
      "dtypes: float64(6), object(14)\n",
      "memory usage: 231.7+ KB\n"
     ]
    }
   ],
   "source": [
    "covid_df.info()"
   ]
  },
  {
   "cell_type": "markdown",
   "id": "ecb45029-19f7-4e3d-97af-ba71e203db64",
   "metadata": {},
   "source": [
    "### Get percentage of Nulls for each feature"
   ]
  },
  {
   "cell_type": "code",
   "execution_count": 88,
   "id": "ea16e2bf-c8f6-4a16-addf-84c809c43129",
   "metadata": {},
   "outputs": [
    {
     "data": {
      "text/html": [
       "<div>\n",
       "<style scoped>\n",
       "    .dataframe tbody tr th:only-of-type {\n",
       "        vertical-align: middle;\n",
       "    }\n",
       "\n",
       "    .dataframe tbody tr th {\n",
       "        vertical-align: top;\n",
       "    }\n",
       "\n",
       "    .dataframe thead th {\n",
       "        text-align: right;\n",
       "    }\n",
       "</style>\n",
       "<table border=\"1\" class=\"dataframe\">\n",
       "  <thead>\n",
       "    <tr style=\"text-align: right;\">\n",
       "      <th></th>\n",
       "      <th>Percent Null</th>\n",
       "    </tr>\n",
       "  </thead>\n",
       "  <tbody>\n",
       "    <tr>\n",
       "      <th>Diagnosis</th>\n",
       "      <td>0.00</td>\n",
       "    </tr>\n",
       "    <tr>\n",
       "      <th>InitialPCRDiagnosis</th>\n",
       "      <td>92.98</td>\n",
       "    </tr>\n",
       "    <tr>\n",
       "      <th>Age</th>\n",
       "      <td>1.89</td>\n",
       "    </tr>\n",
       "    <tr>\n",
       "      <th>Sex</th>\n",
       "      <td>5.13</td>\n",
       "    </tr>\n",
       "    <tr>\n",
       "      <th>neutrophil</th>\n",
       "      <td>93.05</td>\n",
       "    </tr>\n",
       "    <tr>\n",
       "      <th>serumLevelsOfWhiteBloodCell</th>\n",
       "      <td>89.81</td>\n",
       "    </tr>\n",
       "    <tr>\n",
       "      <th>lymphocytes</th>\n",
       "      <td>89.47</td>\n",
       "    </tr>\n",
       "    <tr>\n",
       "      <th>CReactiveProteinLevels</th>\n",
       "      <td>90.76</td>\n",
       "    </tr>\n",
       "    <tr>\n",
       "      <th>DurationOfIllness</th>\n",
       "      <td>94.13</td>\n",
       "    </tr>\n",
       "    <tr>\n",
       "      <th>CTscanResults</th>\n",
       "      <td>89.27</td>\n",
       "    </tr>\n",
       "    <tr>\n",
       "      <th>RiskFactors</th>\n",
       "      <td>85.90</td>\n",
       "    </tr>\n",
       "    <tr>\n",
       "      <th>GroundGlassOpacity</th>\n",
       "      <td>93.72</td>\n",
       "    </tr>\n",
       "    <tr>\n",
       "      <th>Diarrhea</th>\n",
       "      <td>69.64</td>\n",
       "    </tr>\n",
       "    <tr>\n",
       "      <th>Fever</th>\n",
       "      <td>37.72</td>\n",
       "    </tr>\n",
       "    <tr>\n",
       "      <th>Coughing</th>\n",
       "      <td>42.04</td>\n",
       "    </tr>\n",
       "    <tr>\n",
       "      <th>ShortnessOfBreath</th>\n",
       "      <td>94.94</td>\n",
       "    </tr>\n",
       "    <tr>\n",
       "      <th>SoreThroat</th>\n",
       "      <td>54.79</td>\n",
       "    </tr>\n",
       "    <tr>\n",
       "      <th>NauseaVomitting</th>\n",
       "      <td>71.59</td>\n",
       "    </tr>\n",
       "    <tr>\n",
       "      <th>Temperature</th>\n",
       "      <td>57.62</td>\n",
       "    </tr>\n",
       "    <tr>\n",
       "      <th>Fatigue</th>\n",
       "      <td>64.17</td>\n",
       "    </tr>\n",
       "  </tbody>\n",
       "</table>\n",
       "</div>"
      ],
      "text/plain": [
       "                             Percent Null\n",
       "Diagnosis                            0.00\n",
       "InitialPCRDiagnosis                 92.98\n",
       "Age                                  1.89\n",
       "Sex                                  5.13\n",
       "neutrophil                          93.05\n",
       "serumLevelsOfWhiteBloodCell         89.81\n",
       "lymphocytes                         89.47\n",
       "CReactiveProteinLevels              90.76\n",
       "DurationOfIllness                   94.13\n",
       "CTscanResults                       89.27\n",
       "RiskFactors                         85.90\n",
       "GroundGlassOpacity                  93.72\n",
       "Diarrhea                            69.64\n",
       "Fever                               37.72\n",
       "Coughing                            42.04\n",
       "ShortnessOfBreath                   94.94\n",
       "SoreThroat                          54.79\n",
       "NauseaVomitting                     71.59\n",
       "Temperature                         57.62\n",
       "Fatigue                             64.17"
      ]
     },
     "execution_count": 88,
     "metadata": {},
     "output_type": "execute_result"
    }
   ],
   "source": [
    "pd.DataFrame(covid_df.isnull().mean().round(4)*100, columns=['Percent Null'])"
   ]
  },
  {
   "cell_type": "markdown",
   "id": "4ed95d71-5a14-451b-b7e7-d8d9461e1a41",
   "metadata": {},
   "source": [
    "### Get Numerical features & describe"
   ]
  },
  {
   "cell_type": "code",
   "execution_count": 14,
   "id": "23e2bc27-b50d-41c9-a588-af058a162b56",
   "metadata": {},
   "outputs": [
    {
     "data": {
      "text/html": [
       "<div>\n",
       "<style scoped>\n",
       "    .dataframe tbody tr th:only-of-type {\n",
       "        vertical-align: middle;\n",
       "    }\n",
       "\n",
       "    .dataframe tbody tr th {\n",
       "        vertical-align: top;\n",
       "    }\n",
       "\n",
       "    .dataframe thead th {\n",
       "        text-align: right;\n",
       "    }\n",
       "</style>\n",
       "<table border=\"1\" class=\"dataframe\">\n",
       "  <thead>\n",
       "    <tr style=\"text-align: right;\">\n",
       "      <th></th>\n",
       "      <th>Age</th>\n",
       "      <th>neutrophil</th>\n",
       "      <th>serumLevelsOfWhiteBloodCell</th>\n",
       "      <th>lymphocytes</th>\n",
       "      <th>DurationOfIllness</th>\n",
       "      <th>Temperature</th>\n",
       "    </tr>\n",
       "  </thead>\n",
       "  <tbody>\n",
       "    <tr>\n",
       "      <th>count</th>\n",
       "      <td>1454.000000</td>\n",
       "      <td>103.000000</td>\n",
       "      <td>151.000000</td>\n",
       "      <td>156.000000</td>\n",
       "      <td>87.000000</td>\n",
       "      <td>628.000000</td>\n",
       "    </tr>\n",
       "    <tr>\n",
       "      <th>mean</th>\n",
       "      <td>26.471040</td>\n",
       "      <td>6.854078</td>\n",
       "      <td>6.885159</td>\n",
       "      <td>1.850154</td>\n",
       "      <td>13.988506</td>\n",
       "      <td>38.068312</td>\n",
       "    </tr>\n",
       "    <tr>\n",
       "      <th>std</th>\n",
       "      <td>21.487982</td>\n",
       "      <td>12.690131</td>\n",
       "      <td>4.346668</td>\n",
       "      <td>3.956668</td>\n",
       "      <td>9.043171</td>\n",
       "      <td>1.094468</td>\n",
       "    </tr>\n",
       "    <tr>\n",
       "      <th>min</th>\n",
       "      <td>0.000000</td>\n",
       "      <td>0.446000</td>\n",
       "      <td>0.500000</td>\n",
       "      <td>0.130000</td>\n",
       "      <td>1.000000</td>\n",
       "      <td>35.722222</td>\n",
       "    </tr>\n",
       "    <tr>\n",
       "      <th>25%</th>\n",
       "      <td>7.000000</td>\n",
       "      <td>2.160000</td>\n",
       "      <td>3.995000</td>\n",
       "      <td>0.637500</td>\n",
       "      <td>7.000000</td>\n",
       "      <td>37.222222</td>\n",
       "    </tr>\n",
       "    <tr>\n",
       "      <th>50%</th>\n",
       "      <td>24.000000</td>\n",
       "      <td>3.310000</td>\n",
       "      <td>5.690000</td>\n",
       "      <td>0.905500</td>\n",
       "      <td>12.000000</td>\n",
       "      <td>38.000000</td>\n",
       "    </tr>\n",
       "    <tr>\n",
       "      <th>75%</th>\n",
       "      <td>42.000000</td>\n",
       "      <td>6.645000</td>\n",
       "      <td>9.155000</td>\n",
       "      <td>1.605000</td>\n",
       "      <td>20.000000</td>\n",
       "      <td>38.722222</td>\n",
       "    </tr>\n",
       "    <tr>\n",
       "      <th>max</th>\n",
       "      <td>88.000000</td>\n",
       "      <td>93.000000</td>\n",
       "      <td>36.070000</td>\n",
       "      <td>30.600000</td>\n",
       "      <td>37.000000</td>\n",
       "      <td>42.222222</td>\n",
       "    </tr>\n",
       "  </tbody>\n",
       "</table>\n",
       "</div>"
      ],
      "text/plain": [
       "               Age  neutrophil  serumLevelsOfWhiteBloodCell  lymphocytes  \\\n",
       "count  1454.000000  103.000000                   151.000000   156.000000   \n",
       "mean     26.471040    6.854078                     6.885159     1.850154   \n",
       "std      21.487982   12.690131                     4.346668     3.956668   \n",
       "min       0.000000    0.446000                     0.500000     0.130000   \n",
       "25%       7.000000    2.160000                     3.995000     0.637500   \n",
       "50%      24.000000    3.310000                     5.690000     0.905500   \n",
       "75%      42.000000    6.645000                     9.155000     1.605000   \n",
       "max      88.000000   93.000000                    36.070000    30.600000   \n",
       "\n",
       "       DurationOfIllness  Temperature  \n",
       "count          87.000000   628.000000  \n",
       "mean           13.988506    38.068312  \n",
       "std             9.043171     1.094468  \n",
       "min             1.000000    35.722222  \n",
       "25%             7.000000    37.222222  \n",
       "50%            12.000000    38.000000  \n",
       "75%            20.000000    38.722222  \n",
       "max            37.000000    42.222222  "
      ]
     },
     "execution_count": 14,
     "metadata": {},
     "output_type": "execute_result"
    }
   ],
   "source": [
    "covid_df.describe()"
   ]
  },
  {
   "cell_type": "code",
   "execution_count": 22,
   "id": "3d215733-7505-418d-9436-7ca04ba959d8",
   "metadata": {},
   "outputs": [
    {
     "name": "stdout",
     "output_type": "stream",
     "text": [
      "['Age', 'neutrophil', 'serumLevelsOfWhiteBloodCell', 'lymphocytes', 'DurationOfIllness', 'Temperature']\n"
     ]
    }
   ],
   "source": [
    "nums = covid_df.describe().columns.to_list()\n",
    "print(nums)"
   ]
  },
  {
   "cell_type": "markdown",
   "id": "445f7c7b-40cb-4760-8c1a-f9bff23de85d",
   "metadata": {},
   "source": [
    "### Get Categorical and describe"
   ]
  },
  {
   "cell_type": "code",
   "execution_count": 17,
   "id": "6d987916-de33-4d22-978a-797eb2abfbfc",
   "metadata": {},
   "outputs": [
    {
     "data": {
      "text/html": [
       "<div>\n",
       "<style scoped>\n",
       "    .dataframe tbody tr th:only-of-type {\n",
       "        vertical-align: middle;\n",
       "    }\n",
       "\n",
       "    .dataframe tbody tr th {\n",
       "        vertical-align: top;\n",
       "    }\n",
       "\n",
       "    .dataframe thead th {\n",
       "        text-align: right;\n",
       "    }\n",
       "</style>\n",
       "<table border=\"1\" class=\"dataframe\">\n",
       "  <thead>\n",
       "    <tr style=\"text-align: right;\">\n",
       "      <th></th>\n",
       "      <th>Diagnosis</th>\n",
       "      <th>InitialPCRDiagnosis</th>\n",
       "      <th>Sex</th>\n",
       "      <th>CReactiveProteinLevels</th>\n",
       "      <th>CTscanResults</th>\n",
       "      <th>RiskFactors</th>\n",
       "      <th>GroundGlassOpacity</th>\n",
       "      <th>Diarrhea</th>\n",
       "      <th>Fever</th>\n",
       "      <th>Coughing</th>\n",
       "      <th>ShortnessOfBreath</th>\n",
       "      <th>SoreThroat</th>\n",
       "      <th>NauseaVomitting</th>\n",
       "      <th>Fatigue</th>\n",
       "    </tr>\n",
       "  </thead>\n",
       "  <tbody>\n",
       "    <tr>\n",
       "      <th>count</th>\n",
       "      <td>1482</td>\n",
       "      <td>104</td>\n",
       "      <td>1406</td>\n",
       "      <td>137</td>\n",
       "      <td>159</td>\n",
       "      <td>209</td>\n",
       "      <td>93</td>\n",
       "      <td>450</td>\n",
       "      <td>923</td>\n",
       "      <td>859</td>\n",
       "      <td>75</td>\n",
       "      <td>670</td>\n",
       "      <td>421</td>\n",
       "      <td>531</td>\n",
       "    </tr>\n",
       "    <tr>\n",
       "      <th>unique</th>\n",
       "      <td>2</td>\n",
       "      <td>2</td>\n",
       "      <td>2</td>\n",
       "      <td>120</td>\n",
       "      <td>2</td>\n",
       "      <td>63</td>\n",
       "      <td>2</td>\n",
       "      <td>2</td>\n",
       "      <td>2</td>\n",
       "      <td>2</td>\n",
       "      <td>2</td>\n",
       "      <td>2</td>\n",
       "      <td>2</td>\n",
       "      <td>2</td>\n",
       "    </tr>\n",
       "    <tr>\n",
       "      <th>top</th>\n",
       "      <td>H1N1</td>\n",
       "      <td>Yes</td>\n",
       "      <td>M</td>\n",
       "      <td>8</td>\n",
       "      <td>Yes</td>\n",
       "      <td>asthma</td>\n",
       "      <td>Yes</td>\n",
       "      <td>No</td>\n",
       "      <td>Yes</td>\n",
       "      <td>Yes</td>\n",
       "      <td>Yes</td>\n",
       "      <td>Yes</td>\n",
       "      <td>No</td>\n",
       "      <td>Yes</td>\n",
       "    </tr>\n",
       "    <tr>\n",
       "      <th>freq</th>\n",
       "      <td>1072</td>\n",
       "      <td>100</td>\n",
       "      <td>748</td>\n",
       "      <td>3</td>\n",
       "      <td>144</td>\n",
       "      <td>36</td>\n",
       "      <td>90</td>\n",
       "      <td>340</td>\n",
       "      <td>777</td>\n",
       "      <td>745</td>\n",
       "      <td>45</td>\n",
       "      <td>407</td>\n",
       "      <td>319</td>\n",
       "      <td>348</td>\n",
       "    </tr>\n",
       "  </tbody>\n",
       "</table>\n",
       "</div>"
      ],
      "text/plain": [
       "       Diagnosis InitialPCRDiagnosis   Sex CReactiveProteinLevels  \\\n",
       "count       1482                 104  1406                    137   \n",
       "unique         2                   2     2                    120   \n",
       "top         H1N1                 Yes     M                      8   \n",
       "freq        1072                 100   748                      3   \n",
       "\n",
       "       CTscanResults RiskFactors GroundGlassOpacity Diarrhea Fever Coughing  \\\n",
       "count            159         209                 93      450   923      859   \n",
       "unique             2          63                  2        2     2        2   \n",
       "top              Yes      asthma                Yes       No   Yes      Yes   \n",
       "freq             144          36                 90      340   777      745   \n",
       "\n",
       "       ShortnessOfBreath SoreThroat NauseaVomitting Fatigue  \n",
       "count                 75        670             421     531  \n",
       "unique                 2          2               2       2  \n",
       "top                  Yes        Yes              No     Yes  \n",
       "freq                  45        407             319     348  "
      ]
     },
     "execution_count": 17,
     "metadata": {},
     "output_type": "execute_result"
    }
   ],
   "source": [
    "covid_df.describe(include=['object', 'int'])"
   ]
  },
  {
   "cell_type": "code",
   "execution_count": 24,
   "id": "ec748f85-b1c6-48fa-b7fc-95856b2f53b5",
   "metadata": {},
   "outputs": [
    {
     "name": "stdout",
     "output_type": "stream",
     "text": [
      "['Diagnosis', 'InitialPCRDiagnosis', 'Sex', 'CReactiveProteinLevels', 'CTscanResults', 'RiskFactors', 'GroundGlassOpacity', 'Diarrhea', 'Fever', 'Coughing', 'ShortnessOfBreath', 'SoreThroat', 'NauseaVomitting', 'Fatigue']\n"
     ]
    }
   ],
   "source": [
    "cats = covid_df.describe(include=['object', 'int']).columns.to_list()\n",
    "print(cats)"
   ]
  },
  {
   "cell_type": "markdown",
   "id": "fd1d7d49-52ed-4a85-9db0-ba936bc7aece",
   "metadata": {},
   "source": [
    "### Get correlation matrix"
   ]
  },
  {
   "cell_type": "code",
   "execution_count": 40,
   "id": "1ee9558d-43f0-4781-848f-1465028a5877",
   "metadata": {},
   "outputs": [
    {
     "data": {
      "text/plain": [
       "<Axes: >"
      ]
     },
     "execution_count": 40,
     "metadata": {},
     "output_type": "execute_result"
    },
    {
     "data": {
      "image/png": "[encoded data removed]",
      "text/plain": [
       "<Figure size 640x480 with 2 Axes>"
      ]
     },
     "metadata": {},
     "output_type": "display_data"
    }
   ],
   "source": [
    "sns.heatmap(covid_df[nums].corr(), vmin=-1)"
   ]
  },
  {
   "cell_type": "markdown",
   "id": "f5cb81ed-134a-407c-94e5-6a2c0c7b4e05",
   "metadata": {},
   "source": [
    "### Plot Scatter Matrix"
   ]
  },
  {
   "cell_type": "code",
   "execution_count": 48,
   "id": "55527232-b982-4e2c-92d1-8eb08703e55c",
   "metadata": {},
   "outputs": [
    {
     "data": {
      "text/plain": [
       "<Figure size 1200x1200 with 0 Axes>"
      ]
     },
     "metadata": {},
     "output_type": "display_data"
    },
    {
     "data": {
      "image/png": "[encoded data removed]",
      "text/plain": [
       "<Figure size 1200x1200 with 36 Axes>"
      ]
     },
     "metadata": {},
     "output_type": "display_data"
    }
   ],
   "source": [
    "# Increase the figure size\n",
    "plt.figure(figsize=(12, 12))  # You can adjust this as necessary\n",
    "\n",
    "# Create the scatter matrix with some customization\n",
    "scatter_matrix = pd.plotting.scatter_matrix(\n",
    "    covid_df,\n",
    "    alpha=0.2,  # Transparency of the points\n",
    "    figsize=(12, 12),  # Figure size (width, height)\n",
    "    diagonal='hist',  # Show histograms on the diagonal\n",
    "    marker='.',  # Point marker style\n",
    "    density_kwds={'linewidth': 0.5},  # Adjust the density plot line width\n",
    ")\n",
    "\n",
    "# Rotate axis labels\n",
    "for ax in scatter_matrix.ravel():\n",
    "    ax.set_xlabel(ax.get_xlabel(), fontsize=9, rotation=90)\n",
    "    ax.set_ylabel(ax.get_ylabel(), fontsize=9, rotation=0)\n",
    "\n",
    "# Adjust layout to prevent overlap\n",
    "plt.tight_layout()\n",
    "\n",
    "# Show the plot\n",
    "plt.show()"
   ]
  },
  {
   "cell_type": "code",
   "execution_count": 70,
   "id": "5d8016e1-1277-49b6-ad04-97874f93de3a",
   "metadata": {},
   "outputs": [],
   "source": [
    "# sns.histplot(covid_df['Age'], bins=100, kde=True)"
   ]
  },
  {
   "cell_type": "code",
   "execution_count": 75,
   "id": "9f17125d-958a-4114-b23b-a1a4df401519",
   "metadata": {},
   "outputs": [
    {
     "data": {
      "application/vnd.plotly.v1+json": {
       "config": {
        "plotlyServerURL": "https://plot.ly"
       },
       "data": [
        {
         "alignmentgroup": "True",
         "bingroup": "x",
         "hovertemplate": "Age=%{x}<br>count=%{y}<extra></extra>",
         "legendgroup": "",
         "marker": {
          "color": "#636efa",
          "pattern": {
           "shape": ""
          }
         },
         "name": "",
         "nbinsx": 100,
         "offsetgroup": "",
         "orientation": "v",
         "showlegend": false,
         "type": "histogram",
         "x": [
          67,
          29,
          22,
          20,
          21,
          22,
          19,
          60,
          46,
          18,
          53,
          56,
          55,
          36,
          29,
          60,
          63,
          21,
          66,
          22,
          31,
          65,
          68,
          35,
          31,
          19,
          26,
          65,
          56,
          54,
          21,
          57,
          18,
          47,
          26,
          64,
          73,
          44,
          24,
          34,
          51,
          49,
          77,
          54,
          23,
          21,
          83,
          58,
          48,
          57,
          31,
          46,
          51,
          63,
          36,
          18,
          21,
          34,
          72,
          57,
          40,
          45,
          23,
          51,
          49,
          71,
          66,
          46,
          20,
          51,
          51,
          null,
          24,
          40,
          44,
          28,
          25,
          29,
          null,
          52,
          43,
          54,
          29,
          21,
          60,
          40,
          8,
          39,
          50,
          59,
          25,
          73,
          48,
          54,
          9,
          50,
          27,
          9,
          17,
          15,
          1,
          5,
          1,
          1,
          1,
          1,
          18,
          22,
          1,
          1,
          17,
          1,
          13,
          1,
          1,
          10,
          1,
          11,
          5,
          4,
          1,
          1,
          1,
          18,
          1,
          1,
          1,
          1,
          2,
          5,
          8,
          7,
          3,
          5,
          1,
          1,
          1,
          2,
          5,
          1,
          1,
          1,
          1,
          1,
          3,
          20,
          16,
          16,
          1,
          8,
          1,
          33,
          54,
          37,
          47,
          32,
          21,
          31,
          43,
          1,
          33,
          26,
          26,
          76,
          51,
          36,
          60,
          29,
          62,
          27,
          35,
          50,
          84,
          33,
          30,
          50,
          48,
          38,
          79,
          32,
          42,
          61,
          23,
          50,
          43,
          53,
          47,
          38,
          35,
          81,
          21,
          27,
          24,
          47,
          34,
          32,
          38,
          47,
          26,
          36,
          42,
          44,
          32,
          88,
          24,
          43,
          42,
          2,
          82,
          59,
          45,
          10,
          42,
          15,
          22,
          24,
          20,
          28,
          3,
          15,
          0.17,
          76,
          76,
          76,
          76,
          76,
          46,
          46,
          46,
          46,
          12,
          12,
          12,
          12,
          12,
          34,
          34,
          34,
          34,
          73,
          73,
          21,
          21,
          21,
          21,
          58,
          58,
          58,
          1.17,
          1.17,
          1.17,
          1.17,
          1.17,
          45,
          45,
          45,
          45,
          45,
          66,
          66,
          66,
          66,
          2.33,
          2.33,
          2.33,
          2.33,
          39,
          39,
          39,
          19,
          46,
          null,
          50,
          6,
          72,
          0.67,
          27,
          48,
          8,
          9,
          67,
          6,
          26,
          15,
          28,
          8,
          3,
          6,
          6,
          8,
          9,
          4,
          8,
          4,
          4,
          16,
          5,
          2,
          6,
          5,
          5,
          13,
          18,
          4,
          6,
          5,
          3,
          14,
          7,
          1,
          8,
          4,
          37,
          32,
          7,
          6,
          25,
          14,
          40,
          37,
          41,
          30,
          44,
          33,
          4,
          7,
          1,
          9,
          1,
          9,
          5,
          5,
          7,
          5,
          59,
          54,
          46,
          3,
          8,
          4,
          8,
          10,
          2,
          8,
          3,
          11,
          13,
          6,
          14,
          8,
          10,
          9,
          12,
          6,
          8,
          6,
          8,
          6,
          4,
          6,
          8,
          6,
          4,
          2,
          7,
          5,
          4,
          5,
          44,
          46,
          6,
          6,
          7,
          5,
          13,
          30,
          11,
          7,
          10,
          15,
          4,
          2,
          3,
          6,
          6,
          7,
          3,
          2,
          1,
          9,
          3,
          4,
          3,
          3,
          3,
          13,
          5,
          3,
          6,
          12,
          6,
          3,
          15,
          5,
          6,
          14,
          3,
          12,
          13,
          5,
          10,
          28,
          9,
          8,
          3,
          1,
          9,
          5,
          6,
          6,
          5,
          7,
          5,
          6,
          3,
          6,
          10,
          3,
          9,
          6,
          11,
          12,
          8,
          3,
          3,
          5,
          2,
          3,
          5,
          6,
          10,
          59,
          7,
          5,
          5,
          9,
          6,
          12,
          3,
          1,
          3,
          3,
          17,
          2,
          7,
          7,
          3,
          6,
          5,
          10,
          5,
          9,
          6,
          5,
          8,
          6,
          1,
          1,
          8,
          7,
          5,
          16,
          4,
          5,
          1,
          4,
          8,
          42,
          11,
          37,
          28,
          3,
          6,
          2,
          14,
          8,
          5,
          9,
          3,
          5,
          2,
          3,
          13,
          8,
          11,
          1,
          6,
          9,
          4,
          4,
          11,
          7,
          7,
          1,
          4,
          7,
          9,
          7,
          11,
          7,
          8,
          5,
          7,
          6,
          9,
          12,
          12,
          10,
          3,
          8,
          4,
          11,
          13,
          4,
          16,
          2,
          5,
          4,
          8,
          12,
          4,
          16,
          10,
          12,
          52,
          10,
          13,
          9,
          10,
          13,
          11,
          8,
          4,
          8,
          7,
          8,
          5,
          4,
          12,
          3,
          5,
          6,
          4,
          5,
          5,
          3,
          8,
          4,
          10,
          6,
          6,
          13,
          9,
          13,
          7,
          6,
          7,
          7,
          13,
          4,
          4,
          9,
          9,
          41,
          7,
          11,
          49,
          24,
          41,
          14,
          64,
          27,
          59,
          27,
          9,
          2,
          10,
          23,
          13,
          35,
          1,
          47,
          27,
          45,
          51,
          6,
          57,
          13,
          39,
          56,
          21,
          27,
          5,
          30,
          35,
          0.67,
          8,
          42,
          6,
          36,
          48,
          65,
          22,
          39,
          36,
          29,
          36,
          17,
          15,
          29,
          2,
          20,
          23,
          6,
          36,
          26,
          12,
          1,
          2,
          22,
          35,
          6,
          26,
          2,
          0.67,
          2,
          26,
          5,
          3,
          32,
          5,
          15,
          9,
          12,
          8,
          10,
          12,
          11,
          5,
          8,
          11,
          7,
          11,
          8,
          11,
          11,
          4,
          12,
          8,
          5,
          6,
          8,
          4,
          6,
          7,
          5,
          13,
          9,
          9,
          7,
          11,
          11,
          13,
          3,
          8,
          4,
          10,
          6,
          4,
          8,
          13,
          11,
          3,
          9,
          8,
          11,
          7,
          10,
          0.5,
          2,
          4,
          0.67,
          8,
          15,
          4,
          0.34,
          0.34,
          6,
          3,
          11,
          26,
          63,
          0.92,
          27,
          1,
          7,
          0.17,
          0.42,
          53,
          31,
          60,
          11,
          33,
          15,
          50,
          14,
          71,
          3,
          25,
          23,
          24,
          6,
          40,
          4,
          7,
          null,
          0,
          0,
          0,
          0,
          0,
          0,
          0,
          0,
          0,
          0,
          0,
          0,
          0,
          0,
          0,
          0,
          0,
          0,
          0,
          0,
          0,
          0,
          0,
          0,
          0,
          0,
          0,
          0,
          0,
          0,
          0,
          48,
          4,
          34,
          22,
          0,
          30,
          7,
          26,
          5,
          41,
          38,
          49,
          2,
          34,
          33,
          30,
          19,
          52,
          12,
          0,
          8,
          13,
          29,
          23,
          25,
          31,
          23,
          4,
          62,
          39,
          22,
          33,
          4,
          29,
          21,
          13,
          34,
          57,
          26,
          19,
          33,
          24,
          23,
          7,
          6,
          25,
          5,
          14,
          38,
          20,
          10,
          27,
          35,
          34,
          52,
          26,
          34,
          28,
          35,
          2,
          39,
          34,
          25,
          36,
          28,
          33,
          46,
          52,
          50,
          48,
          47,
          46,
          32,
          42,
          42,
          27,
          39,
          37,
          37,
          38,
          34,
          19,
          0,
          30,
          30,
          29,
          8,
          28,
          29,
          26,
          22,
          25,
          25,
          21,
          19,
          19,
          19,
          18,
          18,
          18,
          13,
          31,
          44,
          21,
          27,
          75,
          11,
          8,
          7,
          7,
          25,
          7,
          5,
          8,
          0,
          2,
          57,
          34,
          7,
          48,
          0,
          37,
          51,
          37,
          14,
          28,
          28,
          42,
          35,
          37,
          0,
          25,
          7,
          23,
          27,
          52,
          16,
          27,
          2,
          45,
          26,
          30,
          16,
          23,
          21,
          28,
          33,
          22,
          39,
          66,
          44,
          3,
          14,
          33,
          37,
          10,
          34,
          56,
          33,
          36,
          41,
          54,
          53,
          22,
          3,
          37,
          59,
          46,
          39,
          31,
          14,
          56,
          30,
          42,
          32,
          35,
          20,
          53,
          5,
          44,
          15,
          50,
          31,
          27,
          32,
          8,
          20,
          20,
          27,
          30,
          30,
          3,
          33,
          32,
          10,
          21,
          48,
          12,
          9,
          25,
          4,
          17,
          13,
          46,
          1,
          27,
          54,
          42,
          35,
          42,
          32,
          63,
          23,
          26,
          41,
          39,
          20,
          29,
          36,
          29,
          36,
          5,
          60,
          25,
          35,
          1,
          7,
          4,
          29,
          14,
          46,
          14,
          14,
          38,
          60,
          48,
          38,
          29,
          24,
          15,
          31,
          21,
          27,
          6,
          9,
          37,
          4,
          35,
          21,
          4,
          37,
          22,
          10,
          40,
          7,
          42,
          7,
          35,
          41,
          33,
          5,
          26,
          54,
          26,
          7,
          26,
          21,
          22,
          25,
          27,
          45,
          29,
          34,
          35,
          27,
          25,
          35,
          43,
          30,
          17,
          43,
          55,
          50,
          38,
          29,
          47,
          31,
          2,
          13,
          7,
          15,
          35,
          31,
          41,
          28,
          39,
          24,
          27,
          25,
          81,
          33,
          17,
          19,
          26,
          47,
          27,
          48,
          46,
          24,
          38,
          60,
          76,
          31,
          44,
          47,
          0.83,
          36,
          49,
          61,
          32,
          81,
          4,
          4,
          45,
          null,
          25,
          null,
          null,
          64,
          28,
          24,
          33,
          29,
          35,
          31,
          30,
          36,
          26,
          32,
          30,
          22,
          30,
          35,
          57,
          57,
          0.83,
          36,
          32,
          19,
          63,
          63,
          54,
          35,
          39,
          null,
          null,
          0.25,
          42,
          46,
          31,
          60,
          0.75,
          0.917,
          0.66,
          0.83,
          0.58,
          0.156,
          0.25,
          0.306,
          0.5,
          34,
          34,
          43,
          36,
          49,
          20,
          45,
          41,
          15,
          10,
          7,
          10,
          10,
          4,
          6,
          14,
          5,
          9,
          12,
          5,
          7,
          8,
          7,
          4,
          51,
          52,
          50,
          46,
          1,
          20,
          null,
          null,
          null,
          null,
          null,
          54,
          47,
          44,
          56,
          36,
          69,
          78,
          66,
          50,
          28,
          76,
          70,
          65,
          58,
          60,
          60,
          60,
          49,
          38,
          26,
          47,
          48,
          31,
          30,
          58,
          44,
          88,
          75,
          65,
          69,
          0.0465,
          35,
          55,
          52,
          63,
          48,
          47,
          60,
          45,
          32,
          47,
          50,
          66,
          39,
          49,
          38,
          38,
          42,
          32,
          32,
          19,
          63,
          63,
          65,
          75,
          75,
          45,
          62,
          59,
          55,
          41,
          25,
          35,
          35,
          30,
          30,
          30,
          30,
          29,
          29,
          34,
          50,
          66,
          52,
          33,
          27,
          40,
          26,
          26,
          26,
          29,
          28,
          34,
          46,
          56,
          27,
          32,
          56,
          32,
          63,
          54,
          46,
          48,
          59,
          55,
          30,
          60,
          23,
          76,
          41,
          36,
          35,
          28,
          27,
          8,
          0.83,
          1,
          0.167,
          2,
          15,
          13,
          13,
          61,
          50,
          23,
          28,
          35,
          27,
          7,
          22,
          61,
          10,
          46,
          62,
          63,
          30,
          45,
          62,
          50,
          38,
          30,
          53,
          51,
          70,
          65,
          51,
          45,
          64,
          13,
          55,
          48,
          57,
          53,
          60,
          72,
          51,
          83,
          74,
          65,
          62,
          51,
          66,
          51,
          null,
          null,
          null,
          7,
          40,
          40,
          52,
          26,
          22,
          42,
          44,
          46,
          69,
          3,
          2,
          44,
          43,
          62,
          39,
          21,
          41,
          0.299,
          1.083,
          30,
          38,
          58,
          60,
          32,
          32,
          13,
          57,
          57,
          76,
          35,
          65,
          49,
          52,
          41,
          61,
          64,
          54,
          42,
          33,
          null,
          null,
          null,
          65,
          27,
          65,
          66,
          37,
          36,
          10,
          63,
          54,
          57,
          72,
          30,
          null,
          null,
          null,
          23,
          null,
          54,
          25,
          47,
          53,
          29,
          50,
          14,
          56,
          51,
          51,
          27,
          53,
          61,
          6,
          64,
          29,
          28,
          34,
          29,
          15,
          9,
          0.5,
          56,
          65,
          null,
          57,
          42,
          57,
          56,
          61,
          48,
          53,
          null,
          28,
          34,
          4,
          28,
          4,
          32,
          27,
          83,
          80,
          34,
          0,
          78,
          79,
          35,
          33,
          3,
          50,
          49,
          25,
          23,
          34,
          32,
          61,
          62,
          45,
          59,
          33,
          34,
          43,
          26,
          18,
          25,
          69,
          50,
          84,
          73,
          55,
          66,
          67,
          0.5,
          null,
          null,
          7,
          10.917,
          10.917,
          9,
          0.583,
          6,
          0.25,
          4,
          8,
          5,
          74,
          73,
          65,
          66,
          62,
          63,
          63,
          36,
          10,
          35,
          51,
          65,
          72,
          56,
          1.4,
          0.83,
          3,
          4,
          6
         ],
         "xaxis": "x",
         "yaxis": "y"
        }
       ],
       "layout": {
        "autosize": true,
        "barmode": "relative",
        "legend": {
         "tracegroupgap": 0
        },
        "margin": {
         "t": 60
        },
        "template": {
         "data": {
          "bar": [
           {
            "error_x": {
             "color": "#2a3f5f"
            },
            "error_y": {
             "color": "#2a3f5f"
            },
            "marker": {
             "line": {
              "color": "#E5ECF6",
              "width": 0.5
             },
             "pattern": {
              "fillmode": "overlay",
              "size": 10,
              "solidity": 0.2
             }
            },
            "type": "bar"
           }
          ],
          "barpolar": [
           {
            "marker": {
             "line": {
              "color": "#E5ECF6",
              "width": 0.5
             },
             "pattern": {
              "fillmode": "overlay",
              "size": 10,
              "solidity": 0.2
             }
            },
            "type": "barpolar"
           }
          ],
          "carpet": [
           {
            "aaxis": {
             "endlinecolor": "#2a3f5f",
             "gridcolor": "white",
             "linecolor": "white",
             "minorgridcolor": "white",
             "startlinecolor": "#2a3f5f"
            },
            "baxis": {
             "endlinecolor": "#2a3f5f",
             "gridcolor": "white",
             "linecolor": "white",
             "minorgridcolor": "white",
             "startlinecolor": "#2a3f5f"
            },
            "type": "carpet"
           }
          ],
          "choropleth": [
           {
            "colorbar": {
             "outlinewidth": 0,
             "ticks": ""
            },
            "type": "choropleth"
           }
          ],
          "contour": [
           {
            "colorbar": {
             "outlinewidth": 0,
             "ticks": ""
            },
            "colorscale": [
             [
              0,
              "#0d0887"
             ],
             [
              0.1111111111111111,
              "#46039f"
             ],
             [
              0.2222222222222222,
              "#7201a8"
             ],
             [
              0.3333333333333333,
              "#9c179e"
             ],
             [
              0.4444444444444444,
              "#bd3786"
             ],
             [
              0.5555555555555556,
              "#d8576b"
             ],
             [
              0.6666666666666666,
              "#ed7953"
             ],
             [
              0.7777777777777778,
              "#fb9f3a"
             ],
             [
              0.8888888888888888,
              "#fdca26"
             ],
             [
              1,
              "#f0f921"
             ]
            ],
            "type": "contour"
           }
          ],
          "contourcarpet": [
           {
            "colorbar": {
             "outlinewidth": 0,
             "ticks": ""
            },
            "type": "contourcarpet"
           }
          ],
          "heatmap": [
           {
            "colorbar": {
             "outlinewidth": 0,
             "ticks": ""
            },
            "colorscale": [
             [
              0,
              "#0d0887"
             ],
             [
              0.1111111111111111,
              "#46039f"
             ],
             [
              0.2222222222222222,
              "#7201a8"
             ],
             [
              0.3333333333333333,
              "#9c179e"
             ],
             [
              0.4444444444444444,
              "#bd3786"
             ],
             [
              0.5555555555555556,
              "#d8576b"
             ],
             [
              0.6666666666666666,
              "#ed7953"
             ],
             [
              0.7777777777777778,
              "#fb9f3a"
             ],
             [
              0.8888888888888888,
              "#fdca26"
             ],
             [
              1,
              "#f0f921"
             ]
            ],
            "type": "heatmap"
           }
          ],
          "heatmapgl": [
           {
            "colorbar": {
             "outlinewidth": 0,
             "ticks": ""
            },
            "colorscale": [
             [
              0,
              "#0d0887"
             ],
             [
              0.1111111111111111,
              "#46039f"
             ],
             [
              0.2222222222222222,
              "#7201a8"
             ],
             [
              0.3333333333333333,
              "#9c179e"
             ],
             [
              0.4444444444444444,
              "#bd3786"
             ],
             [
              0.5555555555555556,
              "#d8576b"
             ],
             [
              0.6666666666666666,
              "#ed7953"
             ],
             [
              0.7777777777777778,
              "#fb9f3a"
             ],
             [
              0.8888888888888888,
              "#fdca26"
             ],
             [
              1,
              "#f0f921"
             ]
            ],
            "type": "heatmapgl"
           }
          ],
          "histogram": [
           {
            "marker": {
             "pattern": {
              "fillmode": "overlay",
              "size": 10,
              "solidity": 0.2
             }
            },
            "type": "histogram"
           }
          ],
          "histogram2d": [
           {
            "colorbar": {
             "outlinewidth": 0,
             "ticks": ""
            },
            "colorscale": [
             [
              0,
              "#0d0887"
             ],
             [
              0.1111111111111111,
              "#46039f"
             ],
             [
              0.2222222222222222,
              "#7201a8"
             ],
             [
              0.3333333333333333,
              "#9c179e"
             ],
             [
              0.4444444444444444,
              "#bd3786"
             ],
             [
              0.5555555555555556,
              "#d8576b"
             ],
             [
              0.6666666666666666,
              "#ed7953"
             ],
             [
              0.7777777777777778,
              "#fb9f3a"
             ],
             [
              0.8888888888888888,
              "#fdca26"
             ],
             [
              1,
              "#f0f921"
             ]
            ],
            "type": "histogram2d"
           }
          ],
          "histogram2dcontour": [
           {
            "colorbar": {
             "outlinewidth": 0,
             "ticks": ""
            },
            "colorscale": [
             [
              0,
              "#0d0887"
             ],
             [
              0.1111111111111111,
              "#46039f"
             ],
             [
              0.2222222222222222,
              "#7201a8"
             ],
             [
              0.3333333333333333,
              "#9c179e"
             ],
             [
              0.4444444444444444,
              "#bd3786"
             ],
             [
              0.5555555555555556,
              "#d8576b"
             ],
             [
              0.6666666666666666,
              "#ed7953"
             ],
             [
              0.7777777777777778,
              "#fb9f3a"
             ],
             [
              0.8888888888888888,
              "#fdca26"
             ],
             [
              1,
              "#f0f921"
             ]
            ],
            "type": "histogram2dcontour"
           }
          ],
          "mesh3d": [
           {
            "colorbar": {
             "outlinewidth": 0,
             "ticks": ""
            },
            "type": "mesh3d"
           }
          ],
          "parcoords": [
           {
            "line": {
             "colorbar": {
              "outlinewidth": 0,
              "ticks": ""
             }
            },
            "type": "parcoords"
           }
          ],
          "pie": [
           {
            "automargin": true,
            "type": "pie"
           }
          ],
          "scatter": [
           {
            "marker": {
             "colorbar": {
              "outlinewidth": 0,
              "ticks": ""
             }
            },
            "type": "scatter"
           }
          ],
          "scatter3d": [
           {
            "line": {
             "colorbar": {
              "outlinewidth": 0,
              "ticks": ""
             }
            },
            "marker": {
             "colorbar": {
              "outlinewidth": 0,
              "ticks": ""
             }
            },
            "type": "scatter3d"
           }
          ],
          "scattercarpet": [
           {
            "marker": {
             "colorbar": {
              "outlinewidth": 0,
              "ticks": ""
             }
            },
            "type": "scattercarpet"
           }
          ],
          "scattergeo": [
           {
            "marker": {
             "colorbar": {
              "outlinewidth": 0,
              "ticks": ""
             }
            },
            "type": "scattergeo"
           }
          ],
          "scattergl": [
           {
            "marker": {
             "colorbar": {
              "outlinewidth": 0,
              "ticks": ""
             }
            },
            "type": "scattergl"
           }
          ],
          "scattermapbox": [
           {
            "marker": {
             "colorbar": {
              "outlinewidth": 0,
              "ticks": ""
             }
            },
            "type": "scattermapbox"
           }
          ],
          "scatterpolar": [
           {
            "marker": {
             "colorbar": {
              "outlinewidth": 0,
              "ticks": ""
             }
            },
            "type": "scatterpolar"
           }
          ],
          "scatterpolargl": [
           {
            "marker": {
             "colorbar": {
              "outlinewidth": 0,
              "ticks": ""
             }
            },
            "type": "scatterpolargl"
           }
          ],
          "scatterternary": [
           {
            "marker": {
             "colorbar": {
              "outlinewidth": 0,
              "ticks": ""
             }
            },
            "type": "scatterternary"
           }
          ],
          "surface": [
           {
            "colorbar": {
             "outlinewidth": 0,
             "ticks": ""
            },
            "colorscale": [
             [
              0,
              "#0d0887"
             ],
             [
              0.1111111111111111,
              "#46039f"
             ],
             [
              0.2222222222222222,
              "#7201a8"
             ],
             [
              0.3333333333333333,
              "#9c179e"
             ],
             [
              0.4444444444444444,
              "#bd3786"
             ],
             [
              0.5555555555555556,
              "#d8576b"
             ],
             [
              0.6666666666666666,
              "#ed7953"
             ],
             [
              0.7777777777777778,
              "#fb9f3a"
             ],
             [
              0.8888888888888888,
              "#fdca26"
             ],
             [
              1,
              "#f0f921"
             ]
            ],
            "type": "surface"
           }
          ],
          "table": [
           {
            "cells": {
             "fill": {
              "color": "#EBF0F8"
             },
             "line": {
              "color": "white"
             }
            },
            "header": {
             "fill": {
              "color": "#C8D4E3"
             },
             "line": {
              "color": "white"
             }
            },
            "type": "table"
           }
          ]
         },
         "layout": {
          "annotationdefaults": {
           "arrowcolor": "#2a3f5f",
           "arrowhead": 0,
           "arrowwidth": 1
          },
          "autotypenumbers": "strict",
          "coloraxis": {
           "colorbar": {
            "outlinewidth": 0,
            "ticks": ""
           }
          },
          "colorscale": {
           "diverging": [
            [
             0,
             "#8e0152"
            ],
            [
             0.1,
             "#c51b7d"
            ],
            [
             0.2,
             "#de77ae"
            ],
            [
             0.3,
             "#f1b6da"
            ],
            [
             0.4,
             "#fde0ef"
            ],
            [
             0.5,
             "#f7f7f7"
            ],
            [
             0.6,
             "#e6f5d0"
            ],
            [
             0.7,
             "#b8e186"
            ],
            [
             0.8,
             "#7fbc41"
            ],
            [
             0.9,
             "#4d9221"
            ],
            [
             1,
             "#276419"
            ]
           ],
           "sequential": [
            [
             0,
             "#0d0887"
            ],
            [
             0.1111111111111111,
             "#46039f"
            ],
            [
             0.2222222222222222,
             "#7201a8"
            ],
            [
             0.3333333333333333,
             "#9c179e"
            ],
            [
             0.4444444444444444,
             "#bd3786"
            ],
            [
             0.5555555555555556,
             "#d8576b"
            ],
            [
             0.6666666666666666,
             "#ed7953"
            ],
            [
             0.7777777777777778,
             "#fb9f3a"
            ],
            [
             0.8888888888888888,
             "#fdca26"
            ],
            [
             1,
             "#f0f921"
            ]
           ],
           "sequentialminus": [
            [
             0,
             "#0d0887"
            ],
            [
             0.1111111111111111,
             "#46039f"
            ],
            [
             0.2222222222222222,
             "#7201a8"
            ],
            [
             0.3333333333333333,
             "#9c179e"
            ],
            [
             0.4444444444444444,
             "#bd3786"
            ],
            [
             0.5555555555555556,
             "#d8576b"
            ],
            [
             0.6666666666666666,
             "#ed7953"
            ],
            [
             0.7777777777777778,
             "#fb9f3a"
            ],
            [
             0.8888888888888888,
             "#fdca26"
            ],
            [
             1,
             "#f0f921"
            ]
           ]
          },
          "colorway": [
           "#636efa",
           "#EF553B",
           "#00cc96",
           "#ab63fa",
           "#FFA15A",
           "#19d3f3",
           "#FF6692",
           "#B6E880",
           "#FF97FF",
           "#FECB52"
          ],
          "font": {
           "color": "#2a3f5f"
          },
          "geo": {
           "bgcolor": "white",
           "lakecolor": "white",
           "landcolor": "#E5ECF6",
           "showlakes": true,
           "showland": true,
           "subunitcolor": "white"
          },
          "hoverlabel": {
           "align": "left"
          },
          "hovermode": "closest",
          "mapbox": {
           "style": "light"
          },
          "paper_bgcolor": "white",
          "plot_bgcolor": "#E5ECF6",
          "polar": {
           "angularaxis": {
            "gridcolor": "white",
            "linecolor": "white",
            "ticks": ""
           },
           "bgcolor": "#E5ECF6",
           "radialaxis": {
            "gridcolor": "white",
            "linecolor": "white",
            "ticks": ""
           }
          },
          "scene": {
           "xaxis": {
            "backgroundcolor": "#E5ECF6",
            "gridcolor": "white",
            "gridwidth": 2,
            "linecolor": "white",
            "showbackground": true,
            "ticks": "",
            "zerolinecolor": "white"
           },
           "yaxis": {
            "backgroundcolor": "#E5ECF6",
            "gridcolor": "white",
            "gridwidth": 2,
            "linecolor": "white",
            "showbackground": true,
            "ticks": "",
            "zerolinecolor": "white"
           },
           "zaxis": {
            "backgroundcolor": "#E5ECF6",
            "gridcolor": "white",
            "gridwidth": 2,
            "linecolor": "white",
            "showbackground": true,
            "ticks": "",
            "zerolinecolor": "white"
           }
          },
          "shapedefaults": {
           "line": {
            "color": "#2a3f5f"
           }
          },
          "ternary": {
           "aaxis": {
            "gridcolor": "white",
            "linecolor": "white",
            "ticks": ""
           },
           "baxis": {
            "gridcolor": "white",
            "linecolor": "white",
            "ticks": ""
           },
           "bgcolor": "#E5ECF6",
           "caxis": {
            "gridcolor": "white",
            "linecolor": "white",
            "ticks": ""
           }
          },
          "title": {
           "x": 0.05
          },
          "xaxis": {
           "automargin": true,
           "gridcolor": "white",
           "linecolor": "white",
           "ticks": "",
           "title": {
            "standoff": 15
           },
           "zerolinecolor": "white",
           "zerolinewidth": 2
          },
          "yaxis": {
           "automargin": true,
           "gridcolor": "white",
           "linecolor": "white",
           "ticks": "",
           "title": {
            "standoff": 15
           },
           "zerolinecolor": "white",
           "zerolinewidth": 2
          }
         }
        },
        "xaxis": {
         "anchor": "y",
         "autorange": true,
         "domain": [
          0,
          1
         ],
         "range": [
          -0.5,
          88.5
         ],
         "title": {
          "text": "Age"
         },
         "type": "linear"
        },
        "yaxis": {
         "anchor": "x",
         "autorange": true,
         "domain": [
          0,
          1
         ],
         "range": [
          0,
          76.84210526315789
         ],
         "title": {
          "text": "count"
         }
        }
       }
      },
      "image/png": "[encoded data removed]",
      "text/html": [
       "<div>                            <div id=\"47a5083a-1f28-40b5-8add-15926cac4af0\" class=\"plotly-graph-div\" style=\"height:525px; width:100%;\"></div>            <script type=\"text/javascript\">                require([\"plotly\"], function(Plotly) {                    window.PLOTLYENV=window.PLOTLYENV || {};                                    if (document.getElementById(\"47a5083a-1f28-40b5-8add-15926cac4af0\")) {                    Plotly.newPlot(                        \"47a5083a-1f28-40b5-8add-15926cac4af0\",                        [{\"alignmentgroup\":\"True\",\"bingroup\":\"x\",\"hovertemplate\":\"Age=%{x}<br>count=%{y}<extra></extra>\",\"legendgroup\":\"\",\"marker\":{\"color\":\"#636efa\",\"pattern\":{\"shape\":\"\"}},\"name\":\"\",\"nbinsx\":100,\"offsetgroup\":\"\",\"orientation\":\"v\",\"showlegend\":false,\"x\":[67.0,29.0,22.0,20.0,21.0,22.0,19.0,60.0,46.0,18.0,53.0,56.0,55.0,36.0,29.0,60.0,63.0,21.0,66.0,22.0,31.0,65.0,68.0,35.0,31.0,19.0,26.0,65.0,56.0,54.0,21.0,57.0,18.0,47.0,26.0,64.0,73.0,44.0,24.0,34.0,51.0,49.0,77.0,54.0,23.0,21.0,83.0,58.0,48.0,57.0,31.0,46.0,51.0,63.0,36.0,18.0,21.0,34.0,72.0,57.0,40.0,45.0,23.0,51.0,49.0,71.0,66.0,46.0,20.0,51.0,51.0,null,24.0,40.0,44.0,28.0,25.0,29.0,null,52.0,43.0,54.0,29.0,21.0,60.0,40.0,8.0,39.0,50.0,59.0,25.0,73.0,48.0,54.0,9.0,50.0,27.0,9.0,17.0,15.0,1.0,5.0,1.0,1.0,1.0,1.0,18.0,22.0,1.0,1.0,17.0,1.0,13.0,1.0,1.0,10.0,1.0,11.0,5.0,4.0,1.0,1.0,1.0,18.0,1.0,1.0,1.0,1.0,2.0,5.0,8.0,7.0,3.0,5.0,1.0,1.0,1.0,2.0,5.0,1.0,1.0,1.0,1.0,1.0,3.0,20.0,16.0,16.0,1.0,8.0,1.0,33.0,54.0,37.0,47.0,32.0,21.0,31.0,43.0,1.0,33.0,26.0,26.0,76.0,51.0,36.0,60.0,29.0,62.0,27.0,35.0,50.0,84.0,33.0,30.0,50.0,48.0,38.0,79.0,32.0,42.0,61.0,23.0,50.0,43.0,53.0,47.0,38.0,35.0,81.0,21.0,27.0,24.0,47.0,34.0,32.0,38.0,47.0,26.0,36.0,42.0,44.0,32.0,88.0,24.0,43.0,42.0,2.0,82.0,59.0,45.0,10.0,42.0,15.0,22.0,24.0,20.0,28.0,3.0,15.0,0.17,76.0,76.0,76.0,76.0,76.0,46.0,46.0,46.0,46.0,12.0,12.0,12.0,12.0,12.0,34.0,34.0,34.0,34.0,73.0,73.0,21.0,21.0,21.0,21.0,58.0,58.0,58.0,1.17,1.17,1.17,1.17,1.17,45.0,45.0,45.0,45.0,45.0,66.0,66.0,66.0,66.0,2.33,2.33,2.33,2.33,39.0,39.0,39.0,19.0,46.0,null,50.0,6.0,72.0,0.67,27.0,48.0,8.0,9.0,67.0,6.0,26.0,15.0,28.0,8.0,3.0,6.0,6.0,8.0,9.0,4.0,8.0,4.0,4.0,16.0,5.0,2.0,6.0,5.0,5.0,13.0,18.0,4.0,6.0,5.0,3.0,14.0,7.0,1.0,8.0,4.0,37.0,32.0,7.0,6.0,25.0,14.0,40.0,37.0,41.0,30.0,44.0,33.0,4.0,7.0,1.0,9.0,1.0,9.0,5.0,5.0,7.0,5.0,59.0,54.0,46.0,3.0,8.0,4.0,8.0,10.0,2.0,8.0,3.0,11.0,13.0,6.0,14.0,8.0,10.0,9.0,12.0,6.0,8.0,6.0,8.0,6.0,4.0,6.0,8.0,6.0,4.0,2.0,7.0,5.0,4.0,5.0,44.0,46.0,6.0,6.0,7.0,5.0,13.0,30.0,11.0,7.0,10.0,15.0,4.0,2.0,3.0,6.0,6.0,7.0,3.0,2.0,1.0,9.0,3.0,4.0,3.0,3.0,3.0,13.0,5.0,3.0,6.0,12.0,6.0,3.0,15.0,5.0,6.0,14.0,3.0,12.0,13.0,5.0,10.0,28.0,9.0,8.0,3.0,1.0,9.0,5.0,6.0,6.0,5.0,7.0,5.0,6.0,3.0,6.0,10.0,3.0,9.0,6.0,11.0,12.0,8.0,3.0,3.0,5.0,2.0,3.0,5.0,6.0,10.0,59.0,7.0,5.0,5.0,9.0,6.0,12.0,3.0,1.0,3.0,3.0,17.0,2.0,7.0,7.0,3.0,6.0,5.0,10.0,5.0,9.0,6.0,5.0,8.0,6.0,1.0,1.0,8.0,7.0,5.0,16.0,4.0,5.0,1.0,4.0,8.0,42.0,11.0,37.0,28.0,3.0,6.0,2.0,14.0,8.0,5.0,9.0,3.0,5.0,2.0,3.0,13.0,8.0,11.0,1.0,6.0,9.0,4.0,4.0,11.0,7.0,7.0,1.0,4.0,7.0,9.0,7.0,11.0,7.0,8.0,5.0,7.0,6.0,9.0,12.0,12.0,10.0,3.0,8.0,4.0,11.0,13.0,4.0,16.0,2.0,5.0,4.0,8.0,12.0,4.0,16.0,10.0,12.0,52.0,10.0,13.0,9.0,10.0,13.0,11.0,8.0,4.0,8.0,7.0,8.0,5.0,4.0,12.0,3.0,5.0,6.0,4.0,5.0,5.0,3.0,8.0,4.0,10.0,6.0,6.0,13.0,9.0,13.0,7.0,6.0,7.0,7.0,13.0,4.0,4.0,9.0,9.0,41.0,7.0,11.0,49.0,24.0,41.0,14.0,64.0,27.0,59.0,27.0,9.0,2.0,10.0,23.0,13.0,35.0,1.0,47.0,27.0,45.0,51.0,6.0,57.0,13.0,39.0,56.0,21.0,27.0,5.0,30.0,35.0,0.67,8.0,42.0,6.0,36.0,48.0,65.0,22.0,39.0,36.0,29.0,36.0,17.0,15.0,29.0,2.0,20.0,23.0,6.0,36.0,26.0,12.0,1.0,2.0,22.0,35.0,6.0,26.0,2.0,0.67,2.0,26.0,5.0,3.0,32.0,5.0,15.0,9.0,12.0,8.0,10.0,12.0,11.0,5.0,8.0,11.0,7.0,11.0,8.0,11.0,11.0,4.0,12.0,8.0,5.0,6.0,8.0,4.0,6.0,7.0,5.0,13.0,9.0,9.0,7.0,11.0,11.0,13.0,3.0,8.0,4.0,10.0,6.0,4.0,8.0,13.0,11.0,3.0,9.0,8.0,11.0,7.0,10.0,0.5,2.0,4.0,0.67,8.0,15.0,4.0,0.34,0.34,6.0,3.0,11.0,26.0,63.0,0.92,27.0,1.0,7.0,0.17,0.42,53.0,31.0,60.0,11.0,33.0,15.0,50.0,14.0,71.0,3.0,25.0,23.0,24.0,6.0,40.0,4.0,7.0,null,0.0,0.0,0.0,0.0,0.0,0.0,0.0,0.0,0.0,0.0,0.0,0.0,0.0,0.0,0.0,0.0,0.0,0.0,0.0,0.0,0.0,0.0,0.0,0.0,0.0,0.0,0.0,0.0,0.0,0.0,0.0,48.0,4.0,34.0,22.0,0.0,30.0,7.0,26.0,5.0,41.0,38.0,49.0,2.0,34.0,33.0,30.0,19.0,52.0,12.0,0.0,8.0,13.0,29.0,23.0,25.0,31.0,23.0,4.0,62.0,39.0,22.0,33.0,4.0,29.0,21.0,13.0,34.0,57.0,26.0,19.0,33.0,24.0,23.0,7.0,6.0,25.0,5.0,14.0,38.0,20.0,10.0,27.0,35.0,34.0,52.0,26.0,34.0,28.0,35.0,2.0,39.0,34.0,25.0,36.0,28.0,33.0,46.0,52.0,50.0,48.0,47.0,46.0,32.0,42.0,42.0,27.0,39.0,37.0,37.0,38.0,34.0,19.0,0.0,30.0,30.0,29.0,8.0,28.0,29.0,26.0,22.0,25.0,25.0,21.0,19.0,19.0,19.0,18.0,18.0,18.0,13.0,31.0,44.0,21.0,27.0,75.0,11.0,8.0,7.0,7.0,25.0,7.0,5.0,8.0,0.0,2.0,57.0,34.0,7.0,48.0,0.0,37.0,51.0,37.0,14.0,28.0,28.0,42.0,35.0,37.0,0.0,25.0,7.0,23.0,27.0,52.0,16.0,27.0,2.0,45.0,26.0,30.0,16.0,23.0,21.0,28.0,33.0,22.0,39.0,66.0,44.0,3.0,14.0,33.0,37.0,10.0,34.0,56.0,33.0,36.0,41.0,54.0,53.0,22.0,3.0,37.0,59.0,46.0,39.0,31.0,14.0,56.0,30.0,42.0,32.0,35.0,20.0,53.0,5.0,44.0,15.0,50.0,31.0,27.0,32.0,8.0,20.0,20.0,27.0,30.0,30.0,3.0,33.0,32.0,10.0,21.0,48.0,12.0,9.0,25.0,4.0,17.0,13.0,46.0,1.0,27.0,54.0,42.0,35.0,42.0,32.0,63.0,23.0,26.0,41.0,39.0,20.0,29.0,36.0,29.0,36.0,5.0,60.0,25.0,35.0,1.0,7.0,4.0,29.0,14.0,46.0,14.0,14.0,38.0,60.0,48.0,38.0,29.0,24.0,15.0,31.0,21.0,27.0,6.0,9.0,37.0,4.0,35.0,21.0,4.0,37.0,22.0,10.0,40.0,7.0,42.0,7.0,35.0,41.0,33.0,5.0,26.0,54.0,26.0,7.0,26.0,21.0,22.0,25.0,27.0,45.0,29.0,34.0,35.0,27.0,25.0,35.0,43.0,30.0,17.0,43.0,55.0,50.0,38.0,29.0,47.0,31.0,2.0,13.0,7.0,15.0,35.0,31.0,41.0,28.0,39.0,24.0,27.0,25.0,81.0,33.0,17.0,19.0,26.0,47.0,27.0,48.0,46.0,24.0,38.0,60.0,76.0,31.0,44.0,47.0,0.83,36.0,49.0,61.0,32.0,81.0,4.0,4.0,45.0,null,25.0,null,null,64.0,28.0,24.0,33.0,29.0,35.0,31.0,30.0,36.0,26.0,32.0,30.0,22.0,30.0,35.0,57.0,57.0,0.83,36.0,32.0,19.0,63.0,63.0,54.0,35.0,39.0,null,null,0.25,42.0,46.0,31.0,60.0,0.75,0.917,0.66,0.83,0.58,0.156,0.25,0.306,0.5,34.0,34.0,43.0,36.0,49.0,20.0,45.0,41.0,15.0,10.0,7.0,10.0,10.0,4.0,6.0,14.0,5.0,9.0,12.0,5.0,7.0,8.0,7.0,4.0,51.0,52.0,50.0,46.0,1.0,20.0,null,null,null,null,null,54.0,47.0,44.0,56.0,36.0,69.0,78.0,66.0,50.0,28.0,76.0,70.0,65.0,58.0,60.0,60.0,60.0,49.0,38.0,26.0,47.0,48.0,31.0,30.0,58.0,44.0,88.0,75.0,65.0,69.0,0.0465,35.0,55.0,52.0,63.0,48.0,47.0,60.0,45.0,32.0,47.0,50.0,66.0,39.0,49.0,38.0,38.0,42.0,32.0,32.0,19.0,63.0,63.0,65.0,75.0,75.0,45.0,62.0,59.0,55.0,41.0,25.0,35.0,35.0,30.0,30.0,30.0,30.0,29.0,29.0,34.0,50.0,66.0,52.0,33.0,27.0,40.0,26.0,26.0,26.0,29.0,28.0,34.0,46.0,56.0,27.0,32.0,56.0,32.0,63.0,54.0,46.0,48.0,59.0,55.0,30.0,60.0,23.0,76.0,41.0,36.0,35.0,28.0,27.0,8.0,0.83,1.0,0.167,2.0,15.0,13.0,13.0,61.0,50.0,23.0,28.0,35.0,27.0,7.0,22.0,61.0,10.0,46.0,62.0,63.0,30.0,45.0,62.0,50.0,38.0,30.0,53.0,51.0,70.0,65.0,51.0,45.0,64.0,13.0,55.0,48.0,57.0,53.0,60.0,72.0,51.0,83.0,74.0,65.0,62.0,51.0,66.0,51.0,null,null,null,7.0,40.0,40.0,52.0,26.0,22.0,42.0,44.0,46.0,69.0,3.0,2.0,44.0,43.0,62.0,39.0,21.0,41.0,0.299,1.083,30.0,38.0,58.0,60.0,32.0,32.0,13.0,57.0,57.0,76.0,35.0,65.0,49.0,52.0,41.0,61.0,64.0,54.0,42.0,33.0,null,null,null,65.0,27.0,65.0,66.0,37.0,36.0,10.0,63.0,54.0,57.0,72.0,30.0,null,null,null,23.0,null,54.0,25.0,47.0,53.0,29.0,50.0,14.0,56.0,51.0,51.0,27.0,53.0,61.0,6.0,64.0,29.0,28.0,34.0,29.0,15.0,9.0,0.5,56.0,65.0,null,57.0,42.0,57.0,56.0,61.0,48.0,53.0,null,28.0,34.0,4.0,28.0,4.0,32.0,27.0,83.0,80.0,34.0,0.0,78.0,79.0,35.0,33.0,3.0,50.0,49.0,25.0,23.0,34.0,32.0,61.0,62.0,45.0,59.0,33.0,34.0,43.0,26.0,18.0,25.0,69.0,50.0,84.0,73.0,55.0,66.0,67.0,0.5,null,null,7.0,10.917,10.917,9.0,0.583,6.0,0.25,4.0,8.0,5.0,74.0,73.0,65.0,66.0,62.0,63.0,63.0,36.0,10.0,35.0,51.0,65.0,72.0,56.0,1.4,0.83,3.0,4.0,6.0],\"xaxis\":\"x\",\"yaxis\":\"y\",\"type\":\"histogram\"}],                        {\"template\":{\"data\":{\"bar\":[{\"error_x\":{\"color\":\"#2a3f5f\"},\"error_y\":{\"color\":\"#2a3f5f\"},\"marker\":{\"line\":{\"color\":\"#E5ECF6\",\"width\":0.5},\"pattern\":{\"fillmode\":\"overlay\",\"size\":10,\"solidity\":0.2}},\"type\":\"bar\"}],\"barpolar\":[{\"marker\":{\"line\":{\"color\":\"#E5ECF6\",\"width\":0.5},\"pattern\":{\"fillmode\":\"overlay\",\"size\":10,\"solidity\":0.2}},\"type\":\"barpolar\"}],\"carpet\":[{\"aaxis\":{\"endlinecolor\":\"#2a3f5f\",\"gridcolor\":\"white\",\"linecolor\":\"white\",\"minorgridcolor\":\"white\",\"startlinecolor\":\"#2a3f5f\"},\"baxis\":{\"endlinecolor\":\"#2a3f5f\",\"gridcolor\":\"white\",\"linecolor\":\"white\",\"minorgridcolor\":\"white\",\"startlinecolor\":\"#2a3f5f\"},\"type\":\"carpet\"}],\"choropleth\":[{\"colorbar\":{\"outlinewidth\":0,\"ticks\":\"\"},\"type\":\"choropleth\"}],\"contour\":[{\"colorbar\":{\"outlinewidth\":0,\"ticks\":\"\"},\"colorscale\":[[0.0,\"#0d0887\"],[0.1111111111111111,\"#46039f\"],[0.2222222222222222,\"#7201a8\"],[0.3333333333333333,\"#9c179e\"],[0.4444444444444444,\"#bd3786\"],[0.5555555555555556,\"#d8576b\"],[0.6666666666666666,\"#ed7953\"],[0.7777777777777778,\"#fb9f3a\"],[0.8888888888888888,\"#fdca26\"],[1.0,\"#f0f921\"]],\"type\":\"contour\"}],\"contourcarpet\":[{\"colorbar\":{\"outlinewidth\":0,\"ticks\":\"\"},\"type\":\"contourcarpet\"}],\"heatmap\":[{\"colorbar\":{\"outlinewidth\":0,\"ticks\":\"\"},\"colorscale\":[[0.0,\"#0d0887\"],[0.1111111111111111,\"#46039f\"],[0.2222222222222222,\"#7201a8\"],[0.3333333333333333,\"#9c179e\"],[0.4444444444444444,\"#bd3786\"],[0.5555555555555556,\"#d8576b\"],[0.6666666666666666,\"#ed7953\"],[0.7777777777777778,\"#fb9f3a\"],[0.8888888888888888,\"#fdca26\"],[1.0,\"#f0f921\"]],\"type\":\"heatmap\"}],\"heatmapgl\":[{\"colorbar\":{\"outlinewidth\":0,\"ticks\":\"\"},\"colorscale\":[[0.0,\"#0d0887\"],[0.1111111111111111,\"#46039f\"],[0.2222222222222222,\"#7201a8\"],[0.3333333333333333,\"#9c179e\"],[0.4444444444444444,\"#bd3786\"],[0.5555555555555556,\"#d8576b\"],[0.6666666666666666,\"#ed7953\"],[0.7777777777777778,\"#fb9f3a\"],[0.8888888888888888,\"#fdca26\"],[1.0,\"#f0f921\"]],\"type\":\"heatmapgl\"}],\"histogram\":[{\"marker\":{\"pattern\":{\"fillmode\":\"overlay\",\"size\":10,\"solidity\":0.2}},\"type\":\"histogram\"}],\"histogram2d\":[{\"colorbar\":{\"outlinewidth\":0,\"ticks\":\"\"},\"colorscale\":[[0.0,\"#0d0887\"],[0.1111111111111111,\"#46039f\"],[0.2222222222222222,\"#7201a8\"],[0.3333333333333333,\"#9c179e\"],[0.4444444444444444,\"#bd3786\"],[0.5555555555555556,\"#d8576b\"],[0.6666666666666666,\"#ed7953\"],[0.7777777777777778,\"#fb9f3a\"],[0.8888888888888888,\"#fdca26\"],[1.0,\"#f0f921\"]],\"type\":\"histogram2d\"}],\"histogram2dcontour\":[{\"colorbar\":{\"outlinewidth\":0,\"ticks\":\"\"},\"colorscale\":[[0.0,\"#0d0887\"],[0.1111111111111111,\"#46039f\"],[0.2222222222222222,\"#7201a8\"],[0.3333333333333333,\"#9c179e\"],[0.4444444444444444,\"#bd3786\"],[0.5555555555555556,\"#d8576b\"],[0.6666666666666666,\"#ed7953\"],[0.7777777777777778,\"#fb9f3a\"],[0.8888888888888888,\"#fdca26\"],[1.0,\"#f0f921\"]],\"type\":\"histogram2dcontour\"}],\"mesh3d\":[{\"colorbar\":{\"outlinewidth\":0,\"ticks\":\"\"},\"type\":\"mesh3d\"}],\"parcoords\":[{\"line\":{\"colorbar\":{\"outlinewidth\":0,\"ticks\":\"\"}},\"type\":\"parcoords\"}],\"pie\":[{\"automargin\":true,\"type\":\"pie\"}],\"scatter\":[{\"marker\":{\"colorbar\":{\"outlinewidth\":0,\"ticks\":\"\"}},\"type\":\"scatter\"}],\"scatter3d\":[{\"line\":{\"colorbar\":{\"outlinewidth\":0,\"ticks\":\"\"}},\"marker\":{\"colorbar\":{\"outlinewidth\":0,\"ticks\":\"\"}},\"type\":\"scatter3d\"}],\"scattercarpet\":[{\"marker\":{\"colorbar\":{\"outlinewidth\":0,\"ticks\":\"\"}},\"type\":\"scattercarpet\"}],\"scattergeo\":[{\"marker\":{\"colorbar\":{\"outlinewidth\":0,\"ticks\":\"\"}},\"type\":\"scattergeo\"}],\"scattergl\":[{\"marker\":{\"colorbar\":{\"outlinewidth\":0,\"ticks\":\"\"}},\"type\":\"scattergl\"}],\"scattermapbox\":[{\"marker\":{\"colorbar\":{\"outlinewidth\":0,\"ticks\":\"\"}},\"type\":\"scattermapbox\"}],\"scatterpolar\":[{\"marker\":{\"colorbar\":{\"outlinewidth\":0,\"ticks\":\"\"}},\"type\":\"scatterpolar\"}],\"scatterpolargl\":[{\"marker\":{\"colorbar\":{\"outlinewidth\":0,\"ticks\":\"\"}},\"type\":\"scatterpolargl\"}],\"scatterternary\":[{\"marker\":{\"colorbar\":{\"outlinewidth\":0,\"ticks\":\"\"}},\"type\":\"scatterternary\"}],\"surface\":[{\"colorbar\":{\"outlinewidth\":0,\"ticks\":\"\"},\"colorscale\":[[0.0,\"#0d0887\"],[0.1111111111111111,\"#46039f\"],[0.2222222222222222,\"#7201a8\"],[0.3333333333333333,\"#9c179e\"],[0.4444444444444444,\"#bd3786\"],[0.5555555555555556,\"#d8576b\"],[0.6666666666666666,\"#ed7953\"],[0.7777777777777778,\"#fb9f3a\"],[0.8888888888888888,\"#fdca26\"],[1.0,\"#f0f921\"]],\"type\":\"surface\"}],\"table\":[{\"cells\":{\"fill\":{\"color\":\"#EBF0F8\"},\"line\":{\"color\":\"white\"}},\"header\":{\"fill\":{\"color\":\"#C8D4E3\"},\"line\":{\"color\":\"white\"}},\"type\":\"table\"}]},\"layout\":{\"annotationdefaults\":{\"arrowcolor\":\"#2a3f5f\",\"arrowhead\":0,\"arrowwidth\":1},\"autotypenumbers\":\"strict\",\"coloraxis\":{\"colorbar\":{\"outlinewidth\":0,\"ticks\":\"\"}},\"colorscale\":{\"diverging\":[[0,\"#8e0152\"],[0.1,\"#c51b7d\"],[0.2,\"#de77ae\"],[0.3,\"#f1b6da\"],[0.4,\"#fde0ef\"],[0.5,\"#f7f7f7\"],[0.6,\"#e6f5d0\"],[0.7,\"#b8e186\"],[0.8,\"#7fbc41\"],[0.9,\"#4d9221\"],[1,\"#276419\"]],\"sequential\":[[0.0,\"#0d0887\"],[0.1111111111111111,\"#46039f\"],[0.2222222222222222,\"#7201a8\"],[0.3333333333333333,\"#9c179e\"],[0.4444444444444444,\"#bd3786\"],[0.5555555555555556,\"#d8576b\"],[0.6666666666666666,\"#ed7953\"],[0.7777777777777778,\"#fb9f3a\"],[0.8888888888888888,\"#fdca26\"],[1.0,\"#f0f921\"]],\"sequentialminus\":[[0.0,\"#0d0887\"],[0.1111111111111111,\"#46039f\"],[0.2222222222222222,\"#7201a8\"],[0.3333333333333333,\"#9c179e\"],[0.4444444444444444,\"#bd3786\"],[0.5555555555555556,\"#d8576b\"],[0.6666666666666666,\"#ed7953\"],[0.7777777777777778,\"#fb9f3a\"],[0.8888888888888888,\"#fdca26\"],[1.0,\"#f0f921\"]]},\"colorway\":[\"#636efa\",\"#EF553B\",\"#00cc96\",\"#ab63fa\",\"#FFA15A\",\"#19d3f3\",\"#FF6692\",\"#B6E880\",\"#FF97FF\",\"#FECB52\"],\"font\":{\"color\":\"#2a3f5f\"},\"geo\":{\"bgcolor\":\"white\",\"lakecolor\":\"white\",\"landcolor\":\"#E5ECF6\",\"showlakes\":true,\"showland\":true,\"subunitcolor\":\"white\"},\"hoverlabel\":{\"align\":\"left\"},\"hovermode\":\"closest\",\"mapbox\":{\"style\":\"light\"},\"paper_bgcolor\":\"white\",\"plot_bgcolor\":\"#E5ECF6\",\"polar\":{\"angularaxis\":{\"gridcolor\":\"white\",\"linecolor\":\"white\",\"ticks\":\"\"},\"bgcolor\":\"#E5ECF6\",\"radialaxis\":{\"gridcolor\":\"white\",\"linecolor\":\"white\",\"ticks\":\"\"}},\"scene\":{\"xaxis\":{\"backgroundcolor\":\"#E5ECF6\",\"gridcolor\":\"white\",\"gridwidth\":2,\"linecolor\":\"white\",\"showbackground\":true,\"ticks\":\"\",\"zerolinecolor\":\"white\"},\"yaxis\":{\"backgroundcolor\":\"#E5ECF6\",\"gridcolor\":\"white\",\"gridwidth\":2,\"linecolor\":\"white\",\"showbackground\":true,\"ticks\":\"\",\"zerolinecolor\":\"white\"},\"zaxis\":{\"backgroundcolor\":\"#E5ECF6\",\"gridcolor\":\"white\",\"gridwidth\":2,\"linecolor\":\"white\",\"showbackground\":true,\"ticks\":\"\",\"zerolinecolor\":\"white\"}},\"shapedefaults\":{\"line\":{\"color\":\"#2a3f5f\"}},\"ternary\":{\"aaxis\":{\"gridcolor\":\"white\",\"linecolor\":\"white\",\"ticks\":\"\"},\"baxis\":{\"gridcolor\":\"white\",\"linecolor\":\"white\",\"ticks\":\"\"},\"bgcolor\":\"#E5ECF6\",\"caxis\":{\"gridcolor\":\"white\",\"linecolor\":\"white\",\"ticks\":\"\"}},\"title\":{\"x\":0.05},\"xaxis\":{\"automargin\":true,\"gridcolor\":\"white\",\"linecolor\":\"white\",\"ticks\":\"\",\"title\":{\"standoff\":15},\"zerolinecolor\":\"white\",\"zerolinewidth\":2},\"yaxis\":{\"automargin\":true,\"gridcolor\":\"white\",\"linecolor\":\"white\",\"ticks\":\"\",\"title\":{\"standoff\":15},\"zerolinecolor\":\"white\",\"zerolinewidth\":2}}},\"xaxis\":{\"anchor\":\"y\",\"domain\":[0.0,1.0],\"title\":{\"text\":\"Age\"}},\"yaxis\":{\"anchor\":\"x\",\"domain\":[0.0,1.0],\"title\":{\"text\":\"count\"}},\"legend\":{\"tracegroupgap\":0},\"margin\":{\"t\":60},\"barmode\":\"relative\"},                        {\"responsive\": true}                    ).then(function(){\n",
       "                            \n",
       "var gd = document.getElementById('47a5083a-1f28-40b5-8add-15926cac4af0');\n",
       "var x = new MutationObserver(function (mutations, observer) {{\n",
       "        var display = window.getComputedStyle(gd).display;\n",
       "        if (!display || display === 'none') {{\n",
       "            console.log([gd, 'removed!']);\n",
       "            Plotly.purge(gd);\n",
       "            observer.disconnect();\n",
       "        }}\n",
       "}});\n",
       "\n",
       "// Listen for the removal of the full notebook cells\n",
       "var notebookContainer = gd.closest('#notebook-container');\n",
       "if (notebookContainer) {{\n",
       "    x.observe(notebookContainer, {childList: true});\n",
       "}}\n",
       "\n",
       "// Listen for the clearing of the current output cell\n",
       "var outputEl = gd.closest('.output');\n",
       "if (outputEl) {{\n",
       "    x.observe(outputEl, {childList: true});\n",
       "}}\n",
       "\n",
       "                        })                };                });            </script>        </div>"
      ]
     },
     "metadata": {},
     "output_type": "display_data"
    }
   ],
   "source": [
    "px.histogram(covid_df, x='Age', nbins=100)"
   ]
  },
  {
   "cell_type": "markdown",
   "id": "415b3152-9b78-4fe8-b44b-74d692bd2cfc",
   "metadata": {},
   "source": [
    "### Get a summary of the response variable"
   ]
  },
  {
   "cell_type": "code",
   "execution_count": 92,
   "id": "06e1b9c6-8478-4db2-9f1a-df35aea6dc61",
   "metadata": {},
   "outputs": [
    {
     "data": {
      "text/plain": [
       "Diagnosis\n",
       "H1N1       0.723347\n",
       "COVID19    0.276653\n",
       "Name: proportion, dtype: float64"
      ]
     },
     "execution_count": 92,
     "metadata": {},
     "output_type": "execute_result"
    }
   ],
   "source": [
    "covid_df['Diagnosis'].value_counts(normalize=True)"
   ]
  },
  {
   "cell_type": "code",
   "execution_count": 96,
   "id": "55a11409-737b-427e-98c2-c4e1af8d9413",
   "metadata": {},
   "outputs": [
    {
     "data": {
      "application/vnd.plotly.v1+json": {
       "config": {
        "plotlyServerURL": "https://plot.ly"
       },
       "data": [
        {
         "alignmentgroup": "True",
         "bingroup": "x",
         "histnorm": "percent",
         "hovertemplate": "variable=Diagnosis<br>value=%{x}<br>percent=%{y}<extra></extra>",
         "legendgroup": "Diagnosis",
         "marker": {
          "color": "#636efa",
          "pattern": {
           "shape": ""
          }
         },
         "name": "Diagnosis",
         "offsetgroup": "Diagnosis",
         "orientation": "v",
         "showlegend": true,
         "type": "histogram",
         "x": [
          "H1N1",
          "H1N1",
          "H1N1",
          "H1N1",
          "H1N1",
          "H1N1",
          "H1N1",
          "H1N1",
          "H1N1",
          "H1N1",
          "H1N1",
          "H1N1",
          "H1N1",
          "H1N1",
          "H1N1",
          "H1N1",
          "H1N1",
          "H1N1",
          "H1N1",
          "H1N1",
          "H1N1",
          "H1N1",
          "H1N1",
          "H1N1",
          "H1N1",
          "H1N1",
          "H1N1",
          "H1N1",
          "H1N1",
          "H1N1",
          "H1N1",
          "H1N1",
          "H1N1",
          "H1N1",
          "H1N1",
          "H1N1",
          "H1N1",
          "H1N1",
          "H1N1",
          "H1N1",
          "H1N1",
          "H1N1",
          "H1N1",
          "H1N1",
          "H1N1",
          "H1N1",
          "H1N1",
          "H1N1",
          "H1N1",
          "H1N1",
          "H1N1",
          "H1N1",
          "H1N1",
          "H1N1",
          "H1N1",
          "H1N1",
          "H1N1",
          "H1N1",
          "H1N1",
          "H1N1",
          "H1N1",
          "H1N1",
          "H1N1",
          "H1N1",
          "H1N1",
          "H1N1",
          "H1N1",
          "H1N1",
          "H1N1",
          "H1N1",
          "H1N1",
          "H1N1",
          "H1N1",
          "H1N1",
          "H1N1",
          "H1N1",
          "H1N1",
          "H1N1",
          "H1N1",
          "H1N1",
          "H1N1",
          "H1N1",
          "H1N1",
          "H1N1",
          "H1N1",
          "H1N1",
          "H1N1",
          "H1N1",
          "H1N1",
          "H1N1",
          "H1N1",
          "H1N1",
          "H1N1",
          "H1N1",
          "H1N1",
          "H1N1",
          "H1N1",
          "H1N1",
          "H1N1",
          "H1N1",
          "H1N1",
          "H1N1",
          "H1N1",
          "H1N1",
          "H1N1",
          "H1N1",
          "H1N1",
          "H1N1",
          "H1N1",
          "H1N1",
          "H1N1",
          "H1N1",
          "H1N1",
          "H1N1",
          "H1N1",
          "H1N1",
          "H1N1",
          "H1N1",
          "H1N1",
          "H1N1",
          "H1N1",
          "H1N1",
          "H1N1",
          "H1N1",
          "H1N1",
          "H1N1",
          "H1N1",
          "H1N1",
          "H1N1",
          "H1N1",
          "H1N1",
          "H1N1",
          "H1N1",
          "H1N1",
          "H1N1",
          "H1N1",
          "H1N1",
          "H1N1",
          "H1N1",
          "H1N1",
          "H1N1",
          "H1N1",
          "H1N1",
          "H1N1",
          "H1N1",
          "H1N1",
          "H1N1",
          "H1N1",
          "H1N1",
          "H1N1",
          "H1N1",
          "H1N1",
          "H1N1",
          "H1N1",
          "H1N1",
          "H1N1",
          "H1N1",
          "H1N1",
          "H1N1",
          "H1N1",
          "H1N1",
          "H1N1",
          "H1N1",
          "H1N1",
          "H1N1",
          "H1N1",
          "H1N1",
          "H1N1",
          "H1N1",
          "H1N1",
          "H1N1",
          "H1N1",
          "H1N1",
          "H1N1",
          "H1N1",
          "H1N1",
          "H1N1",
          "H1N1",
          "H1N1",
          "H1N1",
          "H1N1",
          "H1N1",
          "H1N1",
          "H1N1",
          "H1N1",
          "H1N1",
          "H1N1",
          "H1N1",
          "H1N1",
          "H1N1",
          "H1N1",
          "H1N1",
          "H1N1",
          "H1N1",
          "H1N1",
          "H1N1",
          "H1N1",
          "H1N1",
          "H1N1",
          "H1N1",
          "H1N1",
          "H1N1",
          "H1N1",
          "H1N1",
          "H1N1",
          "H1N1",
          "H1N1",
          "H1N1",
          "H1N1",
          "H1N1",
          "H1N1",
          "H1N1",
          "H1N1",
          "H1N1",
          "H1N1",
          "H1N1",
          "H1N1",
          "H1N1",
          "H1N1",
          "H1N1",
          "H1N1",
          "H1N1",
          "H1N1",
          "H1N1",
          "H1N1",
          "H1N1",
          "H1N1",
          "H1N1",
          "H1N1",
          "H1N1",
          "H1N1",
          "H1N1",
          "H1N1",
          "H1N1",
          "H1N1",
          "H1N1",
          "H1N1",
          "H1N1",
          "H1N1",
          "H1N1",
          "H1N1",
          "H1N1",
          "H1N1",
          "H1N1",
          "H1N1",
          "H1N1",
          "H1N1",
          "H1N1",
          "H1N1",
          "H1N1",
          "H1N1",
          "H1N1",
          "H1N1",
          "H1N1",
          "H1N1",
          "H1N1",
          "H1N1",
          "H1N1",
          "H1N1",
          "H1N1",
          "H1N1",
          "H1N1",
          "H1N1",
          "H1N1",
          "H1N1",
          "H1N1",
          "H1N1",
          "H1N1",
          "H1N1",
          "H1N1",
          "H1N1",
          "H1N1",
          "H1N1",
          "H1N1",
          "H1N1",
          "H1N1",
          "H1N1",
          "H1N1",
          "H1N1",
          "H1N1",
          "H1N1",
          "H1N1",
          "H1N1",
          "H1N1",
          "H1N1",
          "H1N1",
          "H1N1",
          "H1N1",
          "H1N1",
          "H1N1",
          "H1N1",
          "H1N1",
          "H1N1",
          "H1N1",
          "H1N1",
          "H1N1",
          "H1N1",
          "H1N1",
          "H1N1",
          "H1N1",
          "H1N1",
          "H1N1",
          "H1N1",
          "H1N1",
          "H1N1",
          "H1N1",
          "H1N1",
          "H1N1",
          "H1N1",
          "H1N1",
          "H1N1",
          "H1N1",
          "H1N1",
          "H1N1",
          "H1N1",
          "H1N1",
          "H1N1",
          "H1N1",
          "H1N1",
          "H1N1",
          "H1N1",
          "H1N1",
          "H1N1",
          "H1N1",
          "H1N1",
          "H1N1",
          "H1N1",
          "H1N1",
          "H1N1",
          "H1N1",
          "H1N1",
          "H1N1",
          "H1N1",
          "H1N1",
          "H1N1",
          "H1N1",
          "H1N1",
          "H1N1",
          "H1N1",
          "H1N1",
          "H1N1",
          "H1N1",
          "H1N1",
          "H1N1",
          "H1N1",
          "H1N1",
          "H1N1",
          "H1N1",
          "H1N1",
          "H1N1",
          "H1N1",
          "H1N1",
          "H1N1",
          "H1N1",
          "H1N1",
          "H1N1",
          "H1N1",
          "H1N1",
          "H1N1",
          "H1N1",
          "H1N1",
          "H1N1",
          "H1N1",
          "H1N1",
          "H1N1",
          "H1N1",
          "H1N1",
          "H1N1",
          "H1N1",
          "H1N1",
          "H1N1",
          "H1N1",
          "H1N1",
          "H1N1",
          "H1N1",
          "H1N1",
          "H1N1",
          "H1N1",
          "H1N1",
          "H1N1",
          "H1N1",
          "H1N1",
          "H1N1",
          "H1N1",
          "H1N1",
          "H1N1",
          "H1N1",
          "H1N1",
          "H1N1",
          "H1N1",
          "H1N1",
          "H1N1",
          "H1N1",
          "H1N1",
          "H1N1",
          "H1N1",
          "H1N1",
          "H1N1",
          "H1N1",
          "H1N1",
          "H1N1",
          "H1N1",
          "H1N1",
          "H1N1",
          "H1N1",
          "H1N1",
          "H1N1",
          "H1N1",
          "H1N1",
          "H1N1",
          "H1N1",
          "H1N1",
          "H1N1",
          "H1N1",
          "H1N1",
          "H1N1",
          "H1N1",
          "H1N1",
          "H1N1",
          "H1N1",
          "H1N1",
          "H1N1",
          "H1N1",
          "H1N1",
          "H1N1",
          "H1N1",
          "H1N1",
          "H1N1",
          "H1N1",
          "H1N1",
          "H1N1",
          "H1N1",
          "H1N1",
          "H1N1",
          "H1N1",
          "H1N1",
          "H1N1",
          "H1N1",
          "H1N1",
          "H1N1",
          "H1N1",
          "H1N1",
          "H1N1",
          "H1N1",
          "H1N1",
          "H1N1",
          "H1N1",
          "H1N1",
          "H1N1",
          "H1N1",
          "H1N1",
          "H1N1",
          "H1N1",
          "H1N1",
          "H1N1",
          "H1N1",
          "H1N1",
          "H1N1",
          "H1N1",
          "H1N1",
          "H1N1",
          "H1N1",
          "H1N1",
          "H1N1",
          "H1N1",
          "H1N1",
          "H1N1",
          "H1N1",
          "H1N1",
          "H1N1",
          "H1N1",
          "H1N1",
          "H1N1",
          "H1N1",
          "H1N1",
          "H1N1",
          "H1N1",
          "H1N1",
          "H1N1",
          "H1N1",
          "H1N1",
          "H1N1",
          "H1N1",
          "H1N1",
          "H1N1",
          "H1N1",
          "H1N1",
          "H1N1",
          "H1N1",
          "H1N1",
          "H1N1",
          "H1N1",
          "H1N1",
          "H1N1",
          "H1N1",
          "H1N1",
          "H1N1",
          "H1N1",
          "H1N1",
          "H1N1",
          "H1N1",
          "H1N1",
          "H1N1",
          "H1N1",
          "H1N1",
          "H1N1",
          "H1N1",
          "H1N1",
          "H1N1",
          "H1N1",
          "H1N1",
          "H1N1",
          "H1N1",
          "H1N1",
          "H1N1",
          "H1N1",
          "H1N1",
          "H1N1",
          "H1N1",
          "H1N1",
          "H1N1",
          "H1N1",
          "H1N1",
          "H1N1",
          "H1N1",
          "H1N1",
          "H1N1",
          "H1N1",
          "H1N1",
          "H1N1",
          "H1N1",
          "H1N1",
          "H1N1",
          "H1N1",
          "H1N1",
          "H1N1",
          "H1N1",
          "H1N1",
          "H1N1",
          "H1N1",
          "H1N1",
          "H1N1",
          "H1N1",
          "H1N1",
          "H1N1",
          "H1N1",
          "H1N1",
          "H1N1",
          "H1N1",
          "H1N1",
          "H1N1",
          "H1N1",
          "H1N1",
          "H1N1",
          "H1N1",
          "H1N1",
          "H1N1",
          "H1N1",
          "H1N1",
          "H1N1",
          "H1N1",
          "H1N1",
          "H1N1",
          "H1N1",
          "H1N1",
          "H1N1",
          "H1N1",
          "H1N1",
          "H1N1",
          "H1N1",
          "H1N1",
          "H1N1",
          "H1N1",
          "H1N1",
          "H1N1",
          "H1N1",
          "H1N1",
          "H1N1",
          "H1N1",
          "H1N1",
          "H1N1",
          "H1N1",
          "H1N1",
          "H1N1",
          "H1N1",
          "H1N1",
          "H1N1",
          "H1N1",
          "H1N1",
          "H1N1",
          "H1N1",
          "H1N1",
          "H1N1",
          "H1N1",
          "H1N1",
          "H1N1",
          "H1N1",
          "H1N1",
          "H1N1",
          "H1N1",
          "H1N1",
          "H1N1",
          "H1N1",
          "H1N1",
          "H1N1",
          "H1N1",
          "H1N1",
          "H1N1",
          "H1N1",
          "H1N1",
          "H1N1",
          "H1N1",
          "H1N1",
          "H1N1",
          "H1N1",
          "H1N1",
          "H1N1",
          "H1N1",
          "H1N1",
          "H1N1",
          "H1N1",
          "H1N1",
          "H1N1",
          "H1N1",
          "H1N1",
          "H1N1",
          "H1N1",
          "H1N1",
          "H1N1",
          "H1N1",
          "H1N1",
          "H1N1",
          "H1N1",
          "H1N1",
          "H1N1",
          "H1N1",
          "H1N1",
          "H1N1",
          "H1N1",
          "H1N1",
          "H1N1",
          "H1N1",
          "H1N1",
          "H1N1",
          "H1N1",
          "H1N1",
          "H1N1",
          "H1N1",
          "H1N1",
          "H1N1",
          "H1N1",
          "H1N1",
          "H1N1",
          "H1N1",
          "H1N1",
          "H1N1",
          "H1N1",
          "H1N1",
          "H1N1",
          "H1N1",
          "H1N1",
          "H1N1",
          "H1N1",
          "H1N1",
          "H1N1",
          "H1N1",
          "H1N1",
          "H1N1",
          "H1N1",
          "H1N1",
          "H1N1",
          "H1N1",
          "H1N1",
          "H1N1",
          "H1N1",
          "H1N1",
          "H1N1",
          "H1N1",
          "H1N1",
          "H1N1",
          "H1N1",
          "H1N1",
          "H1N1",
          "H1N1",
          "H1N1",
          "H1N1",
          "H1N1",
          "H1N1",
          "H1N1",
          "H1N1",
          "H1N1",
          "H1N1",
          "H1N1",
          "H1N1",
          "H1N1",
          "H1N1",
          "H1N1",
          "H1N1",
          "H1N1",
          "H1N1",
          "H1N1",
          "H1N1",
          "H1N1",
          "H1N1",
          "H1N1",
          "H1N1",
          "H1N1",
          "H1N1",
          "H1N1",
          "H1N1",
          "H1N1",
          "H1N1",
          "H1N1",
          "H1N1",
          "H1N1",
          "H1N1",
          "H1N1",
          "H1N1",
          "H1N1",
          "H1N1",
          "H1N1",
          "H1N1",
          "H1N1",
          "H1N1",
          "H1N1",
          "H1N1",
          "H1N1",
          "H1N1",
          "H1N1",
          "H1N1",
          "H1N1",
          "H1N1",
          "H1N1",
          "H1N1",
          "H1N1",
          "H1N1",
          "H1N1",
          "H1N1",
          "H1N1",
          "H1N1",
          "H1N1",
          "H1N1",
          "H1N1",
          "H1N1",
          "H1N1",
          "H1N1",
          "H1N1",
          "H1N1",
          "H1N1",
          "H1N1",
          "H1N1",
          "H1N1",
          "H1N1",
          "H1N1",
          "H1N1",
          "H1N1",
          "H1N1",
          "H1N1",
          "H1N1",
          "H1N1",
          "H1N1",
          "H1N1",
          "H1N1",
          "H1N1",
          "H1N1",
          "H1N1",
          "H1N1",
          "H1N1",
          "H1N1",
          "H1N1",
          "H1N1",
          "H1N1",
          "H1N1",
          "H1N1",
          "H1N1",
          "H1N1",
          "H1N1",
          "H1N1",
          "H1N1",
          "H1N1",
          "H1N1",
          "H1N1",
          "H1N1",
          "H1N1",
          "H1N1",
          "H1N1",
          "H1N1",
          "H1N1",
          "H1N1",
          "H1N1",
          "H1N1",
          "H1N1",
          "H1N1",
          "H1N1",
          "H1N1",
          "H1N1",
          "H1N1",
          "H1N1",
          "H1N1",
          "H1N1",
          "H1N1",
          "H1N1",
          "H1N1",
          "H1N1",
          "H1N1",
          "H1N1",
          "H1N1",
          "H1N1",
          "H1N1",
          "H1N1",
          "H1N1",
          "H1N1",
          "H1N1",
          "H1N1",
          "H1N1",
          "H1N1",
          "H1N1",
          "H1N1",
          "H1N1",
          "H1N1",
          "H1N1",
          "H1N1",
          "H1N1",
          "H1N1",
          "H1N1",
          "H1N1",
          "H1N1",
          "H1N1",
          "H1N1",
          "H1N1",
          "H1N1",
          "H1N1",
          "H1N1",
          "H1N1",
          "H1N1",
          "H1N1",
          "H1N1",
          "H1N1",
          "H1N1",
          "H1N1",
          "H1N1",
          "H1N1",
          "H1N1",
          "H1N1",
          "H1N1",
          "H1N1",
          "H1N1",
          "H1N1",
          "H1N1",
          "H1N1",
          "H1N1",
          "H1N1",
          "H1N1",
          "H1N1",
          "H1N1",
          "H1N1",
          "H1N1",
          "H1N1",
          "H1N1",
          "H1N1",
          "H1N1",
          "H1N1",
          "H1N1",
          "H1N1",
          "H1N1",
          "H1N1",
          "H1N1",
          "H1N1",
          "H1N1",
          "H1N1",
          "H1N1",
          "H1N1",
          "H1N1",
          "H1N1",
          "H1N1",
          "H1N1",
          "H1N1",
          "H1N1",
          "H1N1",
          "H1N1",
          "H1N1",
          "H1N1",
          "H1N1",
          "H1N1",
          "H1N1",
          "H1N1",
          "H1N1",
          "H1N1",
          "H1N1",
          "H1N1",
          "H1N1",
          "H1N1",
          "H1N1",
          "H1N1",
          "H1N1",
          "H1N1",
          "H1N1",
          "H1N1",
          "H1N1",
          "H1N1",
          "H1N1",
          "H1N1",
          "H1N1",
          "H1N1",
          "H1N1",
          "H1N1",
          "H1N1",
          "H1N1",
          "H1N1",
          "H1N1",
          "H1N1",
          "H1N1",
          "H1N1",
          "H1N1",
          "H1N1",
          "H1N1",
          "H1N1",
          "H1N1",
          "H1N1",
          "H1N1",
          "H1N1",
          "H1N1",
          "H1N1",
          "H1N1",
          "H1N1",
          "H1N1",
          "H1N1",
          "H1N1",
          "H1N1",
          "H1N1",
          "H1N1",
          "H1N1",
          "H1N1",
          "H1N1",
          "H1N1",
          "H1N1",
          "H1N1",
          "H1N1",
          "H1N1",
          "H1N1",
          "H1N1",
          "H1N1",
          "H1N1",
          "H1N1",
          "H1N1",
          "H1N1",
          "H1N1",
          "H1N1",
          "H1N1",
          "H1N1",
          "H1N1",
          "H1N1",
          "H1N1",
          "H1N1",
          "H1N1",
          "H1N1",
          "H1N1",
          "H1N1",
          "H1N1",
          "H1N1",
          "H1N1",
          "H1N1",
          "H1N1",
          "H1N1",
          "H1N1",
          "H1N1",
          "H1N1",
          "H1N1",
          "H1N1",
          "H1N1",
          "H1N1",
          "H1N1",
          "H1N1",
          "H1N1",
          "H1N1",
          "H1N1",
          "H1N1",
          "H1N1",
          "H1N1",
          "H1N1",
          "H1N1",
          "H1N1",
          "H1N1",
          "H1N1",
          "H1N1",
          "H1N1",
          "H1N1",
          "H1N1",
          "H1N1",
          "H1N1",
          "H1N1",
          "H1N1",
          "H1N1",
          "H1N1",
          "H1N1",
          "H1N1",
          "H1N1",
          "H1N1",
          "H1N1",
          "H1N1",
          "H1N1",
          "H1N1",
          "H1N1",
          "H1N1",
          "H1N1",
          "H1N1",
          "H1N1",
          "H1N1",
          "H1N1",
          "H1N1",
          "H1N1",
          "H1N1",
          "H1N1",
          "H1N1",
          "H1N1",
          "H1N1",
          "H1N1",
          "H1N1",
          "H1N1",
          "H1N1",
          "H1N1",
          "H1N1",
          "H1N1",
          "H1N1",
          "H1N1",
          "H1N1",
          "H1N1",
          "H1N1",
          "H1N1",
          "H1N1",
          "H1N1",
          "H1N1",
          "H1N1",
          "H1N1",
          "H1N1",
          "H1N1",
          "H1N1",
          "H1N1",
          "H1N1",
          "H1N1",
          "H1N1",
          "H1N1",
          "H1N1",
          "H1N1",
          "H1N1",
          "H1N1",
          "H1N1",
          "H1N1",
          "H1N1",
          "H1N1",
          "H1N1",
          "H1N1",
          "H1N1",
          "H1N1",
          "H1N1",
          "H1N1",
          "H1N1",
          "H1N1",
          "H1N1",
          "H1N1",
          "H1N1",
          "H1N1",
          "H1N1",
          "H1N1",
          "H1N1",
          "H1N1",
          "H1N1",
          "H1N1",
          "H1N1",
          "H1N1",
          "H1N1",
          "H1N1",
          "COVID19",
          "COVID19",
          "COVID19",
          "COVID19",
          "COVID19",
          "COVID19",
          "COVID19",
          "COVID19",
          "COVID19",
          "COVID19",
          "COVID19",
          "COVID19",
          "COVID19",
          "COVID19",
          "COVID19",
          "COVID19",
          "COVID19",
          "COVID19",
          "COVID19",
          "COVID19",
          "COVID19",
          "COVID19",
          "COVID19",
          "COVID19",
          "COVID19",
          "COVID19",
          "COVID19",
          "COVID19",
          "COVID19",
          "COVID19",
          "COVID19",
          "COVID19",
          "COVID19",
          "COVID19",
          "COVID19",
          "COVID19",
          "COVID19",
          "COVID19",
          "COVID19",
          "COVID19",
          "COVID19",
          "COVID19",
          "COVID19",
          "COVID19",
          "COVID19",
          "COVID19",
          "COVID19",
          "COVID19",
          "COVID19",
          "COVID19",
          "COVID19",
          "COVID19",
          "COVID19",
          "COVID19",
          "COVID19",
          "COVID19",
          "COVID19",
          "COVID19",
          "COVID19",
          "COVID19",
          "COVID19",
          "COVID19",
          "COVID19",
          "COVID19",
          "COVID19",
          "COVID19",
          "COVID19",
          "COVID19",
          "COVID19",
          "COVID19",
          "COVID19",
          "COVID19",
          "COVID19",
          "COVID19",
          "COVID19",
          "COVID19",
          "COVID19",
          "COVID19",
          "COVID19",
          "COVID19",
          "COVID19",
          "COVID19",
          "COVID19",
          "COVID19",
          "COVID19",
          "COVID19",
          "COVID19",
          "COVID19",
          "COVID19",
          "COVID19",
          "COVID19",
          "COVID19",
          "COVID19",
          "COVID19",
          "COVID19",
          "COVID19",
          "COVID19",
          "COVID19",
          "COVID19",
          "COVID19",
          "COVID19",
          "COVID19",
          "COVID19",
          "COVID19",
          "COVID19",
          "COVID19",
          "COVID19",
          "COVID19",
          "COVID19",
          "COVID19",
          "COVID19",
          "COVID19",
          "COVID19",
          "COVID19",
          "COVID19",
          "COVID19",
          "COVID19",
          "COVID19",
          "COVID19",
          "COVID19",
          "COVID19",
          "COVID19",
          "COVID19",
          "COVID19",
          "COVID19",
          "COVID19",
          "COVID19",
          "COVID19",
          "COVID19",
          "COVID19",
          "COVID19",
          "COVID19",
          "COVID19",
          "COVID19",
          "COVID19",
          "COVID19",
          "COVID19",
          "COVID19",
          "COVID19",
          "COVID19",
          "COVID19",
          "COVID19",
          "COVID19",
          "COVID19",
          "COVID19",
          "COVID19",
          "COVID19",
          "COVID19",
          "COVID19",
          "COVID19",
          "COVID19",
          "COVID19",
          "COVID19",
          "COVID19",
          "COVID19",
          "COVID19",
          "COVID19",
          "COVID19",
          "COVID19",
          "COVID19",
          "COVID19",
          "COVID19",
          "COVID19",
          "COVID19",
          "COVID19",
          "COVID19",
          "COVID19",
          "COVID19",
          "COVID19",
          "COVID19",
          "COVID19",
          "COVID19",
          "COVID19",
          "COVID19",
          "COVID19",
          "COVID19",
          "COVID19",
          "COVID19",
          "COVID19",
          "COVID19",
          "COVID19",
          "COVID19",
          "COVID19",
          "COVID19",
          "COVID19",
          "COVID19",
          "COVID19",
          "COVID19",
          "COVID19",
          "COVID19",
          "COVID19",
          "COVID19",
          "COVID19",
          "COVID19",
          "COVID19",
          "COVID19",
          "COVID19",
          "COVID19",
          "COVID19",
          "COVID19",
          "COVID19",
          "COVID19",
          "COVID19",
          "COVID19",
          "COVID19",
          "COVID19",
          "COVID19",
          "COVID19",
          "COVID19",
          "COVID19",
          "COVID19",
          "COVID19",
          "COVID19",
          "COVID19",
          "COVID19",
          "COVID19",
          "COVID19",
          "COVID19",
          "COVID19",
          "COVID19",
          "COVID19",
          "COVID19",
          "COVID19",
          "COVID19",
          "COVID19",
          "COVID19",
          "COVID19",
          "COVID19",
          "COVID19",
          "COVID19",
          "COVID19",
          "COVID19",
          "COVID19",
          "COVID19",
          "COVID19",
          "COVID19",
          "COVID19",
          "COVID19",
          "COVID19",
          "COVID19",
          "COVID19",
          "COVID19",
          "COVID19",
          "COVID19",
          "COVID19",
          "COVID19",
          "COVID19",
          "COVID19",
          "COVID19",
          "COVID19",
          "COVID19",
          "COVID19",
          "COVID19",
          "COVID19",
          "COVID19",
          "COVID19",
          "COVID19",
          "COVID19",
          "COVID19",
          "COVID19",
          "COVID19",
          "COVID19",
          "COVID19",
          "COVID19",
          "COVID19",
          "COVID19",
          "COVID19",
          "COVID19",
          "COVID19",
          "COVID19",
          "COVID19",
          "COVID19",
          "COVID19",
          "COVID19",
          "COVID19",
          "COVID19",
          "COVID19",
          "COVID19",
          "COVID19",
          "COVID19",
          "COVID19",
          "COVID19",
          "COVID19",
          "COVID19",
          "COVID19",
          "COVID19",
          "COVID19",
          "COVID19",
          "COVID19",
          "COVID19",
          "COVID19",
          "COVID19",
          "COVID19",
          "COVID19",
          "COVID19",
          "COVID19",
          "COVID19",
          "COVID19",
          "COVID19",
          "COVID19",
          "COVID19",
          "COVID19",
          "COVID19",
          "COVID19",
          "COVID19",
          "COVID19",
          "COVID19",
          "COVID19",
          "COVID19",
          "COVID19",
          "COVID19",
          "COVID19",
          "COVID19",
          "COVID19",
          "COVID19",
          "COVID19",
          "COVID19",
          "COVID19",
          "COVID19",
          "COVID19",
          "COVID19",
          "COVID19",
          "COVID19",
          "COVID19",
          "COVID19",
          "COVID19",
          "COVID19",
          "COVID19",
          "COVID19",
          "COVID19",
          "COVID19",
          "COVID19",
          "COVID19",
          "COVID19",
          "COVID19",
          "COVID19",
          "COVID19",
          "COVID19",
          "COVID19",
          "COVID19",
          "COVID19",
          "COVID19",
          "COVID19",
          "COVID19",
          "COVID19",
          "COVID19",
          "COVID19",
          "COVID19",
          "COVID19",
          "COVID19",
          "COVID19",
          "COVID19",
          "COVID19",
          "COVID19",
          "COVID19",
          "COVID19",
          "COVID19",
          "COVID19",
          "COVID19",
          "COVID19",
          "COVID19",
          "COVID19",
          "COVID19",
          "COVID19",
          "COVID19",
          "COVID19",
          "COVID19",
          "COVID19",
          "COVID19",
          "COVID19",
          "COVID19",
          "COVID19",
          "COVID19",
          "COVID19",
          "COVID19",
          "COVID19",
          "COVID19",
          "COVID19",
          "COVID19",
          "COVID19",
          "COVID19",
          "COVID19",
          "COVID19",
          "COVID19",
          "COVID19",
          "COVID19",
          "COVID19",
          "COVID19",
          "COVID19",
          "COVID19",
          "COVID19",
          "COVID19",
          "COVID19",
          "COVID19",
          "COVID19",
          "COVID19",
          "COVID19",
          "COVID19",
          "COVID19",
          "COVID19",
          "COVID19",
          "COVID19",
          "COVID19",
          "COVID19",
          "COVID19",
          "COVID19",
          "COVID19",
          "COVID19",
          "COVID19",
          "COVID19"
         ],
         "xaxis": "x",
         "yaxis": "y"
        }
       ],
       "layout": {
        "autosize": true,
        "barmode": "relative",
        "legend": {
         "title": {
          "text": "variable"
         },
         "tracegroupgap": 0
        },
        "margin": {
         "t": 60
        },
        "template": {
         "data": {
          "bar": [
           {
            "error_x": {
             "color": "#2a3f5f"
            },
            "error_y": {
             "color": "#2a3f5f"
            },
            "marker": {
             "line": {
              "color": "#E5ECF6",
              "width": 0.5
             },
             "pattern": {
              "fillmode": "overlay",
              "size": 10,
              "solidity": 0.2
             }
            },
            "type": "bar"
           }
          ],
          "barpolar": [
           {
            "marker": {
             "line": {
              "color": "#E5ECF6",
              "width": 0.5
             },
             "pattern": {
              "fillmode": "overlay",
              "size": 10,
              "solidity": 0.2
             }
            },
            "type": "barpolar"
           }
          ],
          "carpet": [
           {
            "aaxis": {
             "endlinecolor": "#2a3f5f",
             "gridcolor": "white",
             "linecolor": "white",
             "minorgridcolor": "white",
             "startlinecolor": "#2a3f5f"
            },
            "baxis": {
             "endlinecolor": "#2a3f5f",
             "gridcolor": "white",
             "linecolor": "white",
             "minorgridcolor": "white",
             "startlinecolor": "#2a3f5f"
            },
            "type": "carpet"
           }
          ],
          "choropleth": [
           {
            "colorbar": {
             "outlinewidth": 0,
             "ticks": ""
            },
            "type": "choropleth"
           }
          ],
          "contour": [
           {
            "colorbar": {
             "outlinewidth": 0,
             "ticks": ""
            },
            "colorscale": [
             [
              0,
              "#0d0887"
             ],
             [
              0.1111111111111111,
              "#46039f"
             ],
             [
              0.2222222222222222,
              "#7201a8"
             ],
             [
              0.3333333333333333,
              "#9c179e"
             ],
             [
              0.4444444444444444,
              "#bd3786"
             ],
             [
              0.5555555555555556,
              "#d8576b"
             ],
             [
              0.6666666666666666,
              "#ed7953"
             ],
             [
              0.7777777777777778,
              "#fb9f3a"
             ],
             [
              0.8888888888888888,
              "#fdca26"
             ],
             [
              1,
              "#f0f921"
             ]
            ],
            "type": "contour"
           }
          ],
          "contourcarpet": [
           {
            "colorbar": {
             "outlinewidth": 0,
             "ticks": ""
            },
            "type": "contourcarpet"
           }
          ],
          "heatmap": [
           {
            "colorbar": {
             "outlinewidth": 0,
             "ticks": ""
            },
            "colorscale": [
             [
              0,
              "#0d0887"
             ],
             [
              0.1111111111111111,
              "#46039f"
             ],
             [
              0.2222222222222222,
              "#7201a8"
             ],
             [
              0.3333333333333333,
              "#9c179e"
             ],
             [
              0.4444444444444444,
              "#bd3786"
             ],
             [
              0.5555555555555556,
              "#d8576b"
             ],
             [
              0.6666666666666666,
              "#ed7953"
             ],
             [
              0.7777777777777778,
              "#fb9f3a"
             ],
             [
              0.8888888888888888,
              "#fdca26"
             ],
             [
              1,
              "#f0f921"
             ]
            ],
            "type": "heatmap"
           }
          ],
          "heatmapgl": [
           {
            "colorbar": {
             "outlinewidth": 0,
             "ticks": ""
            },
            "colorscale": [
             [
              0,
              "#0d0887"
             ],
             [
              0.1111111111111111,
              "#46039f"
             ],
             [
              0.2222222222222222,
              "#7201a8"
             ],
             [
              0.3333333333333333,
              "#9c179e"
             ],
             [
              0.4444444444444444,
              "#bd3786"
             ],
             [
              0.5555555555555556,
              "#d8576b"
             ],
             [
              0.6666666666666666,
              "#ed7953"
             ],
             [
              0.7777777777777778,
              "#fb9f3a"
             ],
             [
              0.8888888888888888,
              "#fdca26"
             ],
             [
              1,
              "#f0f921"
             ]
            ],
            "type": "heatmapgl"
           }
          ],
          "histogram": [
           {
            "marker": {
             "pattern": {
              "fillmode": "overlay",
              "size": 10,
              "solidity": 0.2
             }
            },
            "type": "histogram"
           }
          ],
          "histogram2d": [
           {
            "colorbar": {
             "outlinewidth": 0,
             "ticks": ""
            },
            "colorscale": [
             [
              0,
              "#0d0887"
             ],
             [
              0.1111111111111111,
              "#46039f"
             ],
             [
              0.2222222222222222,
              "#7201a8"
             ],
             [
              0.3333333333333333,
              "#9c179e"
             ],
             [
              0.4444444444444444,
              "#bd3786"
             ],
             [
              0.5555555555555556,
              "#d8576b"
             ],
             [
              0.6666666666666666,
              "#ed7953"
             ],
             [
              0.7777777777777778,
              "#fb9f3a"
             ],
             [
              0.8888888888888888,
              "#fdca26"
             ],
             [
              1,
              "#f0f921"
             ]
            ],
            "type": "histogram2d"
           }
          ],
          "histogram2dcontour": [
           {
            "colorbar": {
             "outlinewidth": 0,
             "ticks": ""
            },
            "colorscale": [
             [
              0,
              "#0d0887"
             ],
             [
              0.1111111111111111,
              "#46039f"
             ],
             [
              0.2222222222222222,
              "#7201a8"
             ],
             [
              0.3333333333333333,
              "#9c179e"
             ],
             [
              0.4444444444444444,
              "#bd3786"
             ],
             [
              0.5555555555555556,
              "#d8576b"
             ],
             [
              0.6666666666666666,
              "#ed7953"
             ],
             [
              0.7777777777777778,
              "#fb9f3a"
             ],
             [
              0.8888888888888888,
              "#fdca26"
             ],
             [
              1,
              "#f0f921"
             ]
            ],
            "type": "histogram2dcontour"
           }
          ],
          "mesh3d": [
           {
            "colorbar": {
             "outlinewidth": 0,
             "ticks": ""
            },
            "type": "mesh3d"
           }
          ],
          "parcoords": [
           {
            "line": {
             "colorbar": {
              "outlinewidth": 0,
              "ticks": ""
             }
            },
            "type": "parcoords"
           }
          ],
          "pie": [
           {
            "automargin": true,
            "type": "pie"
           }
          ],
          "scatter": [
           {
            "marker": {
             "colorbar": {
              "outlinewidth": 0,
              "ticks": ""
             }
            },
            "type": "scatter"
           }
          ],
          "scatter3d": [
           {
            "line": {
             "colorbar": {
              "outlinewidth": 0,
              "ticks": ""
             }
            },
            "marker": {
             "colorbar": {
              "outlinewidth": 0,
              "ticks": ""
             }
            },
            "type": "scatter3d"
           }
          ],
          "scattercarpet": [
           {
            "marker": {
             "colorbar": {
              "outlinewidth": 0,
              "ticks": ""
             }
            },
            "type": "scattercarpet"
           }
          ],
          "scattergeo": [
           {
            "marker": {
             "colorbar": {
              "outlinewidth": 0,
              "ticks": ""
             }
            },
            "type": "scattergeo"
           }
          ],
          "scattergl": [
           {
            "marker": {
             "colorbar": {
              "outlinewidth": 0,
              "ticks": ""
             }
            },
            "type": "scattergl"
           }
          ],
          "scattermapbox": [
           {
            "marker": {
             "colorbar": {
              "outlinewidth": 0,
              "ticks": ""
             }
            },
            "type": "scattermapbox"
           }
          ],
          "scatterpolar": [
           {
            "marker": {
             "colorbar": {
              "outlinewidth": 0,
              "ticks": ""
             }
            },
            "type": "scatterpolar"
           }
          ],
          "scatterpolargl": [
           {
            "marker": {
             "colorbar": {
              "outlinewidth": 0,
              "ticks": ""
             }
            },
            "type": "scatterpolargl"
           }
          ],
          "scatterternary": [
           {
            "marker": {
             "colorbar": {
              "outlinewidth": 0,
              "ticks": ""
             }
            },
            "type": "scatterternary"
           }
          ],
          "surface": [
           {
            "colorbar": {
             "outlinewidth": 0,
             "ticks": ""
            },
            "colorscale": [
             [
              0,
              "#0d0887"
             ],
             [
              0.1111111111111111,
              "#46039f"
             ],
             [
              0.2222222222222222,
              "#7201a8"
             ],
             [
              0.3333333333333333,
              "#9c179e"
             ],
             [
              0.4444444444444444,
              "#bd3786"
             ],
             [
              0.5555555555555556,
              "#d8576b"
             ],
             [
              0.6666666666666666,
              "#ed7953"
             ],
             [
              0.7777777777777778,
              "#fb9f3a"
             ],
             [
              0.8888888888888888,
              "#fdca26"
             ],
             [
              1,
              "#f0f921"
             ]
            ],
            "type": "surface"
           }
          ],
          "table": [
           {
            "cells": {
             "fill": {
              "color": "#EBF0F8"
             },
             "line": {
              "color": "white"
             }
            },
            "header": {
             "fill": {
              "color": "#C8D4E3"
             },
             "line": {
              "color": "white"
             }
            },
            "type": "table"
           }
          ]
         },
         "layout": {
          "annotationdefaults": {
           "arrowcolor": "#2a3f5f",
           "arrowhead": 0,
           "arrowwidth": 1
          },
          "autotypenumbers": "strict",
          "coloraxis": {
           "colorbar": {
            "outlinewidth": 0,
            "ticks": ""
           }
          },
          "colorscale": {
           "diverging": [
            [
             0,
             "#8e0152"
            ],
            [
             0.1,
             "#c51b7d"
            ],
            [
             0.2,
             "#de77ae"
            ],
            [
             0.3,
             "#f1b6da"
            ],
            [
             0.4,
             "#fde0ef"
            ],
            [
             0.5,
             "#f7f7f7"
            ],
            [
             0.6,
             "#e6f5d0"
            ],
            [
             0.7,
             "#b8e186"
            ],
            [
             0.8,
             "#7fbc41"
            ],
            [
             0.9,
             "#4d9221"
            ],
            [
             1,
             "#276419"
            ]
           ],
           "sequential": [
            [
             0,
             "#0d0887"
            ],
            [
             0.1111111111111111,
             "#46039f"
            ],
            [
             0.2222222222222222,
             "#7201a8"
            ],
            [
             0.3333333333333333,
             "#9c179e"
            ],
            [
             0.4444444444444444,
             "#bd3786"
            ],
            [
             0.5555555555555556,
             "#d8576b"
            ],
            [
             0.6666666666666666,
             "#ed7953"
            ],
            [
             0.7777777777777778,
             "#fb9f3a"
            ],
            [
             0.8888888888888888,
             "#fdca26"
            ],
            [
             1,
             "#f0f921"
            ]
           ],
           "sequentialminus": [
            [
             0,
             "#0d0887"
            ],
            [
             0.1111111111111111,
             "#46039f"
            ],
            [
             0.2222222222222222,
             "#7201a8"
            ],
            [
             0.3333333333333333,
             "#9c179e"
            ],
            [
             0.4444444444444444,
             "#bd3786"
            ],
            [
             0.5555555555555556,
             "#d8576b"
            ],
            [
             0.6666666666666666,
             "#ed7953"
            ],
            [
             0.7777777777777778,
             "#fb9f3a"
            ],
            [
             0.8888888888888888,
             "#fdca26"
            ],
            [
             1,
             "#f0f921"
            ]
           ]
          },
          "colorway": [
           "#636efa",
           "#EF553B",
           "#00cc96",
           "#ab63fa",
           "#FFA15A",
           "#19d3f3",
           "#FF6692",
           "#B6E880",
           "#FF97FF",
           "#FECB52"
          ],
          "font": {
           "color": "#2a3f5f"
          },
          "geo": {
           "bgcolor": "white",
           "lakecolor": "white",
           "landcolor": "#E5ECF6",
           "showlakes": true,
           "showland": true,
           "subunitcolor": "white"
          },
          "hoverlabel": {
           "align": "left"
          },
          "hovermode": "closest",
          "mapbox": {
           "style": "light"
          },
          "paper_bgcolor": "white",
          "plot_bgcolor": "#E5ECF6",
          "polar": {
           "angularaxis": {
            "gridcolor": "white",
            "linecolor": "white",
            "ticks": ""
           },
           "bgcolor": "#E5ECF6",
           "radialaxis": {
            "gridcolor": "white",
            "linecolor": "white",
            "ticks": ""
           }
          },
          "scene": {
           "xaxis": {
            "backgroundcolor": "#E5ECF6",
            "gridcolor": "white",
            "gridwidth": 2,
            "linecolor": "white",
            "showbackground": true,
            "ticks": "",
            "zerolinecolor": "white"
           },
           "yaxis": {
            "backgroundcolor": "#E5ECF6",
            "gridcolor": "white",
            "gridwidth": 2,
            "linecolor": "white",
            "showbackground": true,
            "ticks": "",
            "zerolinecolor": "white"
           },
           "zaxis": {
            "backgroundcolor": "#E5ECF6",
            "gridcolor": "white",
            "gridwidth": 2,
            "linecolor": "white",
            "showbackground": true,
            "ticks": "",
            "zerolinecolor": "white"
           }
          },
          "shapedefaults": {
           "line": {
            "color": "#2a3f5f"
           }
          },
          "ternary": {
           "aaxis": {
            "gridcolor": "white",
            "linecolor": "white",
            "ticks": ""
           },
           "baxis": {
            "gridcolor": "white",
            "linecolor": "white",
            "ticks": ""
           },
           "bgcolor": "#E5ECF6",
           "caxis": {
            "gridcolor": "white",
            "linecolor": "white",
            "ticks": ""
           }
          },
          "title": {
           "x": 0.05
          },
          "xaxis": {
           "automargin": true,
           "gridcolor": "white",
           "linecolor": "white",
           "ticks": "",
           "title": {
            "standoff": 15
           },
           "zerolinecolor": "white",
           "zerolinewidth": 2
          },
          "yaxis": {
           "automargin": true,
           "gridcolor": "white",
           "linecolor": "white",
           "ticks": "",
           "title": {
            "standoff": 15
           },
           "zerolinecolor": "white",
           "zerolinewidth": 2
          }
         }
        },
        "xaxis": {
         "anchor": "y",
         "autorange": true,
         "domain": [
          0,
          1
         ],
         "range": [
          -0.5,
          1.5
         ],
         "title": {
          "text": "value"
         },
         "type": "category"
        },
        "yaxis": {
         "anchor": "x",
         "autorange": true,
         "domain": [
          0,
          1
         ],
         "range": [
          0,
          76.14177143263016
         ],
         "title": {
          "text": "percent"
         }
        }
       }
      },
      "image/png": "[encoded data removed]",
      "text/html": [
       "<div>                            <div id=\"04472238-7dba-4c79-b2c9-47fd4ecea9c5\" class=\"plotly-graph-div\" style=\"height:525px; width:100%;\"></div>            <script type=\"text/javascript\">                require([\"plotly\"], function(Plotly) {                    window.PLOTLYENV=window.PLOTLYENV || {};                                    if (document.getElementById(\"04472238-7dba-4c79-b2c9-47fd4ecea9c5\")) {                    Plotly.newPlot(                        \"04472238-7dba-4c79-b2c9-47fd4ecea9c5\",                        [{\"alignmentgroup\":\"True\",\"bingroup\":\"x\",\"histnorm\":\"percent\",\"hovertemplate\":\"variable=Diagnosis<br>value=%{x}<br>percent=%{y}<extra></extra>\",\"legendgroup\":\"Diagnosis\",\"marker\":{\"color\":\"#636efa\",\"pattern\":{\"shape\":\"\"}},\"name\":\"Diagnosis\",\"offsetgroup\":\"Diagnosis\",\"orientation\":\"v\",\"showlegend\":true,\"x\":[\"H1N1\",\"H1N1\",\"H1N1\",\"H1N1\",\"H1N1\",\"H1N1\",\"H1N1\",\"H1N1\",\"H1N1\",\"H1N1\",\"H1N1\",\"H1N1\",\"H1N1\",\"H1N1\",\"H1N1\",\"H1N1\",\"H1N1\",\"H1N1\",\"H1N1\",\"H1N1\",\"H1N1\",\"H1N1\",\"H1N1\",\"H1N1\",\"H1N1\",\"H1N1\",\"H1N1\",\"H1N1\",\"H1N1\",\"H1N1\",\"H1N1\",\"H1N1\",\"H1N1\",\"H1N1\",\"H1N1\",\"H1N1\",\"H1N1\",\"H1N1\",\"H1N1\",\"H1N1\",\"H1N1\",\"H1N1\",\"H1N1\",\"H1N1\",\"H1N1\",\"H1N1\",\"H1N1\",\"H1N1\",\"H1N1\",\"H1N1\",\"H1N1\",\"H1N1\",\"H1N1\",\"H1N1\",\"H1N1\",\"H1N1\",\"H1N1\",\"H1N1\",\"H1N1\",\"H1N1\",\"H1N1\",\"H1N1\",\"H1N1\",\"H1N1\",\"H1N1\",\"H1N1\",\"H1N1\",\"H1N1\",\"H1N1\",\"H1N1\",\"H1N1\",\"H1N1\",\"H1N1\",\"H1N1\",\"H1N1\",\"H1N1\",\"H1N1\",\"H1N1\",\"H1N1\",\"H1N1\",\"H1N1\",\"H1N1\",\"H1N1\",\"H1N1\",\"H1N1\",\"H1N1\",\"H1N1\",\"H1N1\",\"H1N1\",\"H1N1\",\"H1N1\",\"H1N1\",\"H1N1\",\"H1N1\",\"H1N1\",\"H1N1\",\"H1N1\",\"H1N1\",\"H1N1\",\"H1N1\",\"H1N1\",\"H1N1\",\"H1N1\",\"H1N1\",\"H1N1\",\"H1N1\",\"H1N1\",\"H1N1\",\"H1N1\",\"H1N1\",\"H1N1\",\"H1N1\",\"H1N1\",\"H1N1\",\"H1N1\",\"H1N1\",\"H1N1\",\"H1N1\",\"H1N1\",\"H1N1\",\"H1N1\",\"H1N1\",\"H1N1\",\"H1N1\",\"H1N1\",\"H1N1\",\"H1N1\",\"H1N1\",\"H1N1\",\"H1N1\",\"H1N1\",\"H1N1\",\"H1N1\",\"H1N1\",\"H1N1\",\"H1N1\",\"H1N1\",\"H1N1\",\"H1N1\",\"H1N1\",\"H1N1\",\"H1N1\",\"H1N1\",\"H1N1\",\"H1N1\",\"H1N1\",\"H1N1\",\"H1N1\",\"H1N1\",\"H1N1\",\"H1N1\",\"H1N1\",\"H1N1\",\"H1N1\",\"H1N1\",\"H1N1\",\"H1N1\",\"H1N1\",\"H1N1\",\"H1N1\",\"H1N1\",\"H1N1\",\"H1N1\",\"H1N1\",\"H1N1\",\"H1N1\",\"H1N1\",\"H1N1\",\"H1N1\",\"H1N1\",\"H1N1\",\"H1N1\",\"H1N1\",\"H1N1\",\"H1N1\",\"H1N1\",\"H1N1\",\"H1N1\",\"H1N1\",\"H1N1\",\"H1N1\",\"H1N1\",\"H1N1\",\"H1N1\",\"H1N1\",\"H1N1\",\"H1N1\",\"H1N1\",\"H1N1\",\"H1N1\",\"H1N1\",\"H1N1\",\"H1N1\",\"H1N1\",\"H1N1\",\"H1N1\",\"H1N1\",\"H1N1\",\"H1N1\",\"H1N1\",\"H1N1\",\"H1N1\",\"H1N1\",\"H1N1\",\"H1N1\",\"H1N1\",\"H1N1\",\"H1N1\",\"H1N1\",\"H1N1\",\"H1N1\",\"H1N1\",\"H1N1\",\"H1N1\",\"H1N1\",\"H1N1\",\"H1N1\",\"H1N1\",\"H1N1\",\"H1N1\",\"H1N1\",\"H1N1\",\"H1N1\",\"H1N1\",\"H1N1\",\"H1N1\",\"H1N1\",\"H1N1\",\"H1N1\",\"H1N1\",\"H1N1\",\"H1N1\",\"H1N1\",\"H1N1\",\"H1N1\",\"H1N1\",\"H1N1\",\"H1N1\",\"H1N1\",\"H1N1\",\"H1N1\",\"H1N1\",\"H1N1\",\"H1N1\",\"H1N1\",\"H1N1\",\"H1N1\",\"H1N1\",\"H1N1\",\"H1N1\",\"H1N1\",\"H1N1\",\"H1N1\",\"H1N1\",\"H1N1\",\"H1N1\",\"H1N1\",\"H1N1\",\"H1N1\",\"H1N1\",\"H1N1\",\"H1N1\",\"H1N1\",\"H1N1\",\"H1N1\",\"H1N1\",\"H1N1\",\"H1N1\",\"H1N1\",\"H1N1\",\"H1N1\",\"H1N1\",\"H1N1\",\"H1N1\",\"H1N1\",\"H1N1\",\"H1N1\",\"H1N1\",\"H1N1\",\"H1N1\",\"H1N1\",\"H1N1\",\"H1N1\",\"H1N1\",\"H1N1\",\"H1N1\",\"H1N1\",\"H1N1\",\"H1N1\",\"H1N1\",\"H1N1\",\"H1N1\",\"H1N1\",\"H1N1\",\"H1N1\",\"H1N1\",\"H1N1\",\"H1N1\",\"H1N1\",\"H1N1\",\"H1N1\",\"H1N1\",\"H1N1\",\"H1N1\",\"H1N1\",\"H1N1\",\"H1N1\",\"H1N1\",\"H1N1\",\"H1N1\",\"H1N1\",\"H1N1\",\"H1N1\",\"H1N1\",\"H1N1\",\"H1N1\",\"H1N1\",\"H1N1\",\"H1N1\",\"H1N1\",\"H1N1\",\"H1N1\",\"H1N1\",\"H1N1\",\"H1N1\",\"H1N1\",\"H1N1\",\"H1N1\",\"H1N1\",\"H1N1\",\"H1N1\",\"H1N1\",\"H1N1\",\"H1N1\",\"H1N1\",\"H1N1\",\"H1N1\",\"H1N1\",\"H1N1\",\"H1N1\",\"H1N1\",\"H1N1\",\"H1N1\",\"H1N1\",\"H1N1\",\"H1N1\",\"H1N1\",\"H1N1\",\"H1N1\",\"H1N1\",\"H1N1\",\"H1N1\",\"H1N1\",\"H1N1\",\"H1N1\",\"H1N1\",\"H1N1\",\"H1N1\",\"H1N1\",\"H1N1\",\"H1N1\",\"H1N1\",\"H1N1\",\"H1N1\",\"H1N1\",\"H1N1\",\"H1N1\",\"H1N1\",\"H1N1\",\"H1N1\",\"H1N1\",\"H1N1\",\"H1N1\",\"H1N1\",\"H1N1\",\"H1N1\",\"H1N1\",\"H1N1\",\"H1N1\",\"H1N1\",\"H1N1\",\"H1N1\",\"H1N1\",\"H1N1\",\"H1N1\",\"H1N1\",\"H1N1\",\"H1N1\",\"H1N1\",\"H1N1\",\"H1N1\",\"H1N1\",\"H1N1\",\"H1N1\",\"H1N1\",\"H1N1\",\"H1N1\",\"H1N1\",\"H1N1\",\"H1N1\",\"H1N1\",\"H1N1\",\"H1N1\",\"H1N1\",\"H1N1\",\"H1N1\",\"H1N1\",\"H1N1\",\"H1N1\",\"H1N1\",\"H1N1\",\"H1N1\",\"H1N1\",\"H1N1\",\"H1N1\",\"H1N1\",\"H1N1\",\"H1N1\",\"H1N1\",\"H1N1\",\"H1N1\",\"H1N1\",\"H1N1\",\"H1N1\",\"H1N1\",\"H1N1\",\"H1N1\",\"H1N1\",\"H1N1\",\"H1N1\",\"H1N1\",\"H1N1\",\"H1N1\",\"H1N1\",\"H1N1\",\"H1N1\",\"H1N1\",\"H1N1\",\"H1N1\",\"H1N1\",\"H1N1\",\"H1N1\",\"H1N1\",\"H1N1\",\"H1N1\",\"H1N1\",\"H1N1\",\"H1N1\",\"H1N1\",\"H1N1\",\"H1N1\",\"H1N1\",\"H1N1\",\"H1N1\",\"H1N1\",\"H1N1\",\"H1N1\",\"H1N1\",\"H1N1\",\"H1N1\",\"H1N1\",\"H1N1\",\"H1N1\",\"H1N1\",\"H1N1\",\"H1N1\",\"H1N1\",\"H1N1\",\"H1N1\",\"H1N1\",\"H1N1\",\"H1N1\",\"H1N1\",\"H1N1\",\"H1N1\",\"H1N1\",\"H1N1\",\"H1N1\",\"H1N1\",\"H1N1\",\"H1N1\",\"H1N1\",\"H1N1\",\"H1N1\",\"H1N1\",\"H1N1\",\"H1N1\",\"H1N1\",\"H1N1\",\"H1N1\",\"H1N1\",\"H1N1\",\"H1N1\",\"H1N1\",\"H1N1\",\"H1N1\",\"H1N1\",\"H1N1\",\"H1N1\",\"H1N1\",\"H1N1\",\"H1N1\",\"H1N1\",\"H1N1\",\"H1N1\",\"H1N1\",\"H1N1\",\"H1N1\",\"H1N1\",\"H1N1\",\"H1N1\",\"H1N1\",\"H1N1\",\"H1N1\",\"H1N1\",\"H1N1\",\"H1N1\",\"H1N1\",\"H1N1\",\"H1N1\",\"H1N1\",\"H1N1\",\"H1N1\",\"H1N1\",\"H1N1\",\"H1N1\",\"H1N1\",\"H1N1\",\"H1N1\",\"H1N1\",\"H1N1\",\"H1N1\",\"H1N1\",\"H1N1\",\"H1N1\",\"H1N1\",\"H1N1\",\"H1N1\",\"H1N1\",\"H1N1\",\"H1N1\",\"H1N1\",\"H1N1\",\"H1N1\",\"H1N1\",\"H1N1\",\"H1N1\",\"H1N1\",\"H1N1\",\"H1N1\",\"H1N1\",\"H1N1\",\"H1N1\",\"H1N1\",\"H1N1\",\"H1N1\",\"H1N1\",\"H1N1\",\"H1N1\",\"H1N1\",\"H1N1\",\"H1N1\",\"H1N1\",\"H1N1\",\"H1N1\",\"H1N1\",\"H1N1\",\"H1N1\",\"H1N1\",\"H1N1\",\"H1N1\",\"H1N1\",\"H1N1\",\"H1N1\",\"H1N1\",\"H1N1\",\"H1N1\",\"H1N1\",\"H1N1\",\"H1N1\",\"H1N1\",\"H1N1\",\"H1N1\",\"H1N1\",\"H1N1\",\"H1N1\",\"H1N1\",\"H1N1\",\"H1N1\",\"H1N1\",\"H1N1\",\"H1N1\",\"H1N1\",\"H1N1\",\"H1N1\",\"H1N1\",\"H1N1\",\"H1N1\",\"H1N1\",\"H1N1\",\"H1N1\",\"H1N1\",\"H1N1\",\"H1N1\",\"H1N1\",\"H1N1\",\"H1N1\",\"H1N1\",\"H1N1\",\"H1N1\",\"H1N1\",\"H1N1\",\"H1N1\",\"H1N1\",\"H1N1\",\"H1N1\",\"H1N1\",\"H1N1\",\"H1N1\",\"H1N1\",\"H1N1\",\"H1N1\",\"H1N1\",\"H1N1\",\"H1N1\",\"H1N1\",\"H1N1\",\"H1N1\",\"H1N1\",\"H1N1\",\"H1N1\",\"H1N1\",\"H1N1\",\"H1N1\",\"H1N1\",\"H1N1\",\"H1N1\",\"H1N1\",\"H1N1\",\"H1N1\",\"H1N1\",\"H1N1\",\"H1N1\",\"H1N1\",\"H1N1\",\"H1N1\",\"H1N1\",\"H1N1\",\"H1N1\",\"H1N1\",\"H1N1\",\"H1N1\",\"H1N1\",\"H1N1\",\"H1N1\",\"H1N1\",\"H1N1\",\"H1N1\",\"H1N1\",\"H1N1\",\"H1N1\",\"H1N1\",\"H1N1\",\"H1N1\",\"H1N1\",\"H1N1\",\"H1N1\",\"H1N1\",\"H1N1\",\"H1N1\",\"H1N1\",\"H1N1\",\"H1N1\",\"H1N1\",\"H1N1\",\"H1N1\",\"H1N1\",\"H1N1\",\"H1N1\",\"H1N1\",\"H1N1\",\"H1N1\",\"H1N1\",\"H1N1\",\"H1N1\",\"H1N1\",\"H1N1\",\"H1N1\",\"H1N1\",\"H1N1\",\"H1N1\",\"H1N1\",\"H1N1\",\"H1N1\",\"H1N1\",\"H1N1\",\"H1N1\",\"H1N1\",\"H1N1\",\"H1N1\",\"H1N1\",\"H1N1\",\"H1N1\",\"H1N1\",\"H1N1\",\"H1N1\",\"H1N1\",\"H1N1\",\"H1N1\",\"H1N1\",\"H1N1\",\"H1N1\",\"H1N1\",\"H1N1\",\"H1N1\",\"H1N1\",\"H1N1\",\"H1N1\",\"H1N1\",\"H1N1\",\"H1N1\",\"H1N1\",\"H1N1\",\"H1N1\",\"H1N1\",\"H1N1\",\"H1N1\",\"H1N1\",\"H1N1\",\"H1N1\",\"H1N1\",\"H1N1\",\"H1N1\",\"H1N1\",\"H1N1\",\"H1N1\",\"H1N1\",\"H1N1\",\"H1N1\",\"H1N1\",\"H1N1\",\"H1N1\",\"H1N1\",\"H1N1\",\"H1N1\",\"H1N1\",\"H1N1\",\"H1N1\",\"H1N1\",\"H1N1\",\"H1N1\",\"H1N1\",\"H1N1\",\"H1N1\",\"H1N1\",\"H1N1\",\"H1N1\",\"H1N1\",\"H1N1\",\"H1N1\",\"H1N1\",\"H1N1\",\"H1N1\",\"H1N1\",\"H1N1\",\"H1N1\",\"H1N1\",\"H1N1\",\"H1N1\",\"H1N1\",\"H1N1\",\"H1N1\",\"H1N1\",\"H1N1\",\"H1N1\",\"H1N1\",\"H1N1\",\"H1N1\",\"H1N1\",\"H1N1\",\"H1N1\",\"H1N1\",\"H1N1\",\"H1N1\",\"H1N1\",\"H1N1\",\"H1N1\",\"H1N1\",\"H1N1\",\"H1N1\",\"H1N1\",\"H1N1\",\"H1N1\",\"H1N1\",\"H1N1\",\"H1N1\",\"H1N1\",\"H1N1\",\"H1N1\",\"H1N1\",\"H1N1\",\"H1N1\",\"H1N1\",\"H1N1\",\"H1N1\",\"H1N1\",\"H1N1\",\"H1N1\",\"H1N1\",\"H1N1\",\"H1N1\",\"H1N1\",\"H1N1\",\"H1N1\",\"H1N1\",\"H1N1\",\"H1N1\",\"H1N1\",\"H1N1\",\"H1N1\",\"H1N1\",\"H1N1\",\"H1N1\",\"H1N1\",\"H1N1\",\"H1N1\",\"H1N1\",\"H1N1\",\"H1N1\",\"H1N1\",\"H1N1\",\"H1N1\",\"H1N1\",\"H1N1\",\"H1N1\",\"H1N1\",\"H1N1\",\"H1N1\",\"H1N1\",\"H1N1\",\"H1N1\",\"H1N1\",\"H1N1\",\"H1N1\",\"H1N1\",\"H1N1\",\"H1N1\",\"H1N1\",\"H1N1\",\"H1N1\",\"H1N1\",\"H1N1\",\"H1N1\",\"H1N1\",\"H1N1\",\"H1N1\",\"H1N1\",\"H1N1\",\"H1N1\",\"H1N1\",\"H1N1\",\"H1N1\",\"H1N1\",\"H1N1\",\"H1N1\",\"H1N1\",\"H1N1\",\"H1N1\",\"H1N1\",\"H1N1\",\"H1N1\",\"H1N1\",\"H1N1\",\"H1N1\",\"H1N1\",\"H1N1\",\"H1N1\",\"H1N1\",\"H1N1\",\"H1N1\",\"H1N1\",\"H1N1\",\"H1N1\",\"H1N1\",\"H1N1\",\"H1N1\",\"H1N1\",\"H1N1\",\"H1N1\",\"H1N1\",\"H1N1\",\"H1N1\",\"H1N1\",\"H1N1\",\"H1N1\",\"H1N1\",\"H1N1\",\"H1N1\",\"H1N1\",\"H1N1\",\"H1N1\",\"H1N1\",\"H1N1\",\"H1N1\",\"H1N1\",\"H1N1\",\"H1N1\",\"H1N1\",\"H1N1\",\"H1N1\",\"H1N1\",\"H1N1\",\"H1N1\",\"H1N1\",\"H1N1\",\"H1N1\",\"H1N1\",\"H1N1\",\"H1N1\",\"H1N1\",\"H1N1\",\"H1N1\",\"H1N1\",\"H1N1\",\"H1N1\",\"H1N1\",\"H1N1\",\"H1N1\",\"H1N1\",\"H1N1\",\"H1N1\",\"H1N1\",\"H1N1\",\"H1N1\",\"H1N1\",\"H1N1\",\"H1N1\",\"H1N1\",\"H1N1\",\"H1N1\",\"H1N1\",\"H1N1\",\"H1N1\",\"H1N1\",\"H1N1\",\"H1N1\",\"H1N1\",\"H1N1\",\"H1N1\",\"H1N1\",\"H1N1\",\"H1N1\",\"H1N1\",\"H1N1\",\"H1N1\",\"H1N1\",\"H1N1\",\"H1N1\",\"H1N1\",\"H1N1\",\"H1N1\",\"H1N1\",\"H1N1\",\"H1N1\",\"H1N1\",\"H1N1\",\"H1N1\",\"H1N1\",\"H1N1\",\"H1N1\",\"H1N1\",\"H1N1\",\"H1N1\",\"H1N1\",\"H1N1\",\"H1N1\",\"H1N1\",\"H1N1\",\"H1N1\",\"H1N1\",\"H1N1\",\"H1N1\",\"H1N1\",\"H1N1\",\"H1N1\",\"H1N1\",\"H1N1\",\"H1N1\",\"H1N1\",\"H1N1\",\"H1N1\",\"H1N1\",\"H1N1\",\"H1N1\",\"H1N1\",\"H1N1\",\"H1N1\",\"H1N1\",\"H1N1\",\"H1N1\",\"H1N1\",\"H1N1\",\"H1N1\",\"H1N1\",\"H1N1\",\"H1N1\",\"H1N1\",\"H1N1\",\"H1N1\",\"H1N1\",\"H1N1\",\"H1N1\",\"H1N1\",\"H1N1\",\"H1N1\",\"H1N1\",\"H1N1\",\"H1N1\",\"H1N1\",\"H1N1\",\"H1N1\",\"H1N1\",\"H1N1\",\"H1N1\",\"H1N1\",\"H1N1\",\"H1N1\",\"H1N1\",\"H1N1\",\"H1N1\",\"H1N1\",\"H1N1\",\"H1N1\",\"H1N1\",\"H1N1\",\"H1N1\",\"H1N1\",\"H1N1\",\"H1N1\",\"H1N1\",\"H1N1\",\"H1N1\",\"H1N1\",\"H1N1\",\"H1N1\",\"H1N1\",\"H1N1\",\"H1N1\",\"H1N1\",\"H1N1\",\"H1N1\",\"H1N1\",\"H1N1\",\"H1N1\",\"H1N1\",\"H1N1\",\"H1N1\",\"H1N1\",\"H1N1\",\"H1N1\",\"H1N1\",\"H1N1\",\"H1N1\",\"H1N1\",\"H1N1\",\"H1N1\",\"H1N1\",\"H1N1\",\"H1N1\",\"H1N1\",\"H1N1\",\"H1N1\",\"COVID19\",\"COVID19\",\"COVID19\",\"COVID19\",\"COVID19\",\"COVID19\",\"COVID19\",\"COVID19\",\"COVID19\",\"COVID19\",\"COVID19\",\"COVID19\",\"COVID19\",\"COVID19\",\"COVID19\",\"COVID19\",\"COVID19\",\"COVID19\",\"COVID19\",\"COVID19\",\"COVID19\",\"COVID19\",\"COVID19\",\"COVID19\",\"COVID19\",\"COVID19\",\"COVID19\",\"COVID19\",\"COVID19\",\"COVID19\",\"COVID19\",\"COVID19\",\"COVID19\",\"COVID19\",\"COVID19\",\"COVID19\",\"COVID19\",\"COVID19\",\"COVID19\",\"COVID19\",\"COVID19\",\"COVID19\",\"COVID19\",\"COVID19\",\"COVID19\",\"COVID19\",\"COVID19\",\"COVID19\",\"COVID19\",\"COVID19\",\"COVID19\",\"COVID19\",\"COVID19\",\"COVID19\",\"COVID19\",\"COVID19\",\"COVID19\",\"COVID19\",\"COVID19\",\"COVID19\",\"COVID19\",\"COVID19\",\"COVID19\",\"COVID19\",\"COVID19\",\"COVID19\",\"COVID19\",\"COVID19\",\"COVID19\",\"COVID19\",\"COVID19\",\"COVID19\",\"COVID19\",\"COVID19\",\"COVID19\",\"COVID19\",\"COVID19\",\"COVID19\",\"COVID19\",\"COVID19\",\"COVID19\",\"COVID19\",\"COVID19\",\"COVID19\",\"COVID19\",\"COVID19\",\"COVID19\",\"COVID19\",\"COVID19\",\"COVID19\",\"COVID19\",\"COVID19\",\"COVID19\",\"COVID19\",\"COVID19\",\"COVID19\",\"COVID19\",\"COVID19\",\"COVID19\",\"COVID19\",\"COVID19\",\"COVID19\",\"COVID19\",\"COVID19\",\"COVID19\",\"COVID19\",\"COVID19\",\"COVID19\",\"COVID19\",\"COVID19\",\"COVID19\",\"COVID19\",\"COVID19\",\"COVID19\",\"COVID19\",\"COVID19\",\"COVID19\",\"COVID19\",\"COVID19\",\"COVID19\",\"COVID19\",\"COVID19\",\"COVID19\",\"COVID19\",\"COVID19\",\"COVID19\",\"COVID19\",\"COVID19\",\"COVID19\",\"COVID19\",\"COVID19\",\"COVID19\",\"COVID19\",\"COVID19\",\"COVID19\",\"COVID19\",\"COVID19\",\"COVID19\",\"COVID19\",\"COVID19\",\"COVID19\",\"COVID19\",\"COVID19\",\"COVID19\",\"COVID19\",\"COVID19\",\"COVID19\",\"COVID19\",\"COVID19\",\"COVID19\",\"COVID19\",\"COVID19\",\"COVID19\",\"COVID19\",\"COVID19\",\"COVID19\",\"COVID19\",\"COVID19\",\"COVID19\",\"COVID19\",\"COVID19\",\"COVID19\",\"COVID19\",\"COVID19\",\"COVID19\",\"COVID19\",\"COVID19\",\"COVID19\",\"COVID19\",\"COVID19\",\"COVID19\",\"COVID19\",\"COVID19\",\"COVID19\",\"COVID19\",\"COVID19\",\"COVID19\",\"COVID19\",\"COVID19\",\"COVID19\",\"COVID19\",\"COVID19\",\"COVID19\",\"COVID19\",\"COVID19\",\"COVID19\",\"COVID19\",\"COVID19\",\"COVID19\",\"COVID19\",\"COVID19\",\"COVID19\",\"COVID19\",\"COVID19\",\"COVID19\",\"COVID19\",\"COVID19\",\"COVID19\",\"COVID19\",\"COVID19\",\"COVID19\",\"COVID19\",\"COVID19\",\"COVID19\",\"COVID19\",\"COVID19\",\"COVID19\",\"COVID19\",\"COVID19\",\"COVID19\",\"COVID19\",\"COVID19\",\"COVID19\",\"COVID19\",\"COVID19\",\"COVID19\",\"COVID19\",\"COVID19\",\"COVID19\",\"COVID19\",\"COVID19\",\"COVID19\",\"COVID19\",\"COVID19\",\"COVID19\",\"COVID19\",\"COVID19\",\"COVID19\",\"COVID19\",\"COVID19\",\"COVID19\",\"COVID19\",\"COVID19\",\"COVID19\",\"COVID19\",\"COVID19\",\"COVID19\",\"COVID19\",\"COVID19\",\"COVID19\",\"COVID19\",\"COVID19\",\"COVID19\",\"COVID19\",\"COVID19\",\"COVID19\",\"COVID19\",\"COVID19\",\"COVID19\",\"COVID19\",\"COVID19\",\"COVID19\",\"COVID19\",\"COVID19\",\"COVID19\",\"COVID19\",\"COVID19\",\"COVID19\",\"COVID19\",\"COVID19\",\"COVID19\",\"COVID19\",\"COVID19\",\"COVID19\",\"COVID19\",\"COVID19\",\"COVID19\",\"COVID19\",\"COVID19\",\"COVID19\",\"COVID19\",\"COVID19\",\"COVID19\",\"COVID19\",\"COVID19\",\"COVID19\",\"COVID19\",\"COVID19\",\"COVID19\",\"COVID19\",\"COVID19\",\"COVID19\",\"COVID19\",\"COVID19\",\"COVID19\",\"COVID19\",\"COVID19\",\"COVID19\",\"COVID19\",\"COVID19\",\"COVID19\",\"COVID19\",\"COVID19\",\"COVID19\",\"COVID19\",\"COVID19\",\"COVID19\",\"COVID19\",\"COVID19\",\"COVID19\",\"COVID19\",\"COVID19\",\"COVID19\",\"COVID19\",\"COVID19\",\"COVID19\",\"COVID19\",\"COVID19\",\"COVID19\",\"COVID19\",\"COVID19\",\"COVID19\",\"COVID19\",\"COVID19\",\"COVID19\",\"COVID19\",\"COVID19\",\"COVID19\",\"COVID19\",\"COVID19\",\"COVID19\",\"COVID19\",\"COVID19\",\"COVID19\",\"COVID19\",\"COVID19\",\"COVID19\",\"COVID19\",\"COVID19\",\"COVID19\",\"COVID19\",\"COVID19\",\"COVID19\",\"COVID19\",\"COVID19\",\"COVID19\",\"COVID19\",\"COVID19\",\"COVID19\",\"COVID19\",\"COVID19\",\"COVID19\",\"COVID19\",\"COVID19\",\"COVID19\",\"COVID19\",\"COVID19\",\"COVID19\",\"COVID19\",\"COVID19\",\"COVID19\",\"COVID19\",\"COVID19\",\"COVID19\",\"COVID19\",\"COVID19\",\"COVID19\",\"COVID19\",\"COVID19\",\"COVID19\",\"COVID19\",\"COVID19\",\"COVID19\",\"COVID19\",\"COVID19\",\"COVID19\",\"COVID19\",\"COVID19\",\"COVID19\",\"COVID19\",\"COVID19\",\"COVID19\",\"COVID19\",\"COVID19\",\"COVID19\",\"COVID19\",\"COVID19\",\"COVID19\",\"COVID19\",\"COVID19\",\"COVID19\",\"COVID19\",\"COVID19\",\"COVID19\",\"COVID19\",\"COVID19\",\"COVID19\",\"COVID19\",\"COVID19\",\"COVID19\",\"COVID19\",\"COVID19\",\"COVID19\",\"COVID19\",\"COVID19\",\"COVID19\",\"COVID19\",\"COVID19\",\"COVID19\",\"COVID19\",\"COVID19\",\"COVID19\",\"COVID19\",\"COVID19\",\"COVID19\",\"COVID19\",\"COVID19\",\"COVID19\",\"COVID19\",\"COVID19\"],\"xaxis\":\"x\",\"yaxis\":\"y\",\"type\":\"histogram\"}],                        {\"template\":{\"data\":{\"bar\":[{\"error_x\":{\"color\":\"#2a3f5f\"},\"error_y\":{\"color\":\"#2a3f5f\"},\"marker\":{\"line\":{\"color\":\"#E5ECF6\",\"width\":0.5},\"pattern\":{\"fillmode\":\"overlay\",\"size\":10,\"solidity\":0.2}},\"type\":\"bar\"}],\"barpolar\":[{\"marker\":{\"line\":{\"color\":\"#E5ECF6\",\"width\":0.5},\"pattern\":{\"fillmode\":\"overlay\",\"size\":10,\"solidity\":0.2}},\"type\":\"barpolar\"}],\"carpet\":[{\"aaxis\":{\"endlinecolor\":\"#2a3f5f\",\"gridcolor\":\"white\",\"linecolor\":\"white\",\"minorgridcolor\":\"white\",\"startlinecolor\":\"#2a3f5f\"},\"baxis\":{\"endlinecolor\":\"#2a3f5f\",\"gridcolor\":\"white\",\"linecolor\":\"white\",\"minorgridcolor\":\"white\",\"startlinecolor\":\"#2a3f5f\"},\"type\":\"carpet\"}],\"choropleth\":[{\"colorbar\":{\"outlinewidth\":0,\"ticks\":\"\"},\"type\":\"choropleth\"}],\"contour\":[{\"colorbar\":{\"outlinewidth\":0,\"ticks\":\"\"},\"colorscale\":[[0.0,\"#0d0887\"],[0.1111111111111111,\"#46039f\"],[0.2222222222222222,\"#7201a8\"],[0.3333333333333333,\"#9c179e\"],[0.4444444444444444,\"#bd3786\"],[0.5555555555555556,\"#d8576b\"],[0.6666666666666666,\"#ed7953\"],[0.7777777777777778,\"#fb9f3a\"],[0.8888888888888888,\"#fdca26\"],[1.0,\"#f0f921\"]],\"type\":\"contour\"}],\"contourcarpet\":[{\"colorbar\":{\"outlinewidth\":0,\"ticks\":\"\"},\"type\":\"contourcarpet\"}],\"heatmap\":[{\"colorbar\":{\"outlinewidth\":0,\"ticks\":\"\"},\"colorscale\":[[0.0,\"#0d0887\"],[0.1111111111111111,\"#46039f\"],[0.2222222222222222,\"#7201a8\"],[0.3333333333333333,\"#9c179e\"],[0.4444444444444444,\"#bd3786\"],[0.5555555555555556,\"#d8576b\"],[0.6666666666666666,\"#ed7953\"],[0.7777777777777778,\"#fb9f3a\"],[0.8888888888888888,\"#fdca26\"],[1.0,\"#f0f921\"]],\"type\":\"heatmap\"}],\"heatmapgl\":[{\"colorbar\":{\"outlinewidth\":0,\"ticks\":\"\"},\"colorscale\":[[0.0,\"#0d0887\"],[0.1111111111111111,\"#46039f\"],[0.2222222222222222,\"#7201a8\"],[0.3333333333333333,\"#9c179e\"],[0.4444444444444444,\"#bd3786\"],[0.5555555555555556,\"#d8576b\"],[0.6666666666666666,\"#ed7953\"],[0.7777777777777778,\"#fb9f3a\"],[0.8888888888888888,\"#fdca26\"],[1.0,\"#f0f921\"]],\"type\":\"heatmapgl\"}],\"histogram\":[{\"marker\":{\"pattern\":{\"fillmode\":\"overlay\",\"size\":10,\"solidity\":0.2}},\"type\":\"histogram\"}],\"histogram2d\":[{\"colorbar\":{\"outlinewidth\":0,\"ticks\":\"\"},\"colorscale\":[[0.0,\"#0d0887\"],[0.1111111111111111,\"#46039f\"],[0.2222222222222222,\"#7201a8\"],[0.3333333333333333,\"#9c179e\"],[0.4444444444444444,\"#bd3786\"],[0.5555555555555556,\"#d8576b\"],[0.6666666666666666,\"#ed7953\"],[0.7777777777777778,\"#fb9f3a\"],[0.8888888888888888,\"#fdca26\"],[1.0,\"#f0f921\"]],\"type\":\"histogram2d\"}],\"histogram2dcontour\":[{\"colorbar\":{\"outlinewidth\":0,\"ticks\":\"\"},\"colorscale\":[[0.0,\"#0d0887\"],[0.1111111111111111,\"#46039f\"],[0.2222222222222222,\"#7201a8\"],[0.3333333333333333,\"#9c179e\"],[0.4444444444444444,\"#bd3786\"],[0.5555555555555556,\"#d8576b\"],[0.6666666666666666,\"#ed7953\"],[0.7777777777777778,\"#fb9f3a\"],[0.8888888888888888,\"#fdca26\"],[1.0,\"#f0f921\"]],\"type\":\"histogram2dcontour\"}],\"mesh3d\":[{\"colorbar\":{\"outlinewidth\":0,\"ticks\":\"\"},\"type\":\"mesh3d\"}],\"parcoords\":[{\"line\":{\"colorbar\":{\"outlinewidth\":0,\"ticks\":\"\"}},\"type\":\"parcoords\"}],\"pie\":[{\"automargin\":true,\"type\":\"pie\"}],\"scatter\":[{\"marker\":{\"colorbar\":{\"outlinewidth\":0,\"ticks\":\"\"}},\"type\":\"scatter\"}],\"scatter3d\":[{\"line\":{\"colorbar\":{\"outlinewidth\":0,\"ticks\":\"\"}},\"marker\":{\"colorbar\":{\"outlinewidth\":0,\"ticks\":\"\"}},\"type\":\"scatter3d\"}],\"scattercarpet\":[{\"marker\":{\"colorbar\":{\"outlinewidth\":0,\"ticks\":\"\"}},\"type\":\"scattercarpet\"}],\"scattergeo\":[{\"marker\":{\"colorbar\":{\"outlinewidth\":0,\"ticks\":\"\"}},\"type\":\"scattergeo\"}],\"scattergl\":[{\"marker\":{\"colorbar\":{\"outlinewidth\":0,\"ticks\":\"\"}},\"type\":\"scattergl\"}],\"scattermapbox\":[{\"marker\":{\"colorbar\":{\"outlinewidth\":0,\"ticks\":\"\"}},\"type\":\"scattermapbox\"}],\"scatterpolar\":[{\"marker\":{\"colorbar\":{\"outlinewidth\":0,\"ticks\":\"\"}},\"type\":\"scatterpolar\"}],\"scatterpolargl\":[{\"marker\":{\"colorbar\":{\"outlinewidth\":0,\"ticks\":\"\"}},\"type\":\"scatterpolargl\"}],\"scatterternary\":[{\"marker\":{\"colorbar\":{\"outlinewidth\":0,\"ticks\":\"\"}},\"type\":\"scatterternary\"}],\"surface\":[{\"colorbar\":{\"outlinewidth\":0,\"ticks\":\"\"},\"colorscale\":[[0.0,\"#0d0887\"],[0.1111111111111111,\"#46039f\"],[0.2222222222222222,\"#7201a8\"],[0.3333333333333333,\"#9c179e\"],[0.4444444444444444,\"#bd3786\"],[0.5555555555555556,\"#d8576b\"],[0.6666666666666666,\"#ed7953\"],[0.7777777777777778,\"#fb9f3a\"],[0.8888888888888888,\"#fdca26\"],[1.0,\"#f0f921\"]],\"type\":\"surface\"}],\"table\":[{\"cells\":{\"fill\":{\"color\":\"#EBF0F8\"},\"line\":{\"color\":\"white\"}},\"header\":{\"fill\":{\"color\":\"#C8D4E3\"},\"line\":{\"color\":\"white\"}},\"type\":\"table\"}]},\"layout\":{\"annotationdefaults\":{\"arrowcolor\":\"#2a3f5f\",\"arrowhead\":0,\"arrowwidth\":1},\"autotypenumbers\":\"strict\",\"coloraxis\":{\"colorbar\":{\"outlinewidth\":0,\"ticks\":\"\"}},\"colorscale\":{\"diverging\":[[0,\"#8e0152\"],[0.1,\"#c51b7d\"],[0.2,\"#de77ae\"],[0.3,\"#f1b6da\"],[0.4,\"#fde0ef\"],[0.5,\"#f7f7f7\"],[0.6,\"#e6f5d0\"],[0.7,\"#b8e186\"],[0.8,\"#7fbc41\"],[0.9,\"#4d9221\"],[1,\"#276419\"]],\"sequential\":[[0.0,\"#0d0887\"],[0.1111111111111111,\"#46039f\"],[0.2222222222222222,\"#7201a8\"],[0.3333333333333333,\"#9c179e\"],[0.4444444444444444,\"#bd3786\"],[0.5555555555555556,\"#d8576b\"],[0.6666666666666666,\"#ed7953\"],[0.7777777777777778,\"#fb9f3a\"],[0.8888888888888888,\"#fdca26\"],[1.0,\"#f0f921\"]],\"sequentialminus\":[[0.0,\"#0d0887\"],[0.1111111111111111,\"#46039f\"],[0.2222222222222222,\"#7201a8\"],[0.3333333333333333,\"#9c179e\"],[0.4444444444444444,\"#bd3786\"],[0.5555555555555556,\"#d8576b\"],[0.6666666666666666,\"#ed7953\"],[0.7777777777777778,\"#fb9f3a\"],[0.8888888888888888,\"#fdca26\"],[1.0,\"#f0f921\"]]},\"colorway\":[\"#636efa\",\"#EF553B\",\"#00cc96\",\"#ab63fa\",\"#FFA15A\",\"#19d3f3\",\"#FF6692\",\"#B6E880\",\"#FF97FF\",\"#FECB52\"],\"font\":{\"color\":\"#2a3f5f\"},\"geo\":{\"bgcolor\":\"white\",\"lakecolor\":\"white\",\"landcolor\":\"#E5ECF6\",\"showlakes\":true,\"showland\":true,\"subunitcolor\":\"white\"},\"hoverlabel\":{\"align\":\"left\"},\"hovermode\":\"closest\",\"mapbox\":{\"style\":\"light\"},\"paper_bgcolor\":\"white\",\"plot_bgcolor\":\"#E5ECF6\",\"polar\":{\"angularaxis\":{\"gridcolor\":\"white\",\"linecolor\":\"white\",\"ticks\":\"\"},\"bgcolor\":\"#E5ECF6\",\"radialaxis\":{\"gridcolor\":\"white\",\"linecolor\":\"white\",\"ticks\":\"\"}},\"scene\":{\"xaxis\":{\"backgroundcolor\":\"#E5ECF6\",\"gridcolor\":\"white\",\"gridwidth\":2,\"linecolor\":\"white\",\"showbackground\":true,\"ticks\":\"\",\"zerolinecolor\":\"white\"},\"yaxis\":{\"backgroundcolor\":\"#E5ECF6\",\"gridcolor\":\"white\",\"gridwidth\":2,\"linecolor\":\"white\",\"showbackground\":true,\"ticks\":\"\",\"zerolinecolor\":\"white\"},\"zaxis\":{\"backgroundcolor\":\"#E5ECF6\",\"gridcolor\":\"white\",\"gridwidth\":2,\"linecolor\":\"white\",\"showbackground\":true,\"ticks\":\"\",\"zerolinecolor\":\"white\"}},\"shapedefaults\":{\"line\":{\"color\":\"#2a3f5f\"}},\"ternary\":{\"aaxis\":{\"gridcolor\":\"white\",\"linecolor\":\"white\",\"ticks\":\"\"},\"baxis\":{\"gridcolor\":\"white\",\"linecolor\":\"white\",\"ticks\":\"\"},\"bgcolor\":\"#E5ECF6\",\"caxis\":{\"gridcolor\":\"white\",\"linecolor\":\"white\",\"ticks\":\"\"}},\"title\":{\"x\":0.05},\"xaxis\":{\"automargin\":true,\"gridcolor\":\"white\",\"linecolor\":\"white\",\"ticks\":\"\",\"title\":{\"standoff\":15},\"zerolinecolor\":\"white\",\"zerolinewidth\":2},\"yaxis\":{\"automargin\":true,\"gridcolor\":\"white\",\"linecolor\":\"white\",\"ticks\":\"\",\"title\":{\"standoff\":15},\"zerolinecolor\":\"white\",\"zerolinewidth\":2}}},\"xaxis\":{\"anchor\":\"y\",\"domain\":[0.0,1.0],\"title\":{\"text\":\"value\"}},\"yaxis\":{\"anchor\":\"x\",\"domain\":[0.0,1.0],\"title\":{\"text\":\"percent\"}},\"legend\":{\"title\":{\"text\":\"variable\"},\"tracegroupgap\":0},\"margin\":{\"t\":60},\"barmode\":\"relative\"},                        {\"responsive\": true}                    ).then(function(){\n",
       "                            \n",
       "var gd = document.getElementById('04472238-7dba-4c79-b2c9-47fd4ecea9c5');\n",
       "var x = new MutationObserver(function (mutations, observer) {{\n",
       "        var display = window.getComputedStyle(gd).display;\n",
       "        if (!display || display === 'none') {{\n",
       "            console.log([gd, 'removed!']);\n",
       "            Plotly.purge(gd);\n",
       "            observer.disconnect();\n",
       "        }}\n",
       "}});\n",
       "\n",
       "// Listen for the removal of the full notebook cells\n",
       "var notebookContainer = gd.closest('#notebook-container');\n",
       "if (notebookContainer) {{\n",
       "    x.observe(notebookContainer, {childList: true});\n",
       "}}\n",
       "\n",
       "// Listen for the clearing of the current output cell\n",
       "var outputEl = gd.closest('.output');\n",
       "if (outputEl) {{\n",
       "    x.observe(outputEl, {childList: true});\n",
       "}}\n",
       "\n",
       "                        })                };                });            </script>        </div>"
      ]
     },
     "metadata": {},
     "output_type": "display_data"
    }
   ],
   "source": [
    "px.histogram(covid_df['Diagnosis'], histnorm='percent')"
   ]
  },
  {
   "cell_type": "markdown",
   "id": "69f63168-034e-4cdf-9a6d-28bdb1546776",
   "metadata": {},
   "source": [
    "##### Note: Null Accuracy will be 72%"
   ]
  },
  {
   "cell_type": "markdown",
   "id": "13d1a6f5-0dc4-4d74-96fa-483540e20bb2",
   "metadata": {},
   "source": [
    "---\n",
    "## Clean the Data"
   ]
  },
  {
   "cell_type": "code",
   "execution_count": null,
   "id": "2e5f6a8c-f4a0-4201-8bd4-d237249a30a9",
   "metadata": {},
   "outputs": [],
   "source": []
  }
 ],
 "metadata": {
  "kernelspec": {
   "display_name": "Python 3 (ipykernel)",
   "language": "python",
   "name": "python3"
  },
  "language_info": {
   "codemirror_mode": {
    "name": "ipython",
    "version": 3
   },
   "file_extension": ".py",
   "mimetype": "text/x-python",
   "name": "python",
   "nbconvert_exporter": "python",
   "pygments_lexer": "ipython3",
   "version": "3.11.8"
  }
 },
 "nbformat": 4,
 "nbformat_minor": 5
}
