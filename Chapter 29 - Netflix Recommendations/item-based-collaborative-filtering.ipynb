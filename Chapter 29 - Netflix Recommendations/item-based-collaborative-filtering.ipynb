{
 "cells": [
  {
   "cell_type": "code",
   "execution_count": 1,
   "id": "3260cdc5-0147-4fc6-bfd8-5deadc3ea308",
   "metadata": {},
   "outputs": [],
   "source": [
    "# data manipulation:\n",
    "import pandas as pd\n",
    "import numpy as np\n",
    "\n",
    "# stats:\n",
    "import statsmodels.api as sm\n",
    "import statsmodels.formula.api as smf\n",
    "from scipy.stats import pearsonr\n",
    "from scipy import stats\n",
    "import math\n",
    "\n",
    "# plotting and images:\n",
    "import plotly.express as px\n",
    "import plotly.graph_objects as go\n",
    "from plotly.subplots import make_subplots\n",
    "from IPython.display import Image\n",
    "\n",
    "# import warnings\n",
    "# warnings.filterwarnings(\"ignore\")"
   ]
  },
  {
   "cell_type": "markdown",
   "id": "77c8154b-482d-4d19-8b16-81766a9daa57",
   "metadata": {},
   "source": [
    "---\n",
    "## About the data:\n",
    "In the second notebook in this chapter we look at one of the ways in which companies like Amazon provide recommendations based on item similarity to previoulsy purchased items, or previously watched movies.\n",
    "\n",
    "The technique we'll be looking at is called \"Item-based Collaborative Filtering\". It relies on finding the similarity of the target item under evaluation to previously purchased/watched items.\n",
    "\n",
    "More details below!"
   ]
  },
  {
   "cell_type": "markdown",
   "id": "a092de97-ebba-4f4a-820f-184275521235",
   "metadata": {},
   "source": [
    "---\n",
    "### Import the data"
   ]
  },
  {
   "cell_type": "code",
   "execution_count": 2,
   "id": "d192248d-9245-4006-baab-615a0875f9bd",
   "metadata": {},
   "outputs": [
    {
     "data": {
      "text/html": [
       "<div>\n",
       "<style scoped>\n",
       "    .dataframe tbody tr th:only-of-type {\n",
       "        vertical-align: middle;\n",
       "    }\n",
       "\n",
       "    .dataframe tbody tr th {\n",
       "        vertical-align: top;\n",
       "    }\n",
       "\n",
       "    .dataframe thead th {\n",
       "        text-align: right;\n",
       "    }\n",
       "</style>\n",
       "<table border=\"1\" class=\"dataframe\">\n",
       "  <thead>\n",
       "    <tr style=\"text-align: right;\">\n",
       "      <th></th>\n",
       "      <th>Sixth Sense</th>\n",
       "      <th>Sully</th>\n",
       "      <th>Still Alice</th>\n",
       "      <th>Superman</th>\n",
       "      <th>DodgeBall</th>\n",
       "      <th>Parasite</th>\n",
       "    </tr>\n",
       "    <tr>\n",
       "      <th>user</th>\n",
       "      <th></th>\n",
       "      <th></th>\n",
       "      <th></th>\n",
       "      <th></th>\n",
       "      <th></th>\n",
       "      <th></th>\n",
       "    </tr>\n",
       "  </thead>\n",
       "  <tbody>\n",
       "    <tr>\n",
       "      <th>Lana</th>\n",
       "      <td>2.5</td>\n",
       "      <td>3.5</td>\n",
       "      <td>3.0</td>\n",
       "      <td>3.5</td>\n",
       "      <td>2.5</td>\n",
       "      <td>NaN</td>\n",
       "    </tr>\n",
       "    <tr>\n",
       "      <th>George</th>\n",
       "      <td>3.0</td>\n",
       "      <td>3.5</td>\n",
       "      <td>1.5</td>\n",
       "      <td>5.0</td>\n",
       "      <td>3.5</td>\n",
       "      <td>3.0</td>\n",
       "    </tr>\n",
       "    <tr>\n",
       "      <th>Manuel</th>\n",
       "      <td>2.5</td>\n",
       "      <td>3.0</td>\n",
       "      <td>NaN</td>\n",
       "      <td>3.5</td>\n",
       "      <td>NaN</td>\n",
       "      <td>4.0</td>\n",
       "    </tr>\n",
       "    <tr>\n",
       "      <th>Charles</th>\n",
       "      <td>NaN</td>\n",
       "      <td>3.5</td>\n",
       "      <td>3.0</td>\n",
       "      <td>4.0</td>\n",
       "      <td>2.5</td>\n",
       "      <td>4.5</td>\n",
       "    </tr>\n",
       "    <tr>\n",
       "      <th>Noel</th>\n",
       "      <td>3.0</td>\n",
       "      <td>4.0</td>\n",
       "      <td>2.0</td>\n",
       "      <td>3.0</td>\n",
       "      <td>2.0</td>\n",
       "      <td>3.0</td>\n",
       "    </tr>\n",
       "    <tr>\n",
       "      <th>James</th>\n",
       "      <td>3.0</td>\n",
       "      <td>4.0</td>\n",
       "      <td>NaN</td>\n",
       "      <td>5.0</td>\n",
       "      <td>3.5</td>\n",
       "      <td>3.0</td>\n",
       "    </tr>\n",
       "    <tr>\n",
       "      <th>Theresa</th>\n",
       "      <td>NaN</td>\n",
       "      <td>4.5</td>\n",
       "      <td>NaN</td>\n",
       "      <td>4.0</td>\n",
       "      <td>1.0</td>\n",
       "      <td>NaN</td>\n",
       "    </tr>\n",
       "  </tbody>\n",
       "</table>\n",
       "</div>"
      ],
      "text/plain": [
       "         Sixth Sense  Sully  Still Alice  Superman  DodgeBall  Parasite\n",
       "user                                                                   \n",
       "Lana             2.5    3.5          3.0       3.5        2.5       NaN\n",
       "George           3.0    3.5          1.5       5.0        3.5       3.0\n",
       "Manuel           2.5    3.0          NaN       3.5        NaN       4.0\n",
       "Charles          NaN    3.5          3.0       4.0        2.5       4.5\n",
       "Noel             3.0    4.0          2.0       3.0        2.0       3.0\n",
       "James            3.0    4.0          NaN       5.0        3.5       3.0\n",
       "Theresa          NaN    4.5          NaN       4.0        1.0       NaN"
      ]
     },
     "execution_count": 2,
     "metadata": {},
     "output_type": "execute_result"
    }
   ],
   "source": [
    "item_df = pd.read_excel('FinalItemBased.xlsx', header=6).iloc[:7, 2:9].rename(columns={'Unnamed: 2': 'user'}).fillna(np.nan)\n",
    "item_df.set_index('user', inplace=True)\n",
    "item_df"
   ]
  },
  {
   "cell_type": "markdown",
   "id": "91a6a7e1-252d-4ade-9160-a65df2b6d3a2",
   "metadata": {},
   "source": [
    "---\n",
    "### Find item correlations:\n",
    "In this case, the item correlations (seem to) come from the user ratings. "
   ]
  },
  {
   "cell_type": "code",
   "execution_count": 3,
   "id": "d610d02e-f626-4af9-b670-173ade6cc787",
   "metadata": {},
   "outputs": [
    {
     "data": {
      "text/html": [
       "<div>\n",
       "<style scoped>\n",
       "    .dataframe tbody tr th:only-of-type {\n",
       "        vertical-align: middle;\n",
       "    }\n",
       "\n",
       "    .dataframe tbody tr th {\n",
       "        vertical-align: top;\n",
       "    }\n",
       "\n",
       "    .dataframe thead th {\n",
       "        text-align: right;\n",
       "    }\n",
       "</style>\n",
       "<table border=\"1\" class=\"dataframe\">\n",
       "  <thead>\n",
       "    <tr style=\"text-align: right;\">\n",
       "      <th></th>\n",
       "      <th>Sixth Sense</th>\n",
       "      <th>Sully</th>\n",
       "      <th>Still Alice</th>\n",
       "      <th>Superman</th>\n",
       "      <th>DodgeBall</th>\n",
       "      <th>Parasite</th>\n",
       "    </tr>\n",
       "  </thead>\n",
       "  <tbody>\n",
       "    <tr>\n",
       "      <th>Sixth Sense</th>\n",
       "      <td>1.000000</td>\n",
       "      <td>0.763763</td>\n",
       "      <td>-0.944911</td>\n",
       "      <td>0.487950</td>\n",
       "      <td>0.333333</td>\n",
       "      <td>-1.000000</td>\n",
       "    </tr>\n",
       "    <tr>\n",
       "      <th>Sully</th>\n",
       "      <td>0.763763</td>\n",
       "      <td>1.000000</td>\n",
       "      <td>-0.333333</td>\n",
       "      <td>0.111803</td>\n",
       "      <td>-0.645497</td>\n",
       "      <td>-0.633866</td>\n",
       "    </tr>\n",
       "    <tr>\n",
       "      <th>Still Alice</th>\n",
       "      <td>-0.944911</td>\n",
       "      <td>-0.333333</td>\n",
       "      <td>1.000000</td>\n",
       "      <td>-0.422890</td>\n",
       "      <td>-0.485662</td>\n",
       "      <td>0.944911</td>\n",
       "    </tr>\n",
       "    <tr>\n",
       "      <th>Superman</th>\n",
       "      <td>0.487950</td>\n",
       "      <td>0.111803</td>\n",
       "      <td>-0.422890</td>\n",
       "      <td>1.000000</td>\n",
       "      <td>0.657952</td>\n",
       "      <td>-0.296464</td>\n",
       "    </tr>\n",
       "    <tr>\n",
       "      <th>DodgeBall</th>\n",
       "      <td>0.333333</td>\n",
       "      <td>-0.645497</td>\n",
       "      <td>-0.485662</td>\n",
       "      <td>0.657952</td>\n",
       "      <td>1.000000</td>\n",
       "      <td>-0.333333</td>\n",
       "    </tr>\n",
       "    <tr>\n",
       "      <th>Parasite</th>\n",
       "      <td>-1.000000</td>\n",
       "      <td>-0.633866</td>\n",
       "      <td>0.944911</td>\n",
       "      <td>-0.296464</td>\n",
       "      <td>-0.333333</td>\n",
       "      <td>1.000000</td>\n",
       "    </tr>\n",
       "  </tbody>\n",
       "</table>\n",
       "</div>"
      ],
      "text/plain": [
       "             Sixth Sense     Sully  Still Alice  Superman  DodgeBall  Parasite\n",
       "Sixth Sense     1.000000  0.763763    -0.944911  0.487950   0.333333 -1.000000\n",
       "Sully           0.763763  1.000000    -0.333333  0.111803  -0.645497 -0.633866\n",
       "Still Alice    -0.944911 -0.333333     1.000000 -0.422890  -0.485662  0.944911\n",
       "Superman        0.487950  0.111803    -0.422890  1.000000   0.657952 -0.296464\n",
       "DodgeBall       0.333333 -0.645497    -0.485662  0.657952   1.000000 -0.333333\n",
       "Parasite       -1.000000 -0.633866     0.944911 -0.296464  -0.333333  1.000000"
      ]
     },
     "execution_count": 3,
     "metadata": {},
     "output_type": "execute_result"
    }
   ],
   "source": [
    "item_corr = item_df.corr()\n",
    "item_corr"
   ]
  },
  {
   "cell_type": "markdown",
   "id": "ccf4cbdd-8727-461c-9318-8882ddbbabb0",
   "metadata": {},
   "source": [
    "---\n",
    "### Define item similarity function:\n",
    "$$\n",
    "\\text{Similarity score }= \\text{average ratings for $target\\ user$ } + \\frac{\\sum_\\limits{other\\ items} \\text{($other\\ items$ similarity to $target\\ item$)} * \\text{(($target\\ user$ ratings for $target\\ item$}) - (\\text{$target\\ user$ average ratings)})}{\\sum_\\limits{other\\ items}|\\text{$other\\ items$ similarity to $target\\ item$}|}\n",
    "$$\n",
    "(See page 229)"
   ]
  },
  {
   "cell_type": "code",
   "execution_count": 4,
   "id": "245cc654-c654-4dc4-b5fe-ec8803aae215",
   "metadata": {},
   "outputs": [],
   "source": [
    "def item_based_similarity(user_df, item_corr_df, target_user, target_item):\n",
    "    # calculate target user's mean rating:\n",
    "    target_user_mean_rating = np.array(round(user_df.loc[target_user].mean(), 2))\n",
    "    \n",
    "    # drop target item from user df (to avoid computing its values in the formula):\n",
    "    user_df.drop(target_item, axis=1, inplace=True)\n",
    "    \n",
    "    # drop target item from correlation df (to avoid computing its values in the formula):\n",
    "    item_corr_df.drop(target_item, axis=1, inplace=True)\n",
    "    \n",
    "    # get other item's correlation to target item (long var name, I know...):\n",
    "    other_items_corr_to_target_item = np.array(round(item_corr_df.loc[target_item], 2))\n",
    "    \n",
    "    # get target user's rating for other movies:\n",
    "    target_user_ratings_other_items = np.array(round(user_df.loc[target_user], 2))\n",
    "    \n",
    "    # get the index of unrated (nan) item values:\n",
    "    unrated = np.argwhere(np.isnan(target_user_ratings_other_items))\n",
    "    \n",
    "    # set correlations to NaN for unrated items (to avoid calculating lift and denominator for unrated items):\n",
    "    # i.e. if user hasnt rated other items, then correlations are irrelevant.\n",
    "    for item in unrated:\n",
    "        other_items_corr_to_target_item[item] = np.nan\n",
    "    \n",
    "    # compute similarity score:\n",
    "    lift = np.nansum(target_user_ratings_other_items - target_user_mean_rating)\n",
    "    numerator = np.nansum(other_items_corr_to_target_item * lift)\n",
    "    denominator = np.nansum(abs(other_items_corr_to_target_item))\n",
    "    \n",
    "    # score:\n",
    "    sim_score = np.round(target_user_mean_rating + (numerator / denominator), 2)\n",
    "    \n",
    "    return sim_score"
   ]
  },
  {
   "cell_type": "code",
   "execution_count": 5,
   "id": "e4e703f9-cbd2-4c05-8245-b13831be1ea5",
   "metadata": {},
   "outputs": [
    {
     "data": {
      "text/plain": [
       "3.18"
      ]
     },
     "execution_count": 5,
     "metadata": {},
     "output_type": "execute_result"
    }
   ],
   "source": [
    "item_based_similarity(item_df, item_corr, 'Theresa', 'Still Alice')"
   ]
  },
  {
   "cell_type": "markdown",
   "id": "98a3ba15-230e-44ab-83b7-f4629d668e3f",
   "metadata": {},
   "source": [
    "**Note:** as per the text, Amazon uses item-based collaborative filtering since it is supposed to be more stable over time than user-based collaborative filtering. This is partly because the matrix of user correlations needs to be updated more frequently."
   ]
  },
  {
   "cell_type": "markdown",
   "id": "1a0a532b-68f2-43a2-a5b8-4aa24a417e03",
   "metadata": {},
   "source": [
    "---"
   ]
  }
 ],
 "metadata": {
  "kernelspec": {
   "display_name": "Python 3 (ipykernel)",
   "language": "python",
   "name": "python3"
  },
  "language_info": {
   "codemirror_mode": {
    "name": "ipython",
    "version": 3
   },
   "file_extension": ".py",
   "mimetype": "text/x-python",
   "name": "python",
   "nbconvert_exporter": "python",
   "pygments_lexer": "ipython3",
   "version": "3.7.9"
  }
 },
 "nbformat": 4,
 "nbformat_minor": 5
}
